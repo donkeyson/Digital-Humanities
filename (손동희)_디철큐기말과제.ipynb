{
  "nbformat": 4,
  "nbformat_minor": 0,
  "metadata": {
    "colab": {
      "name": "(손동희) 디철큐기말과제.ipynb",
      "provenance": [],
      "collapsed_sections": [],
      "mount_file_id": "1Fe2KepjGQyptQ6g6g5ayk1TiWVUzlrgH",
      "authorship_tag": "ABX9TyMYGqmmTn5brD3zatLAVGfR",
      "include_colab_link": true
    },
    "kernelspec": {
      "name": "python3",
      "display_name": "Python 3"
    },
    "language_info": {
      "name": "python"
    }
  },
  "cells": [
    {
      "cell_type": "markdown",
      "metadata": {
        "id": "view-in-github",
        "colab_type": "text"
      },
      "source": [
        "<a href=\"https://colab.research.google.com/github/donkeyson/Digital-Humanities/blob/main/(%EC%86%90%EB%8F%99%ED%9D%AC)_%EB%94%94%EC%B2%A0%ED%81%90%EA%B8%B0%EB%A7%90%EA%B3%BC%EC%A0%9C.ipynb\" target=\"_parent\"><img src=\"https://colab.research.google.com/assets/colab-badge.svg\" alt=\"Open In Colab\"/></a>"
      ]
    },
    {
      "cell_type": "markdown",
      "source": [
        "목표\n",
        "\n",
        "\n",
        "1. 『소유냐존재냐』 분석을 통해 에리히 프롬의 저술 방식 분석\n",
        "2.  텍스트의 저술 패턴을 분석하고 단어 출현 빈도 분석을 통해 글의 핵심을 파악하기\n",
        "3. 프롬의 저술 패턴 분석을 통해 간접적으로 저술의 의도를 추정\n",
        "\n",
        "세부 목표\n",
        "\n",
        "\n",
        "\n",
        "\n",
        "\n",
        "\n",
        "1.   각 장을 문장, 형태소 별로 분리\n",
        "2.   형태소 중 각 장에서 가장 많이 사용된 핵심어를 추출\n",
        "3. 핵심어가 사용된 문장의 위치를 추출하고 장 별로 출현 위치의 유사성과 규칙성을 분석\n",
        "4. 분석 자료를 토대로 프롬의 텍스트에서 글의 의도와 핵심을 추측\n",
        "\n",
        "\n",
        "\n"
      ],
      "metadata": {
        "id": "BqU9-rd_c0oh"
      }
    },
    {
      "cell_type": "code",
      "source": [
        "!sudo apt-get install -y fonts-nanum\n",
        "!sudo fc-cache -fv\n",
        "!rm ~/.cache/matplotlib -rf\n",
        "import matplotlib.pyplot as plt\n",
        "plt.rc('font', family='NanumBarunGothic')"
      ],
      "metadata": {
        "colab": {
          "base_uri": "https://localhost:8080/"
        },
        "id": "QOdqu8Kzc0HI",
        "outputId": "d6aa3b72-c747-4cce-8659-8be6b3b0cdb7"
      },
      "execution_count": null,
      "outputs": [
        {
          "output_type": "stream",
          "name": "stdout",
          "text": [
            "Reading package lists... Done\n",
            "Building dependency tree       \n",
            "Reading state information... Done\n",
            "fonts-nanum is already the newest version (20170925-1).\n",
            "0 upgraded, 0 newly installed, 0 to remove and 37 not upgraded.\n",
            "/usr/share/fonts: caching, new cache contents: 0 fonts, 1 dirs\n",
            "/usr/share/fonts/truetype: caching, new cache contents: 0 fonts, 3 dirs\n",
            "/usr/share/fonts/truetype/humor-sans: caching, new cache contents: 1 fonts, 0 dirs\n",
            "/usr/share/fonts/truetype/liberation: caching, new cache contents: 16 fonts, 0 dirs\n",
            "/usr/share/fonts/truetype/nanum: caching, new cache contents: 10 fonts, 0 dirs\n",
            "/usr/local/share/fonts: caching, new cache contents: 0 fonts, 0 dirs\n",
            "/root/.local/share/fonts: skipping, no such directory\n",
            "/root/.fonts: skipping, no such directory\n",
            "/var/cache/fontconfig: cleaning cache directory\n",
            "/root/.cache/fontconfig: not cleaning non-existent cache directory\n",
            "/root/.fontconfig: not cleaning non-existent cache directory\n",
            "fc-cache: succeeded\n"
          ]
        }
      ]
    },
    {
      "cell_type": "code",
      "execution_count": null,
      "metadata": {
        "colab": {
          "base_uri": "https://localhost:8080/"
        },
        "id": "U9Y9fTBWcxNz",
        "outputId": "f9347222-d466-4396-ad2c-877e1f307362"
      },
      "outputs": [
        {
          "output_type": "stream",
          "name": "stdout",
          "text": [
            "Collecting konlpy\n",
            "  Downloading konlpy-0.5.2-py2.py3-none-any.whl (19.4 MB)\n",
            "\u001b[K     |████████████████████████████████| 19.4 MB 1.3 MB/s \n",
            "\u001b[?25hCollecting colorama\n",
            "  Downloading colorama-0.4.4-py2.py3-none-any.whl (16 kB)\n",
            "Requirement already satisfied: numpy>=1.6 in /usr/local/lib/python3.7/dist-packages (from konlpy) (1.19.5)\n",
            "Requirement already satisfied: tweepy>=3.7.0 in /usr/local/lib/python3.7/dist-packages (from konlpy) (3.10.0)\n",
            "Collecting JPype1>=0.7.0\n",
            "  Downloading JPype1-1.3.0-cp37-cp37m-manylinux_2_5_x86_64.manylinux1_x86_64.whl (448 kB)\n",
            "\u001b[K     |████████████████████████████████| 448 kB 43.3 MB/s \n",
            "\u001b[?25hRequirement already satisfied: lxml>=4.1.0 in /usr/local/lib/python3.7/dist-packages (from konlpy) (4.2.6)\n",
            "Collecting beautifulsoup4==4.6.0\n",
            "  Downloading beautifulsoup4-4.6.0-py3-none-any.whl (86 kB)\n",
            "\u001b[K     |████████████████████████████████| 86 kB 5.3 MB/s \n",
            "\u001b[?25hRequirement already satisfied: typing-extensions in /usr/local/lib/python3.7/dist-packages (from JPype1>=0.7.0->konlpy) (3.10.0.2)\n",
            "Requirement already satisfied: six>=1.10.0 in /usr/local/lib/python3.7/dist-packages (from tweepy>=3.7.0->konlpy) (1.15.0)\n",
            "Requirement already satisfied: requests[socks]>=2.11.1 in /usr/local/lib/python3.7/dist-packages (from tweepy>=3.7.0->konlpy) (2.23.0)\n",
            "Requirement already satisfied: requests-oauthlib>=0.7.0 in /usr/local/lib/python3.7/dist-packages (from tweepy>=3.7.0->konlpy) (1.3.0)\n",
            "Requirement already satisfied: oauthlib>=3.0.0 in /usr/local/lib/python3.7/dist-packages (from requests-oauthlib>=0.7.0->tweepy>=3.7.0->konlpy) (3.1.1)\n",
            "Requirement already satisfied: certifi>=2017.4.17 in /usr/local/lib/python3.7/dist-packages (from requests[socks]>=2.11.1->tweepy>=3.7.0->konlpy) (2021.10.8)\n",
            "Requirement already satisfied: idna<3,>=2.5 in /usr/local/lib/python3.7/dist-packages (from requests[socks]>=2.11.1->tweepy>=3.7.0->konlpy) (2.10)\n",
            "Requirement already satisfied: urllib3!=1.25.0,!=1.25.1,<1.26,>=1.21.1 in /usr/local/lib/python3.7/dist-packages (from requests[socks]>=2.11.1->tweepy>=3.7.0->konlpy) (1.24.3)\n",
            "Requirement already satisfied: chardet<4,>=3.0.2 in /usr/local/lib/python3.7/dist-packages (from requests[socks]>=2.11.1->tweepy>=3.7.0->konlpy) (3.0.4)\n",
            "Requirement already satisfied: PySocks!=1.5.7,>=1.5.6 in /usr/local/lib/python3.7/dist-packages (from requests[socks]>=2.11.1->tweepy>=3.7.0->konlpy) (1.7.1)\n",
            "Installing collected packages: JPype1, colorama, beautifulsoup4, konlpy\n",
            "  Attempting uninstall: beautifulsoup4\n",
            "    Found existing installation: beautifulsoup4 4.6.3\n",
            "    Uninstalling beautifulsoup4-4.6.3:\n",
            "      Successfully uninstalled beautifulsoup4-4.6.3\n",
            "Successfully installed JPype1-1.3.0 beautifulsoup4-4.6.0 colorama-0.4.4 konlpy-0.5.2\n"
          ]
        }
      ],
      "source": [
        "!pip install konlpy"
      ]
    },
    {
      "cell_type": "code",
      "source": [
        "import pandas as pd"
      ],
      "metadata": {
        "id": "2YmRKObafJ9r"
      },
      "execution_count": null,
      "outputs": []
    },
    {
      "cell_type": "markdown",
      "source": [
        "초기작업\n",
        "\n",
        "\n",
        "*   작업의 편의성을 위해 폰트와 형태소 분석기를 설치하고 시작\n",
        "*   데이터 처리 과정에서 자주 사용하게 될 pandas를 import\n",
        "\n",
        "\n",
        "\n"
      ],
      "metadata": {
        "id": "5cXptu1Ae8o0"
      }
    },
    {
      "cell_type": "code",
      "source": [
        "chap_sections = [] #각 장들을 저장할 리스트\n",
        "for i in range(1, 10):\n",
        "  with open(f\"/content/drive/MyDrive/Colab Notebooks/2021-2 디지털기반철학큐레이팅/data/havebe/chap{i}sections.txt\", \"r\") as f:\n",
        "    chap_split = [line.strip() for line in f]\n",
        "    chap_sections.append(chap_split)\n",
        "chap_sections_one = [] #챕터들을 한 문장으로 변환해서 저장할 리스트\n",
        "for i in range(9):\n",
        "  chap_sections_one.append(\"\".join(chap_sections[i]))"
      ],
      "metadata": {
        "id": "GF_9EXeYf3Cd"
      },
      "execution_count": null,
      "outputs": []
    },
    {
      "cell_type": "markdown",
      "source": [
        "분석할 텍스트 불러오기\n",
        "\n",
        "*   9개의 장을 모두 불러오기\n",
        "*   나눠진 챕터를 한 줄로 바꿔서 저장\n",
        "\n"
      ],
      "metadata": {
        "id": "SOKV3fdsi-Uf"
      }
    },
    {
      "cell_type": "code",
      "source": [
        "sentences = [] #문장들을 저장할 리스트\n",
        "for i in range(9):\n",
        "  sentences.append(chap_sections_one[i].split('.'))"
      ],
      "metadata": {
        "id": "0fFPZ1S_kLv8"
      },
      "execution_count": null,
      "outputs": []
    },
    {
      "cell_type": "markdown",
      "source": [
        "마침표를 기준으로 각 챕터의 문장들을 분할해서 이중 리스트로 저장"
      ],
      "metadata": {
        "id": "LFxd4lT6koMc"
      }
    },
    {
      "cell_type": "code",
      "source": [
        "from konlpy.tag import Okt\n",
        "okt = Okt()"
      ],
      "metadata": {
        "id": "Uw0YokAXh33H"
      },
      "execution_count": null,
      "outputs": []
    },
    {
      "cell_type": "markdown",
      "source": [
        "형태소 분석을 위해 Okt import"
      ],
      "metadata": {
        "id": "1FQzQY9NkBBD"
      }
    },
    {
      "cell_type": "code",
      "source": [
        "nouns = [] #명사들을 저장할 리스트\n",
        "\n",
        "for i in chap_sections_one:\n",
        "  nouns.append(okt.nouns(i))  "
      ],
      "metadata": {
        "id": "_cvyo6tBjeYP"
      },
      "execution_count": null,
      "outputs": []
    },
    {
      "cell_type": "markdown",
      "source": [
        "명사 추출\n",
        "\n",
        "\n",
        "*   Okt를 이용해 각장의 명사들을 추출해서 리스트에 저장\n",
        "*   하나의 장을 한 문자열로 저장한 리스트를 활용\n",
        "\n"
      ],
      "metadata": {
        "id": "HmAUUwkbow_Z"
      }
    },
    {
      "cell_type": "code",
      "source": [
        "df = pd.DataFrame(nouns[0], columns=['nouns'])\n",
        "df['Chapter'] = 1\n",
        "\n",
        "\n",
        "for i in range(len(nouns)-1):\n",
        "  df_a = pd.DataFrame(nouns[i+1], columns=['nouns'])\n",
        "  df_a['Chapter'] = i+2\n",
        "  df = df.merge(df_a, how = 'outer')\n",
        "\n",
        "df"
      ],
      "metadata": {
        "id": "qtrRLPPBnrwQ",
        "colab": {
          "base_uri": "https://localhost:8080/",
          "height": 423
        },
        "outputId": "c33fc46b-1b85-4064-9304-b02023213605"
      },
      "execution_count": null,
      "outputs": [
        {
          "output_type": "execute_result",
          "data": {
            "text/html": [
              "\n",
              "  <div id=\"df-8df188f8-2afc-461e-bc6f-32a1b6e5d9ae\">\n",
              "    <div class=\"colab-df-container\">\n",
              "      <div>\n",
              "<style scoped>\n",
              "    .dataframe tbody tr th:only-of-type {\n",
              "        vertical-align: middle;\n",
              "    }\n",
              "\n",
              "    .dataframe tbody tr th {\n",
              "        vertical-align: top;\n",
              "    }\n",
              "\n",
              "    .dataframe thead th {\n",
              "        text-align: right;\n",
              "    }\n",
              "</style>\n",
              "<table border=\"1\" class=\"dataframe\">\n",
              "  <thead>\n",
              "    <tr style=\"text-align: right;\">\n",
              "      <th></th>\n",
              "      <th>nouns</th>\n",
              "      <th>Chapter</th>\n",
              "    </tr>\n",
              "  </thead>\n",
              "  <tbody>\n",
              "    <tr>\n",
              "      <th>0</th>\n",
              "      <td>소유</td>\n",
              "      <td>1</td>\n",
              "    </tr>\n",
              "    <tr>\n",
              "      <th>1</th>\n",
              "      <td>소유</td>\n",
              "      <td>1</td>\n",
              "    </tr>\n",
              "    <tr>\n",
              "      <th>2</th>\n",
              "      <td>소유</td>\n",
              "      <td>1</td>\n",
              "    </tr>\n",
              "    <tr>\n",
              "      <th>3</th>\n",
              "      <td>소유</td>\n",
              "      <td>1</td>\n",
              "    </tr>\n",
              "    <tr>\n",
              "      <th>4</th>\n",
              "      <td>소유</td>\n",
              "      <td>1</td>\n",
              "    </tr>\n",
              "    <tr>\n",
              "      <th>...</th>\n",
              "      <td>...</td>\n",
              "      <td>...</td>\n",
              "    </tr>\n",
              "    <tr>\n",
              "      <th>39558</th>\n",
              "      <td>르네상스</td>\n",
              "      <td>9</td>\n",
              "    </tr>\n",
              "    <tr>\n",
              "      <th>39559</th>\n",
              "      <td>빚</td>\n",
              "      <td>9</td>\n",
              "    </tr>\n",
              "    <tr>\n",
              "      <th>39560</th>\n",
              "      <td>발달</td>\n",
              "      <td>9</td>\n",
              "    </tr>\n",
              "    <tr>\n",
              "      <th>39561</th>\n",
              "      <td>유인</td>\n",
              "      <td>9</td>\n",
              "    </tr>\n",
              "    <tr>\n",
              "      <th>39562</th>\n",
              "      <td>대안</td>\n",
              "      <td>9</td>\n",
              "    </tr>\n",
              "  </tbody>\n",
              "</table>\n",
              "<p>39563 rows × 2 columns</p>\n",
              "</div>\n",
              "      <button class=\"colab-df-convert\" onclick=\"convertToInteractive('df-8df188f8-2afc-461e-bc6f-32a1b6e5d9ae')\"\n",
              "              title=\"Convert this dataframe to an interactive table.\"\n",
              "              style=\"display:none;\">\n",
              "        \n",
              "  <svg xmlns=\"http://www.w3.org/2000/svg\" height=\"24px\"viewBox=\"0 0 24 24\"\n",
              "       width=\"24px\">\n",
              "    <path d=\"M0 0h24v24H0V0z\" fill=\"none\"/>\n",
              "    <path d=\"M18.56 5.44l.94 2.06.94-2.06 2.06-.94-2.06-.94-.94-2.06-.94 2.06-2.06.94zm-11 1L8.5 8.5l.94-2.06 2.06-.94-2.06-.94L8.5 2.5l-.94 2.06-2.06.94zm10 10l.94 2.06.94-2.06 2.06-.94-2.06-.94-.94-2.06-.94 2.06-2.06.94z\"/><path d=\"M17.41 7.96l-1.37-1.37c-.4-.4-.92-.59-1.43-.59-.52 0-1.04.2-1.43.59L10.3 9.45l-7.72 7.72c-.78.78-.78 2.05 0 2.83L4 21.41c.39.39.9.59 1.41.59.51 0 1.02-.2 1.41-.59l7.78-7.78 2.81-2.81c.8-.78.8-2.07 0-2.86zM5.41 20L4 18.59l7.72-7.72 1.47 1.35L5.41 20z\"/>\n",
              "  </svg>\n",
              "      </button>\n",
              "      \n",
              "  <style>\n",
              "    .colab-df-container {\n",
              "      display:flex;\n",
              "      flex-wrap:wrap;\n",
              "      gap: 12px;\n",
              "    }\n",
              "\n",
              "    .colab-df-convert {\n",
              "      background-color: #E8F0FE;\n",
              "      border: none;\n",
              "      border-radius: 50%;\n",
              "      cursor: pointer;\n",
              "      display: none;\n",
              "      fill: #1967D2;\n",
              "      height: 32px;\n",
              "      padding: 0 0 0 0;\n",
              "      width: 32px;\n",
              "    }\n",
              "\n",
              "    .colab-df-convert:hover {\n",
              "      background-color: #E2EBFA;\n",
              "      box-shadow: 0px 1px 2px rgba(60, 64, 67, 0.3), 0px 1px 3px 1px rgba(60, 64, 67, 0.15);\n",
              "      fill: #174EA6;\n",
              "    }\n",
              "\n",
              "    [theme=dark] .colab-df-convert {\n",
              "      background-color: #3B4455;\n",
              "      fill: #D2E3FC;\n",
              "    }\n",
              "\n",
              "    [theme=dark] .colab-df-convert:hover {\n",
              "      background-color: #434B5C;\n",
              "      box-shadow: 0px 1px 3px 1px rgba(0, 0, 0, 0.15);\n",
              "      filter: drop-shadow(0px 1px 2px rgba(0, 0, 0, 0.3));\n",
              "      fill: #FFFFFF;\n",
              "    }\n",
              "  </style>\n",
              "\n",
              "      <script>\n",
              "        const buttonEl =\n",
              "          document.querySelector('#df-8df188f8-2afc-461e-bc6f-32a1b6e5d9ae button.colab-df-convert');\n",
              "        buttonEl.style.display =\n",
              "          google.colab.kernel.accessAllowed ? 'block' : 'none';\n",
              "\n",
              "        async function convertToInteractive(key) {\n",
              "          const element = document.querySelector('#df-8df188f8-2afc-461e-bc6f-32a1b6e5d9ae');\n",
              "          const dataTable =\n",
              "            await google.colab.kernel.invokeFunction('convertToInteractive',\n",
              "                                                     [key], {});\n",
              "          if (!dataTable) return;\n",
              "\n",
              "          const docLinkHtml = 'Like what you see? Visit the ' +\n",
              "            '<a target=\"_blank\" href=https://colab.research.google.com/notebooks/data_table.ipynb>data table notebook</a>'\n",
              "            + ' to learn more about interactive tables.';\n",
              "          element.innerHTML = '';\n",
              "          dataTable['output_type'] = 'display_data';\n",
              "          await google.colab.output.renderOutput(dataTable, element);\n",
              "          const docLink = document.createElement('div');\n",
              "          docLink.innerHTML = docLinkHtml;\n",
              "          element.appendChild(docLink);\n",
              "        }\n",
              "      </script>\n",
              "    </div>\n",
              "  </div>\n",
              "  "
            ],
            "text/plain": [
              "      nouns  Chapter\n",
              "0        소유        1\n",
              "1        소유        1\n",
              "2        소유        1\n",
              "3        소유        1\n",
              "4        소유        1\n",
              "...     ...      ...\n",
              "39558  르네상스        9\n",
              "39559     빚        9\n",
              "39560    발달        9\n",
              "39561    유인        9\n",
              "39562    대안        9\n",
              "\n",
              "[39563 rows x 2 columns]"
            ]
          },
          "metadata": {},
          "execution_count": 8
        }
      ]
    },
    {
      "cell_type": "markdown",
      "source": [
        "pandas으로 데이터 프레임 만들기\n",
        "\n",
        "\n",
        "*   9개의 챕터의 명사들을 통합해서 데이터 프레임으로 만들기\n",
        "*   챕터 column으로 각 챕터의 단어를 구별\n",
        "\n"
      ],
      "metadata": {
        "id": "T9OBxYCZA21o"
      }
    },
    {
      "cell_type": "code",
      "source": [
        "df[\"nouns\"].value_counts()"
      ],
      "metadata": {
        "colab": {
          "base_uri": "https://localhost:8080/"
        },
        "id": "SVpWVqhsA2d8",
        "outputId": "945b104b-5cc9-4cf3-9650-afaf8e73ce47"
      },
      "execution_count": null,
      "outputs": [
        {
          "output_type": "execute_result",
          "data": {
            "text/plain": [
              "것       1009\n",
              "그        715\n",
              "이        498\n",
              "수        488\n",
              "인간       424\n",
              "        ... \n",
              "힉습자료       1\n",
              "두드         1\n",
              "종대         1\n",
              "교섭         1\n",
              "유석         1\n",
              "Name: nouns, Length: 7258, dtype: int64"
            ]
          },
          "metadata": {},
          "execution_count": 9
        }
      ]
    },
    {
      "cell_type": "markdown",
      "source": [
        "단어의 빈도 수 측정\n",
        "\n",
        "\n",
        "*   value_counts()를 통해 확인 결과 의미없는 의존명사의 빈도수가 높게 측정됐다.\n",
        "*   원활한 데이터 분석을 위해 상위 4개의 대명사와 의존명사를 삭제하기로 했다.\n",
        "\n"
      ],
      "metadata": {
        "id": "r3YdY1Z1Bra3"
      }
    },
    {
      "cell_type": "code",
      "source": [
        "index1 = df[df['nouns'] == '것'].index\n",
        "index2 = df[df['nouns'] == '그'].index\n",
        "index3 = df[df['nouns'] == '이'].index\n",
        "index4 = df[df['nouns'] == '수'].index\n",
        "            \n",
        "df.drop(index1, inplace=True)\n",
        "df.drop(index2, inplace=True)\n",
        "df.drop(index3, inplace=True)\n",
        "df.drop(index4, inplace=True)\n",
        "\n",
        "df['nouns'].value_counts()"
      ],
      "metadata": {
        "colab": {
          "base_uri": "https://localhost:8080/"
        },
        "id": "mFHreo2MBokO",
        "outputId": "042c2734-2856-40d1-bc89-c31049e14966"
      },
      "execution_count": null,
      "outputs": [
        {
          "output_type": "execute_result",
          "data": {
            "text/plain": [
              "인간    424\n",
              "우리    386\n",
              "소유    372\n",
              "사회    307\n",
              "옵     245\n",
              "     ... \n",
              "종대      1\n",
              "교섭      1\n",
              "문호      1\n",
              "잠수      1\n",
              "유석      1\n",
              "Name: nouns, Length: 7254, dtype: int64"
            ]
          },
          "metadata": {},
          "execution_count": 10
        }
      ]
    },
    {
      "cell_type": "markdown",
      "source": [
        "데이터 정제 결과 가장 많이 출현한 명사는 인간, 우리, 소유, 사회였다."
      ],
      "metadata": {
        "id": "x3fVrNZ5Epib"
      }
    },
    {
      "cell_type": "code",
      "source": [
        "df[\"nouns\"].value_counts()[:10].plot(kind='bar')"
      ],
      "metadata": {
        "colab": {
          "base_uri": "https://localhost:8080/",
          "height": 291
        },
        "id": "8bwaPnnsZxJ7",
        "outputId": "85e4d579-69e8-4775-9fac-fa1275da9466"
      },
      "execution_count": null,
      "outputs": [
        {
          "output_type": "execute_result",
          "data": {
            "text/plain": [
              "<matplotlib.axes._subplots.AxesSubplot at 0x7f427e024810>"
            ]
          },
          "metadata": {},
          "execution_count": 11
        },
        {
          "output_type": "display_data",
          "data": {
            "image/png": "[encoded data removed]",
            "text/plain": [
              "<Figure size 432x288 with 1 Axes>"
            ]
          },
          "metadata": {
            "needs_background": "light"
          }
        }
      ]
    },
    {
      "cell_type": "markdown",
      "source": [
        "위의 데이터를 차트로 나타낸 결과이다. '옵', '그것', '대한' 등 아직 정제해야할 데이터가 더 보인다."
      ],
      "metadata": {
        "id": "QexpHSkXaY6F"
      }
    },
    {
      "cell_type": "code",
      "source": [
        "index1 = df[df['nouns'] == '옵'].index\n",
        "index2 = df[df['nouns'] == '그것'].index\n",
        "index3 = df[df['nouns'] == '대한'].index\n",
        "index4 = df[df['nouns'] == '말'].index\n",
        "index5 = df[df['nouns'] == '가지'].index\n",
        "index6 = df[df['nouns'] == '의'].index\n",
        "index7 = df[df['nouns'] == '둘'].index\n",
        "index8 = df[df['nouns'] == '윤'].index\n",
        "\n",
        "            \n",
        "df.drop(index1, inplace=True)\n",
        "df.drop(index2, inplace=True)\n",
        "df.drop(index3, inplace=True)\n",
        "df.drop(index4, inplace=True)\n",
        "df.drop(index5, inplace=True)\n",
        "df.drop(index6, inplace=True)\n",
        "df.drop(index7, inplace=True)\n",
        "df.drop(index8, inplace=True)"
      ],
      "metadata": {
        "id": "ir0WY2vnatr3"
      },
      "execution_count": null,
      "outputs": []
    },
    {
      "cell_type": "markdown",
      "source": [
        "상위 10개의 단어가 의미 있는 단어로 채워지게 수정 작업을 했다."
      ],
      "metadata": {
        "id": "Ssk_GYeWb34o"
      }
    },
    {
      "cell_type": "code",
      "source": [
        "df['nouns'].value_counts()[:10].plot(kind='bar')"
      ],
      "metadata": {
        "colab": {
          "base_uri": "https://localhost:8080/",
          "height": 291
        },
        "id": "6TmH2Irva4sy",
        "outputId": "b525583b-364e-45d2-f864-994a4bf0e99b"
      },
      "execution_count": null,
      "outputs": [
        {
          "output_type": "execute_result",
          "data": {
            "text/plain": [
              "<matplotlib.axes._subplots.AxesSubplot at 0x7f425d2ba890>"
            ]
          },
          "metadata": {},
          "execution_count": 13
        },
        {
          "output_type": "display_data",
          "data": {
            "image/png": "[encoded data removed]",
            "text/plain": [
              "<Figure size 432x288 with 1 Axes>"
            ]
          },
          "metadata": {
            "needs_background": "light"
          }
        }
      ]
    },
    {
      "cell_type": "markdown",
      "source": [
        "『소유냐존재냐』형태소 분석의 의미\n",
        "\n",
        "\n",
        "*   출현한 단어의 빈도를 통해 『소유냐존재냐』의 핵심 키워드를 파악할 수 있다.\n",
        "*   흥미로운 점은 '소유'와 '존재'보다 '인간'과 '우리'가 많이 사용되었다는 점과 '소유'가 존재보다 더 많이 사용되었다는 점이다.\n",
        "*   또한, 인간과 우리라는 표현이 많이 사용됬다는 점은 세 가지 정도의 시사점을 드러낸다.\n",
        "\n",
        "\n",
        "    1.   '인간'이라는 명사가 많이 출현했다는 점은 이 책을 모르는 사람이 봐도 이 책을 인문학으로 추론할 수 있는 근거이다. \n",
        "    2.   즉 '인간'이라는 단어의 사용 빈도는 서적의 장르를 규정할 수 있는 근거 중 하나이다.\n",
        "    3.   '우리'라는 단어가 많이 출현했다는 점은 프롬이 공동체 의식에 대해 말하고 있을 가능성을 시사한다."
      ],
      "metadata": {
        "id": "lWUeeAXIcLyO"
      }
    },
    {
      "cell_type": "code",
      "source": [
        "index1 = df[df['nouns'] == '공동체'].index\n",
        "print(index1)"
      ],
      "metadata": {
        "colab": {
          "base_uri": "https://localhost:8080/"
        },
        "id": "OsUGbF3Ed579",
        "outputId": "cc5532fd-256b-430c-e79f-878d09182fe7"
      },
      "execution_count": null,
      "outputs": [
        {
          "output_type": "stream",
          "name": "stdout",
          "text": [
            "Int64Index([ 9429,  9430,  9431,  9432,  9433, 18276, 18277, 31535, 31536,\n",
            "            31537, 37454, 37455, 37456, 37457],\n",
            "           dtype='int64')\n"
          ]
        }
      ]
    },
    {
      "cell_type": "markdown",
      "source": [
        "실제로 『소유냐존재냐』에는 '**공동체**'가 수차례 등장하고 있다.\n",
        "추후에 핵심 키워드들이 문장에서 사용되는 방식을 분석하고 **'공동체'와 키워드의 관계**를 추적할 것이다."
      ],
      "metadata": {
        "id": "2HhDUrS7eJho"
      }
    },
    {
      "cell_type": "code",
      "source": [
        "df_s = pd.DataFrame(sentences[0], columns=['sentences']) #챕터1의 문장들을 저장하는 데이터 프레임\n",
        "df_s['Chapter'] = 1 #들어간 문장들의 챕터 값을 1로 입력\n",
        "\n",
        "\n",
        "for i in range(len(sentences)-1): #챕터 2부터 9까지 같은 방식으로 합치기\n",
        "  df_b = pd.DataFrame(sentences[i+1], columns=['sentences'])\n",
        "  df_b['Chapter'] = i+2\n",
        "  df_s = df_s.merge(df_b, how = 'outer')"
      ],
      "metadata": {
        "id": "JwIgQjIUCixW"
      },
      "execution_count": null,
      "outputs": []
    },
    {
      "cell_type": "markdown",
      "source": [
        "문장으로 나눈 리스트도 데이터 프레임으로 만들어 준다."
      ],
      "metadata": {
        "id": "3vNT_iusGZCx"
      }
    },
    {
      "cell_type": "code",
      "source": [
        "df_s.reset_index(inplace = True)\n",
        "df_s"
      ],
      "metadata": {
        "colab": {
          "base_uri": "https://localhost:8080/",
          "height": 423
        },
        "id": "yByH9iYEFct_",
        "outputId": "4375b7a7-ef61-41d6-8837-b8e7a7a59045"
      },
      "execution_count": null,
      "outputs": [
        {
          "output_type": "execute_result",
          "data": {
            "text/html": [
              "\n",
              "  <div id=\"df-f9905d91-10c6-4b6a-a490-ef5829bf2c92\">\n",
              "    <div class=\"colab-df-container\">\n",
              "      <div>\n",
              "<style scoped>\n",
              "    .dataframe tbody tr th:only-of-type {\n",
              "        vertical-align: middle;\n",
              "    }\n",
              "\n",
              "    .dataframe tbody tr th {\n",
              "        vertical-align: top;\n",
              "    }\n",
              "\n",
              "    .dataframe thead th {\n",
              "        text-align: right;\n",
              "    }\n",
              "</style>\n",
              "<table border=\"1\" class=\"dataframe\">\n",
              "  <thead>\n",
              "    <tr style=\"text-align: right;\">\n",
              "      <th></th>\n",
              "      <th>index</th>\n",
              "      <th>sentences</th>\n",
              "      <th>Chapter</th>\n",
              "    </tr>\n",
              "  </thead>\n",
              "  <tbody>\n",
              "    <tr>\n",
              "      <th>0</th>\n",
              "      <td>0</td>\n",
              "      <td>소유와 존재의 차이의 중요성 일반적인 상식으로는 소유나 존재냐의 양자백인이 있음 수 없다</td>\n",
              "      <td>1</td>\n",
              "    </tr>\n",
              "    <tr>\n",
              "      <th>1</th>\n",
              "      <td>1</td>\n",
              "      <td>우리의 눈에는 소유한다는 것이 삶에 포함된 극히 정상적인 행위이다</td>\n",
              "      <td>1</td>\n",
              "    </tr>\n",
              "    <tr>\n",
              "      <th>2</th>\n",
              "      <td>2</td>\n",
              "      <td>살기 위해서 우리는 시몽운· 당연히 소유한다</td>\n",
              "      <td>1</td>\n",
              "    </tr>\n",
              "    <tr>\n",
              "      <th>3</th>\n",
              "      <td>3</td>\n",
              "      <td>그뿐이뱌 사-뭉음 줍기기 위해서도 그것을 소유하지 않으면 안 된다, 소유하는 것을...</td>\n",
              "      <td>1</td>\n",
              "    </tr>\n",
              "    <tr>\n",
              "      <th>4</th>\n",
              "      <td>4</td>\n",
              "      <td>아무것도 소유하지 못한 사람은 아무것도 아닌 존재로 여겨지는 실정이다</td>\n",
              "      <td>1</td>\n",
              "    </tr>\n",
              "    <tr>\n",
              "      <th>...</th>\n",
              "      <td>...</td>\n",
              "      <td>...</td>\n",
              "      <td>...</td>\n",
              "    </tr>\n",
              "    <tr>\n",
              "      <th>4089</th>\n",
              "      <td>4089</td>\n",
              "      <td>e)과 반UX,antithesis, Antithese이)  라면 새로운 합(合</td>\n",
              "      <td>9</td>\n",
              "    </tr>\n",
              "    <tr>\n",
              "      <th>4090</th>\n",
              "      <td>4090</td>\n",
              "      <td>synthesis</td>\n",
              "      <td>9</td>\n",
              "    </tr>\n",
              "    <tr>\n",
              "      <th>4091</th>\n",
              "      <td>4091</td>\n",
              "      <td>Synthese)-즉 중세 후기의 종교적 핵심과 르네상스 이후의 과학적 사고 빚개...</td>\n",
              "      <td>9</td>\n",
              "    </tr>\n",
              "    <tr>\n",
              "      <th>4092</th>\n",
              "      <td>4092</td>\n",
              "      <td>이 합이 바로 존재의 도시이다</td>\n",
              "      <td>9</td>\n",
              "    </tr>\n",
              "    <tr>\n",
              "      <th>4093</th>\n",
              "      <td>4093</td>\n",
              "      <td>288</td>\n",
              "      <td>9</td>\n",
              "    </tr>\n",
              "  </tbody>\n",
              "</table>\n",
              "<p>4094 rows × 3 columns</p>\n",
              "</div>\n",
              "      <button class=\"colab-df-convert\" onclick=\"convertToInteractive('df-f9905d91-10c6-4b6a-a490-ef5829bf2c92')\"\n",
              "              title=\"Convert this dataframe to an interactive table.\"\n",
              "              style=\"display:none;\">\n",
              "        \n",
              "  <svg xmlns=\"http://www.w3.org/2000/svg\" height=\"24px\"viewBox=\"0 0 24 24\"\n",
              "       width=\"24px\">\n",
              "    <path d=\"M0 0h24v24H0V0z\" fill=\"none\"/>\n",
              "    <path d=\"M18.56 5.44l.94 2.06.94-2.06 2.06-.94-2.06-.94-.94-2.06-.94 2.06-2.06.94zm-11 1L8.5 8.5l.94-2.06 2.06-.94-2.06-.94L8.5 2.5l-.94 2.06-2.06.94zm10 10l.94 2.06.94-2.06 2.06-.94-2.06-.94-.94-2.06-.94 2.06-2.06.94z\"/><path d=\"M17.41 7.96l-1.37-1.37c-.4-.4-.92-.59-1.43-.59-.52 0-1.04.2-1.43.59L10.3 9.45l-7.72 7.72c-.78.78-.78 2.05 0 2.83L4 21.41c.39.39.9.59 1.41.59.51 0 1.02-.2 1.41-.59l7.78-7.78 2.81-2.81c.8-.78.8-2.07 0-2.86zM5.41 20L4 18.59l7.72-7.72 1.47 1.35L5.41 20z\"/>\n",
              "  </svg>\n",
              "      </button>\n",
              "      \n",
              "  <style>\n",
              "    .colab-df-container {\n",
              "      display:flex;\n",
              "      flex-wrap:wrap;\n",
              "      gap: 12px;\n",
              "    }\n",
              "\n",
              "    .colab-df-convert {\n",
              "      background-color: #E8F0FE;\n",
              "      border: none;\n",
              "      border-radius: 50%;\n",
              "      cursor: pointer;\n",
              "      display: none;\n",
              "      fill: #1967D2;\n",
              "      height: 32px;\n",
              "      padding: 0 0 0 0;\n",
              "      width: 32px;\n",
              "    }\n",
              "\n",
              "    .colab-df-convert:hover {\n",
              "      background-color: #E2EBFA;\n",
              "      box-shadow: 0px 1px 2px rgba(60, 64, 67, 0.3), 0px 1px 3px 1px rgba(60, 64, 67, 0.15);\n",
              "      fill: #174EA6;\n",
              "    }\n",
              "\n",
              "    [theme=dark] .colab-df-convert {\n",
              "      background-color: #3B4455;\n",
              "      fill: #D2E3FC;\n",
              "    }\n",
              "\n",
              "    [theme=dark] .colab-df-convert:hover {\n",
              "      background-color: #434B5C;\n",
              "      box-shadow: 0px 1px 3px 1px rgba(0, 0, 0, 0.15);\n",
              "      filter: drop-shadow(0px 1px 2px rgba(0, 0, 0, 0.3));\n",
              "      fill: #FFFFFF;\n",
              "    }\n",
              "  </style>\n",
              "\n",
              "      <script>\n",
              "        const buttonEl =\n",
              "          document.querySelector('#df-f9905d91-10c6-4b6a-a490-ef5829bf2c92 button.colab-df-convert');\n",
              "        buttonEl.style.display =\n",
              "          google.colab.kernel.accessAllowed ? 'block' : 'none';\n",
              "\n",
              "        async function convertToInteractive(key) {\n",
              "          const element = document.querySelector('#df-f9905d91-10c6-4b6a-a490-ef5829bf2c92');\n",
              "          const dataTable =\n",
              "            await google.colab.kernel.invokeFunction('convertToInteractive',\n",
              "                                                     [key], {});\n",
              "          if (!dataTable) return;\n",
              "\n",
              "          const docLinkHtml = 'Like what you see? Visit the ' +\n",
              "            '<a target=\"_blank\" href=https://colab.research.google.com/notebooks/data_table.ipynb>data table notebook</a>'\n",
              "            + ' to learn more about interactive tables.';\n",
              "          element.innerHTML = '';\n",
              "          dataTable['output_type'] = 'display_data';\n",
              "          await google.colab.output.renderOutput(dataTable, element);\n",
              "          const docLink = document.createElement('div');\n",
              "          docLink.innerHTML = docLinkHtml;\n",
              "          element.appendChild(docLink);\n",
              "        }\n",
              "      </script>\n",
              "    </div>\n",
              "  </div>\n",
              "  "
            ],
            "text/plain": [
              "      index                                          sentences  Chapter\n",
              "0         0  소유와 존재의 차이의 중요성 일반적인 상식으로는 소유나 존재냐의 양자백인이 있음 수 없다        1\n",
              "1         1               우리의 눈에는 소유한다는 것이 삶에 포함된 극히 정상적인 행위이다        1\n",
              "2         2                           살기 위해서 우리는 시몽운· 당연히 소유한다        1\n",
              "3         3   그뿐이뱌 사-뭉음 줍기기 위해서도 그것을 소유하지 않으면 안 된다, 소유하는 것을...        1\n",
              "4         4             아무것도 소유하지 못한 사람은 아무것도 아닌 존재로 여겨지는 실정이다        1\n",
              "...     ...                                                ...      ...\n",
              "4089   4089        e)과 반UX,antithesis, Antithese이)  라면 새로운 합(合        9\n",
              "4090   4090                                          synthesis        9\n",
              "4091   4091   Synthese)-즉 중세 후기의 종교적 핵심과 르네상스 이후의 과학적 사고 빚개...        9\n",
              "4092   4092                                   이 합이 바로 존재의 도시이다        9\n",
              "4093   4093                                                288        9\n",
              "\n",
              "[4094 rows x 3 columns]"
            ]
          },
          "metadata": {},
          "execution_count": 16
        }
      ]
    },
    {
      "cell_type": "code",
      "source": [
        "df_s['keyword'] = 'x' #키워드 컬럼의 값을 x로 초기화\n",
        "contains_human = df_s['sentences'].str.contains('인간') #문장에 '인간'이 포함된 경우\n",
        "contains_we = df_s['sentences'].str.contains('우리') #문장에 '우리'가 포함된 경우\n",
        "contains_have = df_s['sentences'].str.contains('소유') #문장에 '소유'가 포함된 경우\n",
        "contains_social = df_s['sentences'].str.contains('사회') #문장에 '사회'가 포함된 경우\n",
        "\n",
        "keyword_is_x = df_s['keyword'] == 'x' #keyword의 값이 'x'인 경우"
      ],
      "metadata": {
        "id": "mk88XKeBNIwP"
      },
      "execution_count": null,
      "outputs": []
    },
    {
      "cell_type": "code",
      "source": [
        "df_s.loc[(keyword_is_x) & (contains_human), 'keyword'] = '인간'"
      ],
      "metadata": {
        "id": "F85kQZbeWthE"
      },
      "execution_count": null,
      "outputs": []
    },
    {
      "cell_type": "code",
      "source": [
        "df_s.loc[(df_s['keyword'] != '인간') & (contains_we), 'keyword'] = '우리'"
      ],
      "metadata": {
        "id": "kjO2nH8XWtZf"
      },
      "execution_count": null,
      "outputs": []
    },
    {
      "cell_type": "code",
      "source": [
        "df_s.loc[((df_s['keyword'] != '우리')|(df_s['keyword'] != '우리')) & (contains_have), 'keyword'] = '소유'"
      ],
      "metadata": {
        "id": "-Bv5-RfwWtL8"
      },
      "execution_count": null,
      "outputs": []
    },
    {
      "cell_type": "code",
      "source": [
        "df_s.loc[((df_s['keyword'] != '인간')|(df_s['keyword'] != '우리')|(df_s['keyword'] != '소유')) & (contains_social), 'keyword'] = '사회'"
      ],
      "metadata": {
        "id": "lL0RBWpoWszK"
      },
      "execution_count": null,
      "outputs": []
    },
    {
      "cell_type": "code",
      "source": [
        "df_s"
      ],
      "metadata": {
        "colab": {
          "base_uri": "https://localhost:8080/",
          "height": 423
        },
        "id": "kvutfY9VSRSp",
        "outputId": "723dcb57-1f59-440c-cba0-8f33f7d83d34"
      },
      "execution_count": null,
      "outputs": [
        {
          "output_type": "execute_result",
          "data": {
            "text/html": [
              "\n",
              "  <div id=\"df-85d5f5fa-c855-471d-838d-d18bd4bdbcb0\">\n",
              "    <div class=\"colab-df-container\">\n",
              "      <div>\n",
              "<style scoped>\n",
              "    .dataframe tbody tr th:only-of-type {\n",
              "        vertical-align: middle;\n",
              "    }\n",
              "\n",
              "    .dataframe tbody tr th {\n",
              "        vertical-align: top;\n",
              "    }\n",
              "\n",
              "    .dataframe thead th {\n",
              "        text-align: right;\n",
              "    }\n",
              "</style>\n",
              "<table border=\"1\" class=\"dataframe\">\n",
              "  <thead>\n",
              "    <tr style=\"text-align: right;\">\n",
              "      <th></th>\n",
              "      <th>index</th>\n",
              "      <th>sentences</th>\n",
              "      <th>Chapter</th>\n",
              "      <th>keyword</th>\n",
              "    </tr>\n",
              "  </thead>\n",
              "  <tbody>\n",
              "    <tr>\n",
              "      <th>0</th>\n",
              "      <td>0</td>\n",
              "      <td>소유와 존재의 차이의 중요성 일반적인 상식으로는 소유나 존재냐의 양자백인이 있음 수 없다</td>\n",
              "      <td>1</td>\n",
              "      <td>소유</td>\n",
              "    </tr>\n",
              "    <tr>\n",
              "      <th>1</th>\n",
              "      <td>1</td>\n",
              "      <td>우리의 눈에는 소유한다는 것이 삶에 포함된 극히 정상적인 행위이다</td>\n",
              "      <td>1</td>\n",
              "      <td>우리</td>\n",
              "    </tr>\n",
              "    <tr>\n",
              "      <th>2</th>\n",
              "      <td>2</td>\n",
              "      <td>살기 위해서 우리는 시몽운· 당연히 소유한다</td>\n",
              "      <td>1</td>\n",
              "      <td>우리</td>\n",
              "    </tr>\n",
              "    <tr>\n",
              "      <th>3</th>\n",
              "      <td>3</td>\n",
              "      <td>그뿐이뱌 사-뭉음 줍기기 위해서도 그것을 소유하지 않으면 안 된다, 소유하는 것을...</td>\n",
              "      <td>1</td>\n",
              "      <td>사회</td>\n",
              "    </tr>\n",
              "    <tr>\n",
              "      <th>4</th>\n",
              "      <td>4</td>\n",
              "      <td>아무것도 소유하지 못한 사람은 아무것도 아닌 존재로 여겨지는 실정이다</td>\n",
              "      <td>1</td>\n",
              "      <td>소유</td>\n",
              "    </tr>\n",
              "    <tr>\n",
              "      <th>...</th>\n",
              "      <td>...</td>\n",
              "      <td>...</td>\n",
              "      <td>...</td>\n",
              "      <td>...</td>\n",
              "    </tr>\n",
              "    <tr>\n",
              "      <th>4089</th>\n",
              "      <td>4089</td>\n",
              "      <td>e)과 반UX,antithesis, Antithese이)  라면 새로운 합(合</td>\n",
              "      <td>9</td>\n",
              "      <td>x</td>\n",
              "    </tr>\n",
              "    <tr>\n",
              "      <th>4090</th>\n",
              "      <td>4090</td>\n",
              "      <td>synthesis</td>\n",
              "      <td>9</td>\n",
              "      <td>x</td>\n",
              "    </tr>\n",
              "    <tr>\n",
              "      <th>4091</th>\n",
              "      <td>4091</td>\n",
              "      <td>Synthese)-즉 중세 후기의 종교적 핵심과 르네상스 이후의 과학적 사고 빚개...</td>\n",
              "      <td>9</td>\n",
              "      <td>x</td>\n",
              "    </tr>\n",
              "    <tr>\n",
              "      <th>4092</th>\n",
              "      <td>4092</td>\n",
              "      <td>이 합이 바로 존재의 도시이다</td>\n",
              "      <td>9</td>\n",
              "      <td>x</td>\n",
              "    </tr>\n",
              "    <tr>\n",
              "      <th>4093</th>\n",
              "      <td>4093</td>\n",
              "      <td>288</td>\n",
              "      <td>9</td>\n",
              "      <td>x</td>\n",
              "    </tr>\n",
              "  </tbody>\n",
              "</table>\n",
              "<p>4094 rows × 4 columns</p>\n",
              "</div>\n",
              "      <button class=\"colab-df-convert\" onclick=\"convertToInteractive('df-85d5f5fa-c855-471d-838d-d18bd4bdbcb0')\"\n",
              "              title=\"Convert this dataframe to an interactive table.\"\n",
              "              style=\"display:none;\">\n",
              "        \n",
              "  <svg xmlns=\"http://www.w3.org/2000/svg\" height=\"24px\"viewBox=\"0 0 24 24\"\n",
              "       width=\"24px\">\n",
              "    <path d=\"M0 0h24v24H0V0z\" fill=\"none\"/>\n",
              "    <path d=\"M18.56 5.44l.94 2.06.94-2.06 2.06-.94-2.06-.94-.94-2.06-.94 2.06-2.06.94zm-11 1L8.5 8.5l.94-2.06 2.06-.94-2.06-.94L8.5 2.5l-.94 2.06-2.06.94zm10 10l.94 2.06.94-2.06 2.06-.94-2.06-.94-.94-2.06-.94 2.06-2.06.94z\"/><path d=\"M17.41 7.96l-1.37-1.37c-.4-.4-.92-.59-1.43-.59-.52 0-1.04.2-1.43.59L10.3 9.45l-7.72 7.72c-.78.78-.78 2.05 0 2.83L4 21.41c.39.39.9.59 1.41.59.51 0 1.02-.2 1.41-.59l7.78-7.78 2.81-2.81c.8-.78.8-2.07 0-2.86zM5.41 20L4 18.59l7.72-7.72 1.47 1.35L5.41 20z\"/>\n",
              "  </svg>\n",
              "      </button>\n",
              "      \n",
              "  <style>\n",
              "    .colab-df-container {\n",
              "      display:flex;\n",
              "      flex-wrap:wrap;\n",
              "      gap: 12px;\n",
              "    }\n",
              "\n",
              "    .colab-df-convert {\n",
              "      background-color: #E8F0FE;\n",
              "      border: none;\n",
              "      border-radius: 50%;\n",
              "      cursor: pointer;\n",
              "      display: none;\n",
              "      fill: #1967D2;\n",
              "      height: 32px;\n",
              "      padding: 0 0 0 0;\n",
              "      width: 32px;\n",
              "    }\n",
              "\n",
              "    .colab-df-convert:hover {\n",
              "      background-color: #E2EBFA;\n",
              "      box-shadow: 0px 1px 2px rgba(60, 64, 67, 0.3), 0px 1px 3px 1px rgba(60, 64, 67, 0.15);\n",
              "      fill: #174EA6;\n",
              "    }\n",
              "\n",
              "    [theme=dark] .colab-df-convert {\n",
              "      background-color: #3B4455;\n",
              "      fill: #D2E3FC;\n",
              "    }\n",
              "\n",
              "    [theme=dark] .colab-df-convert:hover {\n",
              "      background-color: #434B5C;\n",
              "      box-shadow: 0px 1px 3px 1px rgba(0, 0, 0, 0.15);\n",
              "      filter: drop-shadow(0px 1px 2px rgba(0, 0, 0, 0.3));\n",
              "      fill: #FFFFFF;\n",
              "    }\n",
              "  </style>\n",
              "\n",
              "      <script>\n",
              "        const buttonEl =\n",
              "          document.querySelector('#df-85d5f5fa-c855-471d-838d-d18bd4bdbcb0 button.colab-df-convert');\n",
              "        buttonEl.style.display =\n",
              "          google.colab.kernel.accessAllowed ? 'block' : 'none';\n",
              "\n",
              "        async function convertToInteractive(key) {\n",
              "          const element = document.querySelector('#df-85d5f5fa-c855-471d-838d-d18bd4bdbcb0');\n",
              "          const dataTable =\n",
              "            await google.colab.kernel.invokeFunction('convertToInteractive',\n",
              "                                                     [key], {});\n",
              "          if (!dataTable) return;\n",
              "\n",
              "          const docLinkHtml = 'Like what you see? Visit the ' +\n",
              "            '<a target=\"_blank\" href=https://colab.research.google.com/notebooks/data_table.ipynb>data table notebook</a>'\n",
              "            + ' to learn more about interactive tables.';\n",
              "          element.innerHTML = '';\n",
              "          dataTable['output_type'] = 'display_data';\n",
              "          await google.colab.output.renderOutput(dataTable, element);\n",
              "          const docLink = document.createElement('div');\n",
              "          docLink.innerHTML = docLinkHtml;\n",
              "          element.appendChild(docLink);\n",
              "        }\n",
              "      </script>\n",
              "    </div>\n",
              "  </div>\n",
              "  "
            ],
            "text/plain": [
              "      index                                          sentences  Chapter keyword\n",
              "0         0  소유와 존재의 차이의 중요성 일반적인 상식으로는 소유나 존재냐의 양자백인이 있음 수 없다        1      소유\n",
              "1         1               우리의 눈에는 소유한다는 것이 삶에 포함된 극히 정상적인 행위이다        1      우리\n",
              "2         2                           살기 위해서 우리는 시몽운· 당연히 소유한다        1      우리\n",
              "3         3   그뿐이뱌 사-뭉음 줍기기 위해서도 그것을 소유하지 않으면 안 된다, 소유하는 것을...        1      사회\n",
              "4         4             아무것도 소유하지 못한 사람은 아무것도 아닌 존재로 여겨지는 실정이다        1      소유\n",
              "...     ...                                                ...      ...     ...\n",
              "4089   4089        e)과 반UX,antithesis, Antithese이)  라면 새로운 합(合        9       x\n",
              "4090   4090                                          synthesis        9       x\n",
              "4091   4091   Synthese)-즉 중세 후기의 종교적 핵심과 르네상스 이후의 과학적 사고 빚개...        9       x\n",
              "4092   4092                                   이 합이 바로 존재의 도시이다        9       x\n",
              "4093   4093                                                288        9       x\n",
              "\n",
              "[4094 rows x 4 columns]"
            ]
          },
          "metadata": {},
          "execution_count": 22
        }
      ]
    },
    {
      "cell_type": "markdown",
      "source": [
        "핵심 키워드를 포함하는 문장들을 필터링하고 해당하는 단어의 표시를 남겼다. 만약에 문장이 '소유'를 포함하면, keyword에 '소유'를 입력한다."
      ],
      "metadata": {
        "id": "h23P8dPEOGby"
      }
    },
    {
      "cell_type": "code",
      "source": [
        "df_s['keyword'] = 'x'\n",
        "for i in range(len(df_s.index)-1):\n",
        "  if '인간' in df_s['sentences'][i]:\n",
        "    df_s['keyword'][i] = '인간'\n",
        "  elif '우리' in df_s['sentences'][i]:\n",
        "    df_s['keyword'][i] = '우리'\n",
        "  elif '소유' in df_s['sentences'][i]:\n",
        "    df_s['keyword'][i] = '소유'\n",
        "  elif '사회' in df_s['sentences'][i]:\n",
        "    df_s['keyword'][i] = '사회'"
      ],
      "metadata": {
        "id": "LcxOJyqCGc-o",
        "colab": {
          "base_uri": "https://localhost:8080/"
        },
        "outputId": "b60d01c9-0dd3-46d4-c58e-20ac4ff7d0e9"
      },
      "execution_count": null,
      "outputs": [
        {
          "output_type": "stream",
          "name": "stderr",
          "text": [
            "/usr/local/lib/python3.7/dist-packages/ipykernel_launcher.py:8: SettingWithCopyWarning: \n",
            "A value is trying to be set on a copy of a slice from a DataFrame\n",
            "\n",
            "See the caveats in the documentation: https://pandas.pydata.org/pandas-docs/stable/user_guide/indexing.html#returning-a-view-versus-a-copy\n",
            "  \n",
            "/usr/local/lib/python3.7/dist-packages/ipykernel_launcher.py:6: SettingWithCopyWarning: \n",
            "A value is trying to be set on a copy of a slice from a DataFrame\n",
            "\n",
            "See the caveats in the documentation: https://pandas.pydata.org/pandas-docs/stable/user_guide/indexing.html#returning-a-view-versus-a-copy\n",
            "  \n",
            "/usr/local/lib/python3.7/dist-packages/ipykernel_launcher.py:4: SettingWithCopyWarning: \n",
            "A value is trying to be set on a copy of a slice from a DataFrame\n",
            "\n",
            "See the caveats in the documentation: https://pandas.pydata.org/pandas-docs/stable/user_guide/indexing.html#returning-a-view-versus-a-copy\n",
            "  after removing the cwd from sys.path.\n",
            "/usr/local/lib/python3.7/dist-packages/ipykernel_launcher.py:10: SettingWithCopyWarning: \n",
            "A value is trying to be set on a copy of a slice from a DataFrame\n",
            "\n",
            "See the caveats in the documentation: https://pandas.pydata.org/pandas-docs/stable/user_guide/indexing.html#returning-a-view-versus-a-copy\n",
            "  # Remove the CWD from sys.path while we load stuff.\n"
          ]
        }
      ]
    },
    {
      "cell_type": "markdown",
      "source": [
        "필터링이 작동이 안되는 경우가 있어서 for문도 함께 작성했다. "
      ],
      "metadata": {
        "id": "9qAkkl3PeCE4"
      }
    },
    {
      "cell_type": "code",
      "source": [
        "df_s"
      ],
      "metadata": {
        "colab": {
          "base_uri": "https://localhost:8080/",
          "height": 423
        },
        "id": "0HEm44SZdo5f",
        "outputId": "361d74fb-a103-49ca-b9d1-04d602a9b242"
      },
      "execution_count": null,
      "outputs": [
        {
          "output_type": "execute_result",
          "data": {
            "text/html": [
              "\n",
              "  <div id=\"df-ff5bb1f8-96c8-4cec-8b7d-66e884498e88\">\n",
              "    <div class=\"colab-df-container\">\n",
              "      <div>\n",
              "<style scoped>\n",
              "    .dataframe tbody tr th:only-of-type {\n",
              "        vertical-align: middle;\n",
              "    }\n",
              "\n",
              "    .dataframe tbody tr th {\n",
              "        vertical-align: top;\n",
              "    }\n",
              "\n",
              "    .dataframe thead th {\n",
              "        text-align: right;\n",
              "    }\n",
              "</style>\n",
              "<table border=\"1\" class=\"dataframe\">\n",
              "  <thead>\n",
              "    <tr style=\"text-align: right;\">\n",
              "      <th></th>\n",
              "      <th>index</th>\n",
              "      <th>sentences</th>\n",
              "      <th>Chapter</th>\n",
              "      <th>keyword</th>\n",
              "    </tr>\n",
              "  </thead>\n",
              "  <tbody>\n",
              "    <tr>\n",
              "      <th>0</th>\n",
              "      <td>0</td>\n",
              "      <td>소유와 존재의 차이의 중요성 일반적인 상식으로는 소유나 존재냐의 양자백인이 있음 수 없다</td>\n",
              "      <td>1</td>\n",
              "      <td>소유</td>\n",
              "    </tr>\n",
              "    <tr>\n",
              "      <th>1</th>\n",
              "      <td>1</td>\n",
              "      <td>우리의 눈에는 소유한다는 것이 삶에 포함된 극히 정상적인 행위이다</td>\n",
              "      <td>1</td>\n",
              "      <td>우리</td>\n",
              "    </tr>\n",
              "    <tr>\n",
              "      <th>2</th>\n",
              "      <td>2</td>\n",
              "      <td>살기 위해서 우리는 시몽운· 당연히 소유한다</td>\n",
              "      <td>1</td>\n",
              "      <td>우리</td>\n",
              "    </tr>\n",
              "    <tr>\n",
              "      <th>3</th>\n",
              "      <td>3</td>\n",
              "      <td>그뿐이뱌 사-뭉음 줍기기 위해서도 그것을 소유하지 않으면 안 된다, 소유하는 것을...</td>\n",
              "      <td>1</td>\n",
              "      <td>소유</td>\n",
              "    </tr>\n",
              "    <tr>\n",
              "      <th>4</th>\n",
              "      <td>4</td>\n",
              "      <td>아무것도 소유하지 못한 사람은 아무것도 아닌 존재로 여겨지는 실정이다</td>\n",
              "      <td>1</td>\n",
              "      <td>소유</td>\n",
              "    </tr>\n",
              "    <tr>\n",
              "      <th>...</th>\n",
              "      <td>...</td>\n",
              "      <td>...</td>\n",
              "      <td>...</td>\n",
              "      <td>...</td>\n",
              "    </tr>\n",
              "    <tr>\n",
              "      <th>4089</th>\n",
              "      <td>4089</td>\n",
              "      <td>e)과 반UX,antithesis, Antithese이)  라면 새로운 합(合</td>\n",
              "      <td>9</td>\n",
              "      <td>x</td>\n",
              "    </tr>\n",
              "    <tr>\n",
              "      <th>4090</th>\n",
              "      <td>4090</td>\n",
              "      <td>synthesis</td>\n",
              "      <td>9</td>\n",
              "      <td>x</td>\n",
              "    </tr>\n",
              "    <tr>\n",
              "      <th>4091</th>\n",
              "      <td>4091</td>\n",
              "      <td>Synthese)-즉 중세 후기의 종교적 핵심과 르네상스 이후의 과학적 사고 빚개...</td>\n",
              "      <td>9</td>\n",
              "      <td>x</td>\n",
              "    </tr>\n",
              "    <tr>\n",
              "      <th>4092</th>\n",
              "      <td>4092</td>\n",
              "      <td>이 합이 바로 존재의 도시이다</td>\n",
              "      <td>9</td>\n",
              "      <td>x</td>\n",
              "    </tr>\n",
              "    <tr>\n",
              "      <th>4093</th>\n",
              "      <td>4093</td>\n",
              "      <td>288</td>\n",
              "      <td>9</td>\n",
              "      <td>x</td>\n",
              "    </tr>\n",
              "  </tbody>\n",
              "</table>\n",
              "<p>4094 rows × 4 columns</p>\n",
              "</div>\n",
              "      <button class=\"colab-df-convert\" onclick=\"convertToInteractive('df-ff5bb1f8-96c8-4cec-8b7d-66e884498e88')\"\n",
              "              title=\"Convert this dataframe to an interactive table.\"\n",
              "              style=\"display:none;\">\n",
              "        \n",
              "  <svg xmlns=\"http://www.w3.org/2000/svg\" height=\"24px\"viewBox=\"0 0 24 24\"\n",
              "       width=\"24px\">\n",
              "    <path d=\"M0 0h24v24H0V0z\" fill=\"none\"/>\n",
              "    <path d=\"M18.56 5.44l.94 2.06.94-2.06 2.06-.94-2.06-.94-.94-2.06-.94 2.06-2.06.94zm-11 1L8.5 8.5l.94-2.06 2.06-.94-2.06-.94L8.5 2.5l-.94 2.06-2.06.94zm10 10l.94 2.06.94-2.06 2.06-.94-2.06-.94-.94-2.06-.94 2.06-2.06.94z\"/><path d=\"M17.41 7.96l-1.37-1.37c-.4-.4-.92-.59-1.43-.59-.52 0-1.04.2-1.43.59L10.3 9.45l-7.72 7.72c-.78.78-.78 2.05 0 2.83L4 21.41c.39.39.9.59 1.41.59.51 0 1.02-.2 1.41-.59l7.78-7.78 2.81-2.81c.8-.78.8-2.07 0-2.86zM5.41 20L4 18.59l7.72-7.72 1.47 1.35L5.41 20z\"/>\n",
              "  </svg>\n",
              "      </button>\n",
              "      \n",
              "  <style>\n",
              "    .colab-df-container {\n",
              "      display:flex;\n",
              "      flex-wrap:wrap;\n",
              "      gap: 12px;\n",
              "    }\n",
              "\n",
              "    .colab-df-convert {\n",
              "      background-color: #E8F0FE;\n",
              "      border: none;\n",
              "      border-radius: 50%;\n",
              "      cursor: pointer;\n",
              "      display: none;\n",
              "      fill: #1967D2;\n",
              "      height: 32px;\n",
              "      padding: 0 0 0 0;\n",
              "      width: 32px;\n",
              "    }\n",
              "\n",
              "    .colab-df-convert:hover {\n",
              "      background-color: #E2EBFA;\n",
              "      box-shadow: 0px 1px 2px rgba(60, 64, 67, 0.3), 0px 1px 3px 1px rgba(60, 64, 67, 0.15);\n",
              "      fill: #174EA6;\n",
              "    }\n",
              "\n",
              "    [theme=dark] .colab-df-convert {\n",
              "      background-color: #3B4455;\n",
              "      fill: #D2E3FC;\n",
              "    }\n",
              "\n",
              "    [theme=dark] .colab-df-convert:hover {\n",
              "      background-color: #434B5C;\n",
              "      box-shadow: 0px 1px 3px 1px rgba(0, 0, 0, 0.15);\n",
              "      filter: drop-shadow(0px 1px 2px rgba(0, 0, 0, 0.3));\n",
              "      fill: #FFFFFF;\n",
              "    }\n",
              "  </style>\n",
              "\n",
              "      <script>\n",
              "        const buttonEl =\n",
              "          document.querySelector('#df-ff5bb1f8-96c8-4cec-8b7d-66e884498e88 button.colab-df-convert');\n",
              "        buttonEl.style.display =\n",
              "          google.colab.kernel.accessAllowed ? 'block' : 'none';\n",
              "\n",
              "        async function convertToInteractive(key) {\n",
              "          const element = document.querySelector('#df-ff5bb1f8-96c8-4cec-8b7d-66e884498e88');\n",
              "          const dataTable =\n",
              "            await google.colab.kernel.invokeFunction('convertToInteractive',\n",
              "                                                     [key], {});\n",
              "          if (!dataTable) return;\n",
              "\n",
              "          const docLinkHtml = 'Like what you see? Visit the ' +\n",
              "            '<a target=\"_blank\" href=https://colab.research.google.com/notebooks/data_table.ipynb>data table notebook</a>'\n",
              "            + ' to learn more about interactive tables.';\n",
              "          element.innerHTML = '';\n",
              "          dataTable['output_type'] = 'display_data';\n",
              "          await google.colab.output.renderOutput(dataTable, element);\n",
              "          const docLink = document.createElement('div');\n",
              "          docLink.innerHTML = docLinkHtml;\n",
              "          element.appendChild(docLink);\n",
              "        }\n",
              "      </script>\n",
              "    </div>\n",
              "  </div>\n",
              "  "
            ],
            "text/plain": [
              "      index                                          sentences  Chapter keyword\n",
              "0         0  소유와 존재의 차이의 중요성 일반적인 상식으로는 소유나 존재냐의 양자백인이 있음 수 없다        1      소유\n",
              "1         1               우리의 눈에는 소유한다는 것이 삶에 포함된 극히 정상적인 행위이다        1      우리\n",
              "2         2                           살기 위해서 우리는 시몽운· 당연히 소유한다        1      우리\n",
              "3         3   그뿐이뱌 사-뭉음 줍기기 위해서도 그것을 소유하지 않으면 안 된다, 소유하는 것을...        1      소유\n",
              "4         4             아무것도 소유하지 못한 사람은 아무것도 아닌 존재로 여겨지는 실정이다        1      소유\n",
              "...     ...                                                ...      ...     ...\n",
              "4089   4089        e)과 반UX,antithesis, Antithese이)  라면 새로운 합(合        9       x\n",
              "4090   4090                                          synthesis        9       x\n",
              "4091   4091   Synthese)-즉 중세 후기의 종교적 핵심과 르네상스 이후의 과학적 사고 빚개...        9       x\n",
              "4092   4092                                   이 합이 바로 존재의 도시이다        9       x\n",
              "4093   4093                                                288        9       x\n",
              "\n",
              "[4094 rows x 4 columns]"
            ]
          },
          "metadata": {},
          "execution_count": 24
        }
      ]
    },
    {
      "cell_type": "markdown",
      "source": [
        "df 출력결과 정상적으로 keyword가 저장되었지만, 한 문장에 두가지 키워드가 들어간 경우도 있어서 secondkey를 새로운 column으로 지정했다."
      ],
      "metadata": {
        "id": "Ct62Q-NZeMsP"
      }
    },
    {
      "cell_type": "code",
      "source": [
        "df_s['secondkey'] = 'x'\n",
        "keyword_human = df_s['keyword'].str.contains('인간')\n",
        "keyword_we = df_s['keyword'].str.contains('우리')\n",
        "keyword_have = df_s['keyword'].str.contains('소유')\n",
        "keyword_social = df_s['keyword'].str.contains('사회')\n",
        "\n",
        "keyword_x = df_s['keyword'] != 'x'\n",
        "\n",
        "#키워드가 인간인 것들중 우리, 소유, 사회도 포함한 문장 필터링\n",
        "df_s.loc[(keyword_x) & (keyword_human) & (contains_we), 'secondkey'] = '우리'\n",
        "df_s.loc[(keyword_x) & (keyword_human) & (contains_have), 'secondkey'] = '소유'\n",
        "df_s.loc[(keyword_x) & (keyword_human) & (contains_social), 'secondkey'] = '사회'\n",
        "\n",
        "#키워드가 우리인 것들중 인간, 소유, 사회도 포함한 문장 필터링\n",
        "df_s.loc[(keyword_x) & (keyword_we) & (contains_human), 'secondkey'] = '인간'\n",
        "df_s.loc[(keyword_x) & (keyword_we) & (contains_have), 'secondkey'] = '소유'\n",
        "df_s.loc[(keyword_x) & (keyword_we) & (contains_social), 'secondkey'] = '사회'\n",
        "\n",
        "#키워드가 사회인 것들중 인간, 우리, 소유도 포함한 문장 필터링\n",
        "df_s.loc[(keyword_x) & (keyword_social) & (contains_human), 'secondkey'] = '인간'\n",
        "df_s.loc[(keyword_x) & (keyword_social) & (contains_we), 'secondkey'] = '우리'\n",
        "df_s.loc[(keyword_x) & (keyword_social) & (contains_have), 'secondkey'] = '소유'"
      ],
      "metadata": {
        "id": "L85zir7nOhJ4"
      },
      "execution_count": null,
      "outputs": []
    },
    {
      "cell_type": "markdown",
      "source": [
        "두번째 키를 포함한 경우를 필터링 해서 secondkey에 저장했다."
      ],
      "metadata": {
        "id": "wNHn374ZRd2K"
      }
    },
    {
      "cell_type": "code",
      "source": [
        "df_s"
      ],
      "metadata": {
        "colab": {
          "base_uri": "https://localhost:8080/",
          "height": 485
        },
        "id": "ZqTgB642Rty4",
        "outputId": "0e952e93-24e9-497d-c6ab-7452af512a3b"
      },
      "execution_count": null,
      "outputs": [
        {
          "output_type": "execute_result",
          "data": {
            "text/html": [
              "\n",
              "  <div id=\"df-f4c8afc8-b778-4b02-952f-89548a22db9e\">\n",
              "    <div class=\"colab-df-container\">\n",
              "      <div>\n",
              "<style scoped>\n",
              "    .dataframe tbody tr th:only-of-type {\n",
              "        vertical-align: middle;\n",
              "    }\n",
              "\n",
              "    .dataframe tbody tr th {\n",
              "        vertical-align: top;\n",
              "    }\n",
              "\n",
              "    .dataframe thead th {\n",
              "        text-align: right;\n",
              "    }\n",
              "</style>\n",
              "<table border=\"1\" class=\"dataframe\">\n",
              "  <thead>\n",
              "    <tr style=\"text-align: right;\">\n",
              "      <th></th>\n",
              "      <th>index</th>\n",
              "      <th>sentences</th>\n",
              "      <th>Chapter</th>\n",
              "      <th>keyword</th>\n",
              "      <th>secondkey</th>\n",
              "    </tr>\n",
              "  </thead>\n",
              "  <tbody>\n",
              "    <tr>\n",
              "      <th>0</th>\n",
              "      <td>0</td>\n",
              "      <td>소유와 존재의 차이의 중요성 일반적인 상식으로는 소유나 존재냐의 양자백인이 있음 수 없다</td>\n",
              "      <td>1</td>\n",
              "      <td>소유</td>\n",
              "      <td>x</td>\n",
              "    </tr>\n",
              "    <tr>\n",
              "      <th>1</th>\n",
              "      <td>1</td>\n",
              "      <td>우리의 눈에는 소유한다는 것이 삶에 포함된 극히 정상적인 행위이다</td>\n",
              "      <td>1</td>\n",
              "      <td>우리</td>\n",
              "      <td>소유</td>\n",
              "    </tr>\n",
              "    <tr>\n",
              "      <th>2</th>\n",
              "      <td>2</td>\n",
              "      <td>살기 위해서 우리는 시몽운· 당연히 소유한다</td>\n",
              "      <td>1</td>\n",
              "      <td>우리</td>\n",
              "      <td>소유</td>\n",
              "    </tr>\n",
              "    <tr>\n",
              "      <th>3</th>\n",
              "      <td>3</td>\n",
              "      <td>그뿐이뱌 사-뭉음 줍기기 위해서도 그것을 소유하지 않으면 안 된다, 소유하는 것을...</td>\n",
              "      <td>1</td>\n",
              "      <td>소유</td>\n",
              "      <td>x</td>\n",
              "    </tr>\n",
              "    <tr>\n",
              "      <th>4</th>\n",
              "      <td>4</td>\n",
              "      <td>아무것도 소유하지 못한 사람은 아무것도 아닌 존재로 여겨지는 실정이다</td>\n",
              "      <td>1</td>\n",
              "      <td>소유</td>\n",
              "      <td>x</td>\n",
              "    </tr>\n",
              "    <tr>\n",
              "      <th>...</th>\n",
              "      <td>...</td>\n",
              "      <td>...</td>\n",
              "      <td>...</td>\n",
              "      <td>...</td>\n",
              "      <td>...</td>\n",
              "    </tr>\n",
              "    <tr>\n",
              "      <th>4089</th>\n",
              "      <td>4089</td>\n",
              "      <td>e)과 반UX,antithesis, Antithese이)  라면 새로운 합(合</td>\n",
              "      <td>9</td>\n",
              "      <td>x</td>\n",
              "      <td>x</td>\n",
              "    </tr>\n",
              "    <tr>\n",
              "      <th>4090</th>\n",
              "      <td>4090</td>\n",
              "      <td>synthesis</td>\n",
              "      <td>9</td>\n",
              "      <td>x</td>\n",
              "      <td>x</td>\n",
              "    </tr>\n",
              "    <tr>\n",
              "      <th>4091</th>\n",
              "      <td>4091</td>\n",
              "      <td>Synthese)-즉 중세 후기의 종교적 핵심과 르네상스 이후의 과학적 사고 빚개...</td>\n",
              "      <td>9</td>\n",
              "      <td>x</td>\n",
              "      <td>x</td>\n",
              "    </tr>\n",
              "    <tr>\n",
              "      <th>4092</th>\n",
              "      <td>4092</td>\n",
              "      <td>이 합이 바로 존재의 도시이다</td>\n",
              "      <td>9</td>\n",
              "      <td>x</td>\n",
              "      <td>x</td>\n",
              "    </tr>\n",
              "    <tr>\n",
              "      <th>4093</th>\n",
              "      <td>4093</td>\n",
              "      <td>288</td>\n",
              "      <td>9</td>\n",
              "      <td>x</td>\n",
              "      <td>x</td>\n",
              "    </tr>\n",
              "  </tbody>\n",
              "</table>\n",
              "<p>4094 rows × 5 columns</p>\n",
              "</div>\n",
              "      <button class=\"colab-df-convert\" onclick=\"convertToInteractive('df-f4c8afc8-b778-4b02-952f-89548a22db9e')\"\n",
              "              title=\"Convert this dataframe to an interactive table.\"\n",
              "              style=\"display:none;\">\n",
              "        \n",
              "  <svg xmlns=\"http://www.w3.org/2000/svg\" height=\"24px\"viewBox=\"0 0 24 24\"\n",
              "       width=\"24px\">\n",
              "    <path d=\"M0 0h24v24H0V0z\" fill=\"none\"/>\n",
              "    <path d=\"M18.56 5.44l.94 2.06.94-2.06 2.06-.94-2.06-.94-.94-2.06-.94 2.06-2.06.94zm-11 1L8.5 8.5l.94-2.06 2.06-.94-2.06-.94L8.5 2.5l-.94 2.06-2.06.94zm10 10l.94 2.06.94-2.06 2.06-.94-2.06-.94-.94-2.06-.94 2.06-2.06.94z\"/><path d=\"M17.41 7.96l-1.37-1.37c-.4-.4-.92-.59-1.43-.59-.52 0-1.04.2-1.43.59L10.3 9.45l-7.72 7.72c-.78.78-.78 2.05 0 2.83L4 21.41c.39.39.9.59 1.41.59.51 0 1.02-.2 1.41-.59l7.78-7.78 2.81-2.81c.8-.78.8-2.07 0-2.86zM5.41 20L4 18.59l7.72-7.72 1.47 1.35L5.41 20z\"/>\n",
              "  </svg>\n",
              "      </button>\n",
              "      \n",
              "  <style>\n",
              "    .colab-df-container {\n",
              "      display:flex;\n",
              "      flex-wrap:wrap;\n",
              "      gap: 12px;\n",
              "    }\n",
              "\n",
              "    .colab-df-convert {\n",
              "      background-color: #E8F0FE;\n",
              "      border: none;\n",
              "      border-radius: 50%;\n",
              "      cursor: pointer;\n",
              "      display: none;\n",
              "      fill: #1967D2;\n",
              "      height: 32px;\n",
              "      padding: 0 0 0 0;\n",
              "      width: 32px;\n",
              "    }\n",
              "\n",
              "    .colab-df-convert:hover {\n",
              "      background-color: #E2EBFA;\n",
              "      box-shadow: 0px 1px 2px rgba(60, 64, 67, 0.3), 0px 1px 3px 1px rgba(60, 64, 67, 0.15);\n",
              "      fill: #174EA6;\n",
              "    }\n",
              "\n",
              "    [theme=dark] .colab-df-convert {\n",
              "      background-color: #3B4455;\n",
              "      fill: #D2E3FC;\n",
              "    }\n",
              "\n",
              "    [theme=dark] .colab-df-convert:hover {\n",
              "      background-color: #434B5C;\n",
              "      box-shadow: 0px 1px 3px 1px rgba(0, 0, 0, 0.15);\n",
              "      filter: drop-shadow(0px 1px 2px rgba(0, 0, 0, 0.3));\n",
              "      fill: #FFFFFF;\n",
              "    }\n",
              "  </style>\n",
              "\n",
              "      <script>\n",
              "        const buttonEl =\n",
              "          document.querySelector('#df-f4c8afc8-b778-4b02-952f-89548a22db9e button.colab-df-convert');\n",
              "        buttonEl.style.display =\n",
              "          google.colab.kernel.accessAllowed ? 'block' : 'none';\n",
              "\n",
              "        async function convertToInteractive(key) {\n",
              "          const element = document.querySelector('#df-f4c8afc8-b778-4b02-952f-89548a22db9e');\n",
              "          const dataTable =\n",
              "            await google.colab.kernel.invokeFunction('convertToInteractive',\n",
              "                                                     [key], {});\n",
              "          if (!dataTable) return;\n",
              "\n",
              "          const docLinkHtml = 'Like what you see? Visit the ' +\n",
              "            '<a target=\"_blank\" href=https://colab.research.google.com/notebooks/data_table.ipynb>data table notebook</a>'\n",
              "            + ' to learn more about interactive tables.';\n",
              "          element.innerHTML = '';\n",
              "          dataTable['output_type'] = 'display_data';\n",
              "          await google.colab.output.renderOutput(dataTable, element);\n",
              "          const docLink = document.createElement('div');\n",
              "          docLink.innerHTML = docLinkHtml;\n",
              "          element.appendChild(docLink);\n",
              "        }\n",
              "      </script>\n",
              "    </div>\n",
              "  </div>\n",
              "  "
            ],
            "text/plain": [
              "      index  ... secondkey\n",
              "0         0  ...         x\n",
              "1         1  ...        소유\n",
              "2         2  ...        소유\n",
              "3         3  ...         x\n",
              "4         4  ...         x\n",
              "...     ...  ...       ...\n",
              "4089   4089  ...         x\n",
              "4090   4090  ...         x\n",
              "4091   4091  ...         x\n",
              "4092   4092  ...         x\n",
              "4093   4093  ...         x\n",
              "\n",
              "[4094 rows x 5 columns]"
            ]
          },
          "metadata": {},
          "execution_count": 26
        }
      ]
    },
    {
      "cell_type": "code",
      "source": [
        "df_s['secondkey'] = 'x'\n",
        "for i in range(len(df_s.index)-1):\n",
        "  if df_s['keyword'][i] == '소유':\n",
        "    if '인간' in df_s['sentences'][i]:\n",
        "      df_s['secondkey'][i] = '인간'\n",
        "    elif '우리' in df_s['sentences'][i]:\n",
        "      df_s['secondkey'][i] = '우리'\n",
        "    elif '사회' in df_s['sentences'][i]:\n",
        "      df_s['secondkey'][i] = '사회'\n",
        "  elif df_s['keyword'][i] == '우리':\n",
        "    if '인간' in df_s['sentences'][i]:\n",
        "      df_s['secondkey'][i] = '인간'\n",
        "    elif '소유' in df_s['sentences'][i]:\n",
        "      df_s['secondkey'][i] = '소유'\n",
        "    elif '사회' in df_s['sentences'][i]:\n",
        "      df_s['secondkey'][i] = '사회'\n",
        "  elif df_s['keyword'][i] == '사회':\n",
        "    if '인간' in df_s['sentences'][i]:\n",
        "      df_s['secondkey'][i] = '인간'\n",
        "    elif '소유' in df_s['sentences'][i]:\n",
        "      df_s['secondkey'][i] = '소유'\n",
        "    elif '우리' in df_s['sentences'][i]:\n",
        "      df_s['secondkey'][i] = '우리'\n",
        "  elif df_s['keyword'][i] == '인간':\n",
        "    if '사회' in df_s['sentences'][i]:\n",
        "      df_s['secondkey'][i] = '사회'\n",
        "    elif '소유' in df_s['sentences'][i]:\n",
        "      df_s['secondkey'][i] = '소유'\n",
        "    elif '우리' in df_s['sentences'][i]:\n",
        "      df_s['secondkey'][i] = '우리'"
      ],
      "metadata": {
        "colab": {
          "base_uri": "https://localhost:8080/"
        },
        "id": "mtvl-O5JaTow",
        "outputId": "1beb2795-485c-4581-c858-9856cee21f10"
      },
      "execution_count": null,
      "outputs": [
        {
          "output_type": "stream",
          "name": "stderr",
          "text": [
            "/usr/local/lib/python3.7/dist-packages/ipykernel_launcher.py:14: SettingWithCopyWarning: \n",
            "A value is trying to be set on a copy of a slice from a DataFrame\n",
            "\n",
            "See the caveats in the documentation: https://pandas.pydata.org/pandas-docs/stable/user_guide/indexing.html#returning-a-view-versus-a-copy\n",
            "  \n",
            "/usr/local/lib/python3.7/dist-packages/ipykernel_launcher.py:21: SettingWithCopyWarning: \n",
            "A value is trying to be set on a copy of a slice from a DataFrame\n",
            "\n",
            "See the caveats in the documentation: https://pandas.pydata.org/pandas-docs/stable/user_guide/indexing.html#returning-a-view-versus-a-copy\n",
            "/usr/local/lib/python3.7/dist-packages/ipykernel_launcher.py:5: SettingWithCopyWarning: \n",
            "A value is trying to be set on a copy of a slice from a DataFrame\n",
            "\n",
            "See the caveats in the documentation: https://pandas.pydata.org/pandas-docs/stable/user_guide/indexing.html#returning-a-view-versus-a-copy\n",
            "  \"\"\"\n",
            "/usr/local/lib/python3.7/dist-packages/ipykernel_launcher.py:19: SettingWithCopyWarning: \n",
            "A value is trying to be set on a copy of a slice from a DataFrame\n",
            "\n",
            "See the caveats in the documentation: https://pandas.pydata.org/pandas-docs/stable/user_guide/indexing.html#returning-a-view-versus-a-copy\n",
            "/usr/local/lib/python3.7/dist-packages/ipykernel_launcher.py:23: SettingWithCopyWarning: \n",
            "A value is trying to be set on a copy of a slice from a DataFrame\n",
            "\n",
            "See the caveats in the documentation: https://pandas.pydata.org/pandas-docs/stable/user_guide/indexing.html#returning-a-view-versus-a-copy\n",
            "/usr/local/lib/python3.7/dist-packages/ipykernel_launcher.py:30: SettingWithCopyWarning: \n",
            "A value is trying to be set on a copy of a slice from a DataFrame\n",
            "\n",
            "See the caveats in the documentation: https://pandas.pydata.org/pandas-docs/stable/user_guide/indexing.html#returning-a-view-versus-a-copy\n"
          ]
        }
      ]
    },
    {
      "cell_type": "markdown",
      "source": [
        "마찬가지로 코드가 필터링을 잘 수행하지 못하는 경우가 있어서 for문도 함께 작성했다."
      ],
      "metadata": {
        "id": "IQA5XgBuRjcX"
      }
    },
    {
      "cell_type": "code",
      "source": [
        "df_s"
      ],
      "metadata": {
        "colab": {
          "base_uri": "https://localhost:8080/",
          "height": 423
        },
        "id": "EAlXcGu9cXc7",
        "outputId": "0413b96d-c079-44c5-817b-611238eb136a"
      },
      "execution_count": null,
      "outputs": [
        {
          "output_type": "execute_result",
          "data": {
            "text/html": [
              "\n",
              "  <div id=\"df-1166c83a-15ef-4490-b5fe-c2843e0cd880\">\n",
              "    <div class=\"colab-df-container\">\n",
              "      <div>\n",
              "<style scoped>\n",
              "    .dataframe tbody tr th:only-of-type {\n",
              "        vertical-align: middle;\n",
              "    }\n",
              "\n",
              "    .dataframe tbody tr th {\n",
              "        vertical-align: top;\n",
              "    }\n",
              "\n",
              "    .dataframe thead th {\n",
              "        text-align: right;\n",
              "    }\n",
              "</style>\n",
              "<table border=\"1\" class=\"dataframe\">\n",
              "  <thead>\n",
              "    <tr style=\"text-align: right;\">\n",
              "      <th></th>\n",
              "      <th>index</th>\n",
              "      <th>sentences</th>\n",
              "      <th>Chapter</th>\n",
              "      <th>keyword</th>\n",
              "      <th>secondkey</th>\n",
              "    </tr>\n",
              "  </thead>\n",
              "  <tbody>\n",
              "    <tr>\n",
              "      <th>0</th>\n",
              "      <td>0</td>\n",
              "      <td>소유와 존재의 차이의 중요성 일반적인 상식으로는 소유나 존재냐의 양자백인이 있음 수 없다</td>\n",
              "      <td>1</td>\n",
              "      <td>소유</td>\n",
              "      <td>x</td>\n",
              "    </tr>\n",
              "    <tr>\n",
              "      <th>1</th>\n",
              "      <td>1</td>\n",
              "      <td>우리의 눈에는 소유한다는 것이 삶에 포함된 극히 정상적인 행위이다</td>\n",
              "      <td>1</td>\n",
              "      <td>우리</td>\n",
              "      <td>소유</td>\n",
              "    </tr>\n",
              "    <tr>\n",
              "      <th>2</th>\n",
              "      <td>2</td>\n",
              "      <td>살기 위해서 우리는 시몽운· 당연히 소유한다</td>\n",
              "      <td>1</td>\n",
              "      <td>우리</td>\n",
              "      <td>소유</td>\n",
              "    </tr>\n",
              "    <tr>\n",
              "      <th>3</th>\n",
              "      <td>3</td>\n",
              "      <td>그뿐이뱌 사-뭉음 줍기기 위해서도 그것을 소유하지 않으면 안 된다, 소유하는 것을...</td>\n",
              "      <td>1</td>\n",
              "      <td>사회</td>\n",
              "      <td>소유</td>\n",
              "    </tr>\n",
              "    <tr>\n",
              "      <th>4</th>\n",
              "      <td>4</td>\n",
              "      <td>아무것도 소유하지 못한 사람은 아무것도 아닌 존재로 여겨지는 실정이다</td>\n",
              "      <td>1</td>\n",
              "      <td>소유</td>\n",
              "      <td>x</td>\n",
              "    </tr>\n",
              "    <tr>\n",
              "      <th>...</th>\n",
              "      <td>...</td>\n",
              "      <td>...</td>\n",
              "      <td>...</td>\n",
              "      <td>...</td>\n",
              "      <td>...</td>\n",
              "    </tr>\n",
              "    <tr>\n",
              "      <th>4089</th>\n",
              "      <td>4089</td>\n",
              "      <td>e)과 반UX,antithesis, Antithese이)  라면 새로운 합(合</td>\n",
              "      <td>9</td>\n",
              "      <td>x</td>\n",
              "      <td>x</td>\n",
              "    </tr>\n",
              "    <tr>\n",
              "      <th>4090</th>\n",
              "      <td>4090</td>\n",
              "      <td>synthesis</td>\n",
              "      <td>9</td>\n",
              "      <td>x</td>\n",
              "      <td>x</td>\n",
              "    </tr>\n",
              "    <tr>\n",
              "      <th>4091</th>\n",
              "      <td>4091</td>\n",
              "      <td>Synthese)-즉 중세 후기의 종교적 핵심과 르네상스 이후의 과학적 사고 빚개...</td>\n",
              "      <td>9</td>\n",
              "      <td>x</td>\n",
              "      <td>x</td>\n",
              "    </tr>\n",
              "    <tr>\n",
              "      <th>4092</th>\n",
              "      <td>4092</td>\n",
              "      <td>이 합이 바로 존재의 도시이다</td>\n",
              "      <td>9</td>\n",
              "      <td>x</td>\n",
              "      <td>x</td>\n",
              "    </tr>\n",
              "    <tr>\n",
              "      <th>4093</th>\n",
              "      <td>4093</td>\n",
              "      <td>288</td>\n",
              "      <td>9</td>\n",
              "      <td>x</td>\n",
              "      <td>x</td>\n",
              "    </tr>\n",
              "  </tbody>\n",
              "</table>\n",
              "<p>4094 rows × 5 columns</p>\n",
              "</div>\n",
              "      <button class=\"colab-df-convert\" onclick=\"convertToInteractive('df-1166c83a-15ef-4490-b5fe-c2843e0cd880')\"\n",
              "              title=\"Convert this dataframe to an interactive table.\"\n",
              "              style=\"display:none;\">\n",
              "        \n",
              "  <svg xmlns=\"http://www.w3.org/2000/svg\" height=\"24px\"viewBox=\"0 0 24 24\"\n",
              "       width=\"24px\">\n",
              "    <path d=\"M0 0h24v24H0V0z\" fill=\"none\"/>\n",
              "    <path d=\"M18.56 5.44l.94 2.06.94-2.06 2.06-.94-2.06-.94-.94-2.06-.94 2.06-2.06.94zm-11 1L8.5 8.5l.94-2.06 2.06-.94-2.06-.94L8.5 2.5l-.94 2.06-2.06.94zm10 10l.94 2.06.94-2.06 2.06-.94-2.06-.94-.94-2.06-.94 2.06-2.06.94z\"/><path d=\"M17.41 7.96l-1.37-1.37c-.4-.4-.92-.59-1.43-.59-.52 0-1.04.2-1.43.59L10.3 9.45l-7.72 7.72c-.78.78-.78 2.05 0 2.83L4 21.41c.39.39.9.59 1.41.59.51 0 1.02-.2 1.41-.59l7.78-7.78 2.81-2.81c.8-.78.8-2.07 0-2.86zM5.41 20L4 18.59l7.72-7.72 1.47 1.35L5.41 20z\"/>\n",
              "  </svg>\n",
              "      </button>\n",
              "      \n",
              "  <style>\n",
              "    .colab-df-container {\n",
              "      display:flex;\n",
              "      flex-wrap:wrap;\n",
              "      gap: 12px;\n",
              "    }\n",
              "\n",
              "    .colab-df-convert {\n",
              "      background-color: #E8F0FE;\n",
              "      border: none;\n",
              "      border-radius: 50%;\n",
              "      cursor: pointer;\n",
              "      display: none;\n",
              "      fill: #1967D2;\n",
              "      height: 32px;\n",
              "      padding: 0 0 0 0;\n",
              "      width: 32px;\n",
              "    }\n",
              "\n",
              "    .colab-df-convert:hover {\n",
              "      background-color: #E2EBFA;\n",
              "      box-shadow: 0px 1px 2px rgba(60, 64, 67, 0.3), 0px 1px 3px 1px rgba(60, 64, 67, 0.15);\n",
              "      fill: #174EA6;\n",
              "    }\n",
              "\n",
              "    [theme=dark] .colab-df-convert {\n",
              "      background-color: #3B4455;\n",
              "      fill: #D2E3FC;\n",
              "    }\n",
              "\n",
              "    [theme=dark] .colab-df-convert:hover {\n",
              "      background-color: #434B5C;\n",
              "      box-shadow: 0px 1px 3px 1px rgba(0, 0, 0, 0.15);\n",
              "      filter: drop-shadow(0px 1px 2px rgba(0, 0, 0, 0.3));\n",
              "      fill: #FFFFFF;\n",
              "    }\n",
              "  </style>\n",
              "\n",
              "      <script>\n",
              "        const buttonEl =\n",
              "          document.querySelector('#df-1166c83a-15ef-4490-b5fe-c2843e0cd880 button.colab-df-convert');\n",
              "        buttonEl.style.display =\n",
              "          google.colab.kernel.accessAllowed ? 'block' : 'none';\n",
              "\n",
              "        async function convertToInteractive(key) {\n",
              "          const element = document.querySelector('#df-1166c83a-15ef-4490-b5fe-c2843e0cd880');\n",
              "          const dataTable =\n",
              "            await google.colab.kernel.invokeFunction('convertToInteractive',\n",
              "                                                     [key], {});\n",
              "          if (!dataTable) return;\n",
              "\n",
              "          const docLinkHtml = 'Like what you see? Visit the ' +\n",
              "            '<a target=\"_blank\" href=https://colab.research.google.com/notebooks/data_table.ipynb>data table notebook</a>'\n",
              "            + ' to learn more about interactive tables.';\n",
              "          element.innerHTML = '';\n",
              "          dataTable['output_type'] = 'display_data';\n",
              "          await google.colab.output.renderOutput(dataTable, element);\n",
              "          const docLink = document.createElement('div');\n",
              "          docLink.innerHTML = docLinkHtml;\n",
              "          element.appendChild(docLink);\n",
              "        }\n",
              "      </script>\n",
              "    </div>\n",
              "  </div>\n",
              "  "
            ],
            "text/plain": [
              "      index  ... secondkey\n",
              "0         0  ...         x\n",
              "1         1  ...        소유\n",
              "2         2  ...        소유\n",
              "3         3  ...        소유\n",
              "4         4  ...         x\n",
              "...     ...  ...       ...\n",
              "4089   4089  ...         x\n",
              "4090   4090  ...         x\n",
              "4091   4091  ...         x\n",
              "4092   4092  ...         x\n",
              "4093   4093  ...         x\n",
              "\n",
              "[4094 rows x 5 columns]"
            ]
          },
          "metadata": {},
          "execution_count": 26
        }
      ]
    },
    {
      "cell_type": "markdown",
      "source": [
        "df_s에 정상적으로 두번째 키워드가 저장된 것을 볼 수 있다. 이제 secondkey가 있는 문장들을 중심으로 키워드 간의 연관성을 측정할 수 있게 되었다."
      ],
      "metadata": {
        "id": "eteSc6mXeabn"
      }
    },
    {
      "cell_type": "code",
      "source": [
        "index1 = df_s[df_s['secondkey'] != 'x'].index\n",
        "print(index1)"
      ],
      "metadata": {
        "colab": {
          "base_uri": "https://localhost:8080/"
        },
        "id": "IUitnnO_d7jz",
        "outputId": "747740a5-9d50-45bb-900c-3f3b2a5d54cf"
      },
      "execution_count": null,
      "outputs": [
        {
          "output_type": "stream",
          "name": "stdout",
          "text": [
            "Int64Index([   1,    2,    3,   10,   14,   77,   84,   86,   92,  101,\n",
            "            ...\n",
            "            4002, 4023, 4026, 4030, 4032, 4051, 4066, 4074, 4079, 4085],\n",
            "           dtype='int64', length=184)\n"
          ]
        }
      ]
    },
    {
      "cell_type": "markdown",
      "source": [
        "측정결과 secondkey가 등장하는 경우는 총 184개 정도다."
      ],
      "metadata": {
        "id": "Ue-ikP-akGwD"
      }
    },
    {
      "cell_type": "code",
      "source": [
        "index1 = df_s[df_s['keyword'] != 'x'].index\n",
        "print(index1)"
      ],
      "metadata": {
        "colab": {
          "base_uri": "https://localhost:8080/"
        },
        "id": "p-OMELWPesf_",
        "outputId": "55aecfaa-e0b5-4354-ba73-05e033fa5b62"
      },
      "execution_count": null,
      "outputs": [
        {
          "output_type": "stream",
          "name": "stdout",
          "text": [
            "Int64Index([   0,    1,    2,    3,    4,    5,    6,    9,   10,   12,\n",
            "            ...\n",
            "            4056, 4066, 4067, 4074, 4077, 4079, 4083, 4084, 4085, 4087],\n",
            "           dtype='int64', length=1151)\n"
          ]
        }
      ]
    },
    {
      "cell_type": "markdown",
      "source": [
        "keyword가 등장한 문장의 개수는 1151개다."
      ],
      "metadata": {
        "id": "rd9fWKhxkQzg"
      }
    },
    {
      "cell_type": "code",
      "source": [
        "df_s['iskeyword'] = 0\n",
        "df_s.loc[(df_s['keyword'] != 'x') & (df_s['secondkey'] != 'x'), 'iskeyword'] = 2\n",
        "df_s.loc[(df_s['keyword'] != 'x') & (df_s['secondkey'] == 'x'), 'iskeyword'] = 1"
      ],
      "metadata": {
        "id": "0MBcQgE8hEdN"
      },
      "execution_count": null,
      "outputs": []
    },
    {
      "cell_type": "markdown",
      "source": [
        "핵심 키워드가 1개인 경우가 2개인 경우를 구분해서 수치화 했다."
      ],
      "metadata": {
        "id": "zo9YUUu7ZgHa"
      }
    },
    {
      "cell_type": "code",
      "source": [
        "for i in range(len(df_s.index)-1):\n",
        "  if (df_s['keyword'][i] != 'x') & (df_s['secondkey'][i] != 'x'):\n",
        "    df_s['iskeyword'][i] = 2\n",
        "  elif (df_s['keyword'][i] != 'x') & (df_s['secondkey'][i] == 'x'):\n",
        "    df_s['iskeyword'][i] = 1"
      ],
      "metadata": {
        "id": "tu_oGDYVZd9R",
        "colab": {
          "base_uri": "https://localhost:8080/"
        },
        "outputId": "e5fe2e73-9f87-48e9-c5b0-84b418b841ac"
      },
      "execution_count": null,
      "outputs": [
        {
          "output_type": "stream",
          "name": "stderr",
          "text": [
            "/usr/local/lib/python3.7/dist-packages/ipykernel_launcher.py:5: SettingWithCopyWarning: \n",
            "A value is trying to be set on a copy of a slice from a DataFrame\n",
            "\n",
            "See the caveats in the documentation: https://pandas.pydata.org/pandas-docs/stable/user_guide/indexing.html#returning-a-view-versus-a-copy\n",
            "  \"\"\"\n",
            "/usr/local/lib/python3.7/dist-packages/ipykernel_launcher.py:3: SettingWithCopyWarning: \n",
            "A value is trying to be set on a copy of a slice from a DataFrame\n",
            "\n",
            "See the caveats in the documentation: https://pandas.pydata.org/pandas-docs/stable/user_guide/indexing.html#returning-a-view-versus-a-copy\n",
            "  This is separate from the ipykernel package so we can avoid doing imports until\n"
          ]
        }
      ]
    },
    {
      "cell_type": "markdown",
      "source": [
        "만약의 경우를 대비해 for문도 작성했다."
      ],
      "metadata": {
        "id": "bWc5SYW5Z5i6"
      }
    },
    {
      "cell_type": "code",
      "source": [
        "df_s"
      ],
      "metadata": {
        "colab": {
          "base_uri": "https://localhost:8080/",
          "height": 423
        },
        "id": "5VlaewNitCtt",
        "outputId": "075cc8d1-1b6e-4ca2-a10e-e09d02076400"
      },
      "execution_count": null,
      "outputs": [
        {
          "output_type": "execute_result",
          "data": {
            "text/html": [
              "\n",
              "  <div id=\"df-c66a2211-92bb-401b-b39f-b6c78cd461ff\">\n",
              "    <div class=\"colab-df-container\">\n",
              "      <div>\n",
              "<style scoped>\n",
              "    .dataframe tbody tr th:only-of-type {\n",
              "        vertical-align: middle;\n",
              "    }\n",
              "\n",
              "    .dataframe tbody tr th {\n",
              "        vertical-align: top;\n",
              "    }\n",
              "\n",
              "    .dataframe thead th {\n",
              "        text-align: right;\n",
              "    }\n",
              "</style>\n",
              "<table border=\"1\" class=\"dataframe\">\n",
              "  <thead>\n",
              "    <tr style=\"text-align: right;\">\n",
              "      <th></th>\n",
              "      <th>index</th>\n",
              "      <th>sentences</th>\n",
              "      <th>Chapter</th>\n",
              "      <th>keyword</th>\n",
              "      <th>secondkey</th>\n",
              "      <th>iskeyword</th>\n",
              "    </tr>\n",
              "  </thead>\n",
              "  <tbody>\n",
              "    <tr>\n",
              "      <th>0</th>\n",
              "      <td>0</td>\n",
              "      <td>소유와 존재의 차이의 중요성 일반적인 상식으로는 소유나 존재냐의 양자백인이 있음 수 없다</td>\n",
              "      <td>1</td>\n",
              "      <td>소유</td>\n",
              "      <td>x</td>\n",
              "      <td>1</td>\n",
              "    </tr>\n",
              "    <tr>\n",
              "      <th>1</th>\n",
              "      <td>1</td>\n",
              "      <td>우리의 눈에는 소유한다는 것이 삶에 포함된 극히 정상적인 행위이다</td>\n",
              "      <td>1</td>\n",
              "      <td>우리</td>\n",
              "      <td>소유</td>\n",
              "      <td>2</td>\n",
              "    </tr>\n",
              "    <tr>\n",
              "      <th>2</th>\n",
              "      <td>2</td>\n",
              "      <td>살기 위해서 우리는 시몽운· 당연히 소유한다</td>\n",
              "      <td>1</td>\n",
              "      <td>우리</td>\n",
              "      <td>소유</td>\n",
              "      <td>2</td>\n",
              "    </tr>\n",
              "    <tr>\n",
              "      <th>3</th>\n",
              "      <td>3</td>\n",
              "      <td>그뿐이뱌 사-뭉음 줍기기 위해서도 그것을 소유하지 않으면 안 된다, 소유하는 것을...</td>\n",
              "      <td>1</td>\n",
              "      <td>사회</td>\n",
              "      <td>소유</td>\n",
              "      <td>2</td>\n",
              "    </tr>\n",
              "    <tr>\n",
              "      <th>4</th>\n",
              "      <td>4</td>\n",
              "      <td>아무것도 소유하지 못한 사람은 아무것도 아닌 존재로 여겨지는 실정이다</td>\n",
              "      <td>1</td>\n",
              "      <td>소유</td>\n",
              "      <td>x</td>\n",
              "      <td>1</td>\n",
              "    </tr>\n",
              "    <tr>\n",
              "      <th>...</th>\n",
              "      <td>...</td>\n",
              "      <td>...</td>\n",
              "      <td>...</td>\n",
              "      <td>...</td>\n",
              "      <td>...</td>\n",
              "      <td>...</td>\n",
              "    </tr>\n",
              "    <tr>\n",
              "      <th>4089</th>\n",
              "      <td>4089</td>\n",
              "      <td>e)과 반UX,antithesis, Antithese이)  라면 새로운 합(合</td>\n",
              "      <td>9</td>\n",
              "      <td>x</td>\n",
              "      <td>x</td>\n",
              "      <td>0</td>\n",
              "    </tr>\n",
              "    <tr>\n",
              "      <th>4090</th>\n",
              "      <td>4090</td>\n",
              "      <td>synthesis</td>\n",
              "      <td>9</td>\n",
              "      <td>x</td>\n",
              "      <td>x</td>\n",
              "      <td>0</td>\n",
              "    </tr>\n",
              "    <tr>\n",
              "      <th>4091</th>\n",
              "      <td>4091</td>\n",
              "      <td>Synthese)-즉 중세 후기의 종교적 핵심과 르네상스 이후의 과학적 사고 빚개...</td>\n",
              "      <td>9</td>\n",
              "      <td>x</td>\n",
              "      <td>x</td>\n",
              "      <td>0</td>\n",
              "    </tr>\n",
              "    <tr>\n",
              "      <th>4092</th>\n",
              "      <td>4092</td>\n",
              "      <td>이 합이 바로 존재의 도시이다</td>\n",
              "      <td>9</td>\n",
              "      <td>x</td>\n",
              "      <td>x</td>\n",
              "      <td>0</td>\n",
              "    </tr>\n",
              "    <tr>\n",
              "      <th>4093</th>\n",
              "      <td>4093</td>\n",
              "      <td>288</td>\n",
              "      <td>9</td>\n",
              "      <td>x</td>\n",
              "      <td>x</td>\n",
              "      <td>0</td>\n",
              "    </tr>\n",
              "  </tbody>\n",
              "</table>\n",
              "<p>4094 rows × 6 columns</p>\n",
              "</div>\n",
              "      <button class=\"colab-df-convert\" onclick=\"convertToInteractive('df-c66a2211-92bb-401b-b39f-b6c78cd461ff')\"\n",
              "              title=\"Convert this dataframe to an interactive table.\"\n",
              "              style=\"display:none;\">\n",
              "        \n",
              "  <svg xmlns=\"http://www.w3.org/2000/svg\" height=\"24px\"viewBox=\"0 0 24 24\"\n",
              "       width=\"24px\">\n",
              "    <path d=\"M0 0h24v24H0V0z\" fill=\"none\"/>\n",
              "    <path d=\"M18.56 5.44l.94 2.06.94-2.06 2.06-.94-2.06-.94-.94-2.06-.94 2.06-2.06.94zm-11 1L8.5 8.5l.94-2.06 2.06-.94-2.06-.94L8.5 2.5l-.94 2.06-2.06.94zm10 10l.94 2.06.94-2.06 2.06-.94-2.06-.94-.94-2.06-.94 2.06-2.06.94z\"/><path d=\"M17.41 7.96l-1.37-1.37c-.4-.4-.92-.59-1.43-.59-.52 0-1.04.2-1.43.59L10.3 9.45l-7.72 7.72c-.78.78-.78 2.05 0 2.83L4 21.41c.39.39.9.59 1.41.59.51 0 1.02-.2 1.41-.59l7.78-7.78 2.81-2.81c.8-.78.8-2.07 0-2.86zM5.41 20L4 18.59l7.72-7.72 1.47 1.35L5.41 20z\"/>\n",
              "  </svg>\n",
              "      </button>\n",
              "      \n",
              "  <style>\n",
              "    .colab-df-container {\n",
              "      display:flex;\n",
              "      flex-wrap:wrap;\n",
              "      gap: 12px;\n",
              "    }\n",
              "\n",
              "    .colab-df-convert {\n",
              "      background-color: #E8F0FE;\n",
              "      border: none;\n",
              "      border-radius: 50%;\n",
              "      cursor: pointer;\n",
              "      display: none;\n",
              "      fill: #1967D2;\n",
              "      height: 32px;\n",
              "      padding: 0 0 0 0;\n",
              "      width: 32px;\n",
              "    }\n",
              "\n",
              "    .colab-df-convert:hover {\n",
              "      background-color: #E2EBFA;\n",
              "      box-shadow: 0px 1px 2px rgba(60, 64, 67, 0.3), 0px 1px 3px 1px rgba(60, 64, 67, 0.15);\n",
              "      fill: #174EA6;\n",
              "    }\n",
              "\n",
              "    [theme=dark] .colab-df-convert {\n",
              "      background-color: #3B4455;\n",
              "      fill: #D2E3FC;\n",
              "    }\n",
              "\n",
              "    [theme=dark] .colab-df-convert:hover {\n",
              "      background-color: #434B5C;\n",
              "      box-shadow: 0px 1px 3px 1px rgba(0, 0, 0, 0.15);\n",
              "      filter: drop-shadow(0px 1px 2px rgba(0, 0, 0, 0.3));\n",
              "      fill: #FFFFFF;\n",
              "    }\n",
              "  </style>\n",
              "\n",
              "      <script>\n",
              "        const buttonEl =\n",
              "          document.querySelector('#df-c66a2211-92bb-401b-b39f-b6c78cd461ff button.colab-df-convert');\n",
              "        buttonEl.style.display =\n",
              "          google.colab.kernel.accessAllowed ? 'block' : 'none';\n",
              "\n",
              "        async function convertToInteractive(key) {\n",
              "          const element = document.querySelector('#df-c66a2211-92bb-401b-b39f-b6c78cd461ff');\n",
              "          const dataTable =\n",
              "            await google.colab.kernel.invokeFunction('convertToInteractive',\n",
              "                                                     [key], {});\n",
              "          if (!dataTable) return;\n",
              "\n",
              "          const docLinkHtml = 'Like what you see? Visit the ' +\n",
              "            '<a target=\"_blank\" href=https://colab.research.google.com/notebooks/data_table.ipynb>data table notebook</a>'\n",
              "            + ' to learn more about interactive tables.';\n",
              "          element.innerHTML = '';\n",
              "          dataTable['output_type'] = 'display_data';\n",
              "          await google.colab.output.renderOutput(dataTable, element);\n",
              "          const docLink = document.createElement('div');\n",
              "          docLink.innerHTML = docLinkHtml;\n",
              "          element.appendChild(docLink);\n",
              "        }\n",
              "      </script>\n",
              "    </div>\n",
              "  </div>\n",
              "  "
            ],
            "text/plain": [
              "      index  ... iskeyword\n",
              "0         0  ...         1\n",
              "1         1  ...         2\n",
              "2         2  ...         2\n",
              "3         3  ...         2\n",
              "4         4  ...         1\n",
              "...     ...  ...       ...\n",
              "4089   4089  ...         0\n",
              "4090   4090  ...         0\n",
              "4091   4091  ...         0\n",
              "4092   4092  ...         0\n",
              "4093   4093  ...         0\n",
              "\n",
              "[4094 rows x 6 columns]"
            ]
          },
          "metadata": {},
          "execution_count": 30
        }
      ]
    },
    {
      "cell_type": "markdown",
      "source": [
        ""
      ],
      "metadata": {
        "id": "Qb5IbTi9bvdy"
      }
    },
    {
      "cell_type": "markdown",
      "source": [
        "iskeyword가 잘 적용된 모습이다."
      ],
      "metadata": {
        "id": "Ir_PhHPQZ9PZ"
      }
    },
    {
      "cell_type": "code",
      "source": [
        "df_s.plot(kind='scatter',x ='index', y = \"iskeyword\")"
      ],
      "metadata": {
        "colab": {
          "base_uri": "https://localhost:8080/",
          "height": 297
        },
        "id": "f7szXZimuGMu",
        "outputId": "75d244c1-1b13-451f-8d48-017b2b35d092"
      },
      "execution_count": null,
      "outputs": [
        {
          "output_type": "execute_result",
          "data": {
            "text/plain": [
              "<matplotlib.axes._subplots.AxesSubplot at 0x7f425d327a50>"
            ]
          },
          "metadata": {},
          "execution_count": 31
        },
        {
          "output_type": "display_data",
          "data": {
            "image/png": "[encoded data removed]",
            "text/plain": [
              "<Figure size 432x288 with 1 Axes>"
            ]
          },
          "metadata": {
            "needs_background": "light"
          }
        }
      ]
    },
    {
      "cell_type": "markdown",
      "source": [
        "책에서 keyword가 등장한 위치를 분석하기 위해 차트를 만들었지만, 생각보다 그래프가 작게 나왔다."
      ],
      "metadata": {
        "id": "8G7GQcOrci_t"
      }
    },
    {
      "cell_type": "code",
      "source": [
        "import matplotlib.pyplot as plot\n",
        "plt.rcParams['figure.figsize'] = [100, 5]"
      ],
      "metadata": {
        "id": "UaKIvRCcwi5j"
      },
      "execution_count": null,
      "outputs": []
    },
    {
      "cell_type": "code",
      "source": [
        "df_s.plot(kind='scatter',x ='index', y = \"iskeyword\")"
      ],
      "metadata": {
        "colab": {
          "base_uri": "https://localhost:8080/",
          "height": 114
        },
        "id": "aamxpiUbc7vl",
        "outputId": "4907a041-f354-4af6-b6f8-f2fbc15e8343"
      },
      "execution_count": null,
      "outputs": [
        {
          "output_type": "execute_result",
          "data": {
            "text/plain": [
              "<matplotlib.axes._subplots.AxesSubplot at 0x7f425cdb08d0>"
            ]
          },
          "metadata": {},
          "execution_count": 33
        },
        {
          "output_type": "display_data",
          "data": {
            "image/png": "[encoded data removed]",
            "text/plain": [
              "<Figure size 7200x360 with 1 Axes>"
            ]
          },
          "metadata": {
            "needs_background": "light"
          }
        }
      ]
    },
    {
      "cell_type": "markdown",
      "source": [
        "전체 데이터의 경우 x축을 100까지 늘려야 겨우 구분이 가능했다. 챕터별로 구분해서 분석하기로 했다."
      ],
      "metadata": {
        "id": "XCD8ue0PdUtz"
      }
    },
    {
      "cell_type": "code",
      "source": [
        "plt.rcParams['figure.figsize'] = [20, 5]\n",
        "df_s[df_s['Chapter'] == 1].plot(kind='scatter',x ='index', y = \"iskeyword\")"
      ],
      "metadata": {
        "id": "471GV79_c9nW",
        "colab": {
          "base_uri": "https://localhost:8080/",
          "height": 352
        },
        "outputId": "5223ea5c-fd23-41a0-d535-1e5974ece51d"
      },
      "execution_count": null,
      "outputs": [
        {
          "output_type": "execute_result",
          "data": {
            "text/plain": [
              "<matplotlib.axes._subplots.AxesSubplot at 0x7f425ce51b90>"
            ]
          },
          "metadata": {},
          "execution_count": 34
        },
        {
          "output_type": "display_data",
          "data": {
            "image/png": "[encoded data removed]",
            "text/plain": [
              "<Figure size 1440x360 with 1 Axes>"
            ]
          },
          "metadata": {
            "needs_background": "light"
          }
        }
      ]
    },
    {
      "cell_type": "markdown",
      "source": [
        "유의미한 분석을 위해 챕터 별로 나누어 분석을 진행했다. "
      ],
      "metadata": {
        "id": "0D-1I-F4cTGv"
      }
    },
    {
      "cell_type": "code",
      "source": [
        "plt.rcParams['figure.figsize'] = [20, 5]\n",
        "df_s[df_s['Chapter'] == 2].plot(kind='scatter',x ='index', y = \"iskeyword\")"
      ],
      "metadata": {
        "colab": {
          "base_uri": "https://localhost:8080/",
          "height": 352
        },
        "id": "OOAQZZoGbgiL",
        "outputId": "556dcb32-72df-492a-c5a0-b11fd5605df2"
      },
      "execution_count": null,
      "outputs": [
        {
          "output_type": "execute_result",
          "data": {
            "text/plain": [
              "<matplotlib.axes._subplots.AxesSubplot at 0x7f425c3042d0>"
            ]
          },
          "metadata": {},
          "execution_count": 35
        },
        {
          "output_type": "display_data",
          "data": {
            "image/png": "[encoded data removed]",
            "text/plain": [
              "<Figure size 1440x360 with 1 Axes>"
            ]
          },
          "metadata": {
            "needs_background": "light"
          }
        }
      ]
    },
    {
      "cell_type": "code",
      "source": [
        "plt.rcParams['figure.figsize'] = [20, 5]\n",
        "df_s[df_s['Chapter'] == 3].plot(kind='scatter',x ='index', y = \"iskeyword\")"
      ],
      "metadata": {
        "colab": {
          "base_uri": "https://localhost:8080/",
          "height": 352
        },
        "id": "Pc3ujb-3cIQZ",
        "outputId": "12bb6241-8e18-4e9e-d27e-7b2e58bf76d2"
      },
      "execution_count": null,
      "outputs": [
        {
          "output_type": "execute_result",
          "data": {
            "text/plain": [
              "<matplotlib.axes._subplots.AxesSubplot at 0x7f425c3024d0>"
            ]
          },
          "metadata": {},
          "execution_count": 36
        },
        {
          "output_type": "display_data",
          "data": {
            "image/png": "[encoded data removed]",
            "text/plain": [
              "<Figure size 1440x360 with 1 Axes>"
            ]
          },
          "metadata": {
            "needs_background": "light"
          }
        }
      ]
    },
    {
      "cell_type": "code",
      "source": [
        "plt.rcParams['figure.figsize'] = [20, 5]\n",
        "df_s[df_s['Chapter'] == 4].plot(kind='scatter',x ='index', y = \"iskeyword\")"
      ],
      "metadata": {
        "colab": {
          "base_uri": "https://localhost:8080/",
          "height": 352
        },
        "id": "6a2pL3rXdNov",
        "outputId": "48e089dd-e66e-4e33-a602-14c5be0b5045"
      },
      "execution_count": null,
      "outputs": [
        {
          "output_type": "execute_result",
          "data": {
            "text/plain": [
              "<matplotlib.axes._subplots.AxesSubplot at 0x7f425c2321d0>"
            ]
          },
          "metadata": {},
          "execution_count": 37
        },
        {
          "output_type": "display_data",
          "data": {
            "image/png": "[encoded data removed]",
            "text/plain": [
              "<Figure size 1440x360 with 1 Axes>"
            ]
          },
          "metadata": {
            "needs_background": "light"
          }
        }
      ]
    },
    {
      "cell_type": "code",
      "source": [
        "plt.rcParams['figure.figsize'] = [20, 5]\n",
        "df_s[df_s['Chapter'] == 5].plot(kind='scatter',x ='index', y = \"iskeyword\")"
      ],
      "metadata": {
        "colab": {
          "base_uri": "https://localhost:8080/",
          "height": 274
        },
        "id": "_QBkXdHwdRJv",
        "outputId": "39ae3e3b-b10a-4b79-b217-f6ca6ef532ec"
      },
      "execution_count": null,
      "outputs": [
        {
          "output_type": "execute_result",
          "data": {
            "text/plain": [
              "<matplotlib.axes._subplots.AxesSubplot at 0x7f8999318ed0>"
            ]
          },
          "metadata": {},
          "execution_count": 41
        },
        {
          "output_type": "display_data",
          "data": {
            "image/png": "[encoded data removed]",
            "text/plain": [
              "<Figure size 1440x360 with 1 Axes>"
            ]
          },
          "metadata": {
            "needs_background": "light"
          }
        }
      ]
    },
    {
      "cell_type": "code",
      "source": [
        "plt.rcParams['figure.figsize'] = [20, 5]\n",
        "df_s[df_s['Chapter'] == 6].plot(kind='scatter',x ='index', y = \"iskeyword\")"
      ],
      "metadata": {
        "colab": {
          "base_uri": "https://localhost:8080/",
          "height": 274
        },
        "id": "bNnyQ-hJddCg",
        "outputId": "5ae23721-2ff1-41ad-a300-2ddbb93c754f"
      },
      "execution_count": null,
      "outputs": [
        {
          "output_type": "execute_result",
          "data": {
            "text/plain": [
              "<matplotlib.axes._subplots.AxesSubplot at 0x7f8999278cd0>"
            ]
          },
          "metadata": {},
          "execution_count": 42
        },
        {
          "output_type": "display_data",
          "data": {
            "image/png": "[encoded data removed]",
            "text/plain": [
              "<Figure size 1440x360 with 1 Axes>"
            ]
          },
          "metadata": {
            "needs_background": "light"
          }
        }
      ]
    },
    {
      "cell_type": "code",
      "source": [
        "plt.rcParams['figure.figsize'] = [20, 5]\n",
        "df_s[df_s['Chapter'] == 7].plot(kind='scatter',x ='index', y = \"iskeyword\")"
      ],
      "metadata": {
        "colab": {
          "base_uri": "https://localhost:8080/",
          "height": 274
        },
        "id": "9rE7hyqgdrVd",
        "outputId": "f123364b-4c81-4a14-bb74-08521d164160"
      },
      "execution_count": null,
      "outputs": [
        {
          "output_type": "execute_result",
          "data": {
            "text/plain": [
              "<matplotlib.axes._subplots.AxesSubplot at 0x7f89991eb1d0>"
            ]
          },
          "metadata": {},
          "execution_count": 43
        },
        {
          "output_type": "display_data",
          "data": {
            "image/png": "[encoded data removed]",
            "text/plain": [
              "<Figure size 1440x360 with 1 Axes>"
            ]
          },
          "metadata": {
            "needs_background": "light"
          }
        }
      ]
    },
    {
      "cell_type": "code",
      "source": [
        "plt.rcParams['figure.figsize'] = [20, 5]\n",
        "df_s[df_s['Chapter'] == 8].plot(kind='scatter',x ='index', y = \"iskeyword\")"
      ],
      "metadata": {
        "colab": {
          "base_uri": "https://localhost:8080/",
          "height": 274
        },
        "id": "nUkHwP6wdv91",
        "outputId": "d678a65d-27d1-488d-f1be-974363fd5cad"
      },
      "execution_count": null,
      "outputs": [
        {
          "output_type": "execute_result",
          "data": {
            "text/plain": [
              "<matplotlib.axes._subplots.AxesSubplot at 0x7f8999387750>"
            ]
          },
          "metadata": {},
          "execution_count": 44
        },
        {
          "output_type": "display_data",
          "data": {
            "image/png": "[encoded data removed]",
            "text/plain": [
              "<Figure size 1440x360 with 1 Axes>"
            ]
          },
          "metadata": {
            "needs_background": "light"
          }
        }
      ]
    },
    {
      "cell_type": "code",
      "source": [
        "plt.rcParams['figure.figsize'] = [20, 5]\n",
        "df_s[df_s['Chapter'] == 9].plot(kind='scatter',x ='index', y = \"iskeyword\")"
      ],
      "metadata": {
        "colab": {
          "base_uri": "https://localhost:8080/",
          "height": 274
        },
        "id": "FUmClt0IdzoH",
        "outputId": "d1626b9d-fb6e-4f94-fad4-a45758f39f5a"
      },
      "execution_count": null,
      "outputs": [
        {
          "output_type": "execute_result",
          "data": {
            "text/plain": [
              "<matplotlib.axes._subplots.AxesSubplot at 0x7f899938e5d0>"
            ]
          },
          "metadata": {},
          "execution_count": 45
        },
        {
          "output_type": "display_data",
          "data": {
            "image/png": "[encoded data removed]",
            "text/plain": [
              "<Figure size 1440x360 with 1 Axes>"
            ]
          },
          "metadata": {
            "needs_background": "light"
          }
        }
      ]
    },
    {
      "cell_type": "markdown",
      "source": [
        "분석결과가 시사하는 바는 다음과 같다.\n",
        "\n",
        "\n",
        "1.   대체로 중반보다는 **초반과 후반**에 키워드가 등장했다.\n",
        "2.   **8장은 키워드의 수가 압도적으로 적었다**. 즉 8장은 전체 글의 흐름과 다른 얘기를 하고 있을 가능성이 높다.\n",
        "\n",
        "다만 챕터 단위의 핵심 키워드의 위치 분석을 통해서 프롬의 **저술 스타일에 대한 유의미한 분석은 불가능**했다. \n",
        "\n",
        "더 유의미한 분석을 위해 챕터별로 핵심 키워드가 등장한 빈도수를 점검하기로 했다.\n",
        "\n"
      ],
      "metadata": {
        "id": "9qzkv3nAd8Vw"
      }
    },
    {
      "cell_type": "code",
      "source": [
        "for i in range(9):\n",
        "  a = df_s[(df_s['iskeyword'] == True) & (df_s['Chapter'] == i+1)].count()\n",
        "  print(a)"
      ],
      "metadata": {
        "colab": {
          "base_uri": "https://localhost:8080/"
        },
        "id": "ACQC9Xfxd3ua",
        "outputId": "80441a9b-db14-4252-9172-1a4ab40416b8"
      },
      "execution_count": null,
      "outputs": [
        {
          "output_type": "stream",
          "name": "stdout",
          "text": [
            "index        63\n",
            "sentences    63\n",
            "Chapter      63\n",
            "keyword      63\n",
            "secondkey    63\n",
            "iskeyword    63\n",
            "dtype: int64\n",
            "index        93\n",
            "sentences    93\n",
            "Chapter      93\n",
            "keyword      93\n",
            "secondkey    93\n",
            "iskeyword    93\n",
            "dtype: int64\n",
            "index        78\n",
            "sentences    78\n",
            "Chapter      78\n",
            "keyword      78\n",
            "secondkey    78\n",
            "iskeyword    78\n",
            "dtype: int64\n",
            "index        120\n",
            "sentences    120\n",
            "Chapter      120\n",
            "keyword      120\n",
            "secondkey    120\n",
            "iskeyword    120\n",
            "dtype: int64\n",
            "index        98\n",
            "sentences    98\n",
            "Chapter      98\n",
            "keyword      98\n",
            "secondkey    98\n",
            "iskeyword    98\n",
            "dtype: int64\n",
            "index        155\n",
            "sentences    155\n",
            "Chapter      155\n",
            "keyword      155\n",
            "secondkey    155\n",
            "iskeyword    155\n",
            "dtype: int64\n",
            "index        209\n",
            "sentences    209\n",
            "Chapter      209\n",
            "keyword      209\n",
            "secondkey    209\n",
            "iskeyword    209\n",
            "dtype: int64\n",
            "index        21\n",
            "sentences    21\n",
            "Chapter      21\n",
            "keyword      21\n",
            "secondkey    21\n",
            "iskeyword    21\n",
            "dtype: int64\n",
            "index        130\n",
            "sentences    130\n",
            "Chapter      130\n",
            "keyword      130\n",
            "secondkey    130\n",
            "iskeyword    130\n",
            "dtype: int64\n"
          ]
        }
      ]
    },
    {
      "cell_type": "markdown",
      "source": [
        "\n",
        "\n",
        "1.   63회\n",
        "2.   93회\n",
        "3.   78회\n",
        "4.   120회\n",
        "5.   98회\n",
        "6.   155회\n",
        "7.   209회\n",
        "8.   21회\n",
        "9.   130회\n",
        "\n",
        "분석이 제대로 됐다면 프롬은 6장과 7장에서 핵심 키워드를 많이 사용했다. 그리고 8장에서는 조금 다른 얘기를 하다가 9장에서 다시 핵심 키워드를 환기하는 글쓰기 전략을 사용한 것으로 보인다."
      ],
      "metadata": {
        "id": "lgKpzyJJgaxK"
      }
    },
    {
      "cell_type": "code",
      "source": [
        "chapter_keys = [63, 93, 78, 120, 98, 155, 209, 21, 130]\n",
        "df_c = pd.DataFrame(chapter_keys)\n",
        "\n",
        "plt.rcParams['figure.figsize'] = [10, 5]\n",
        "df_c.plot(kind='line')"
      ],
      "metadata": {
        "colab": {
          "base_uri": "https://localhost:8080/",
          "height": 338
        },
        "id": "qGvZmQoFfgDc",
        "outputId": "4cd198ea-38e5-47f5-9368-518f9c9810b6"
      },
      "execution_count": null,
      "outputs": [
        {
          "output_type": "execute_result",
          "data": {
            "text/plain": [
              "<matplotlib.axes._subplots.AxesSubplot at 0x7f425c19a490>"
            ]
          },
          "metadata": {},
          "execution_count": 39
        },
        {
          "output_type": "display_data",
          "data": {
            "image/png": "[encoded data removed]",
            "text/plain": [
              "<Figure size 720x360 with 1 Axes>"
            ]
          },
          "metadata": {
            "needs_background": "light"
          }
        }
      ]
    },
    {
      "cell_type": "markdown",
      "source": [
        "조금 소모적이긴 하지만, 일일이 값을 입력해서 데이타 프레임을 만들었다. 새로 만든 데이터 프레임을 통해 꺾은 선 그래프를 만들었다. 차트 모양을 보면 **7장까지 점점 고조**되어 가다가 **8장에서 크게 출현 빈도가 떨어진** **모습**을 확인할 수 있다."
      ],
      "metadata": {
        "id": "ksYZhUqjir7I"
      }
    },
    {
      "cell_type": "code",
      "source": [
        "df[(df['Chapter'] == 8)]['nouns'].value_counts()"
      ],
      "metadata": {
        "colab": {
          "base_uri": "https://localhost:8080/"
        },
        "id": "L-0TRN0yhy0B",
        "outputId": "cd973722-2a67-4404-a6e5-2b527f83e890"
      },
      "execution_count": null,
      "outputs": [
        {
          "output_type": "execute_result",
          "data": {
            "text/plain": [
              "인간     20\n",
              "변화     11\n",
              "우리      9\n",
              "자신      9\n",
              "음       9\n",
              "       ..\n",
              "참여      1\n",
              "다른      1\n",
              "뿐더러     1\n",
              "복       1\n",
              "껏       1\n",
              "Name: nouns, Length: 471, dtype: int64"
            ]
          },
          "metadata": {},
          "execution_count": 40
        }
      ]
    },
    {
      "cell_type": "markdown",
      "source": [
        "8장을 따로 분석해본 결과 8장에서는 **'인간'**이라는 단어가 가장 많이 사용되었다. 그런데 길이를 확인해본 결과 471로 다른 장에 비해서 현전히 적어보였다. "
      ],
      "metadata": {
        "id": "rc_8o_T8kTuh"
      }
    },
    {
      "cell_type": "code",
      "source": [
        "df[(df['Chapter'] == 7)]['nouns'].value_counts()"
      ],
      "metadata": {
        "colab": {
          "base_uri": "https://localhost:8080/"
        },
        "id": "8PFa6s8RkH8S",
        "outputId": "19a3b098-b675-4f71-b6db-271dd4bab370"
      },
      "execution_count": null,
      "outputs": [
        {
          "output_type": "execute_result",
          "data": {
            "text/plain": [
              "인간      128\n",
              "종교       98\n",
              "사회       93\n",
              "우리       73\n",
              "성격       70\n",
              "       ... \n",
              "질의        1\n",
              "출하        1\n",
              "질병        1\n",
              "다몬        1\n",
              "고고학자      1\n",
              "Name: nouns, Length: 2826, dtype: int64"
            ]
          },
          "metadata": {},
          "execution_count": 41
        }
      ]
    },
    {
      "cell_type": "markdown",
      "source": [
        "8장과 달리 7장의 경우 길이가 2826이다. 7장의 경우 **'인간'**이 전체에서 차지하는 비중은 약 4%이고 8장에서 **'인간'**이 전체에서 차지하는 비중 역시 4%에 가까웠다. 즉 단순히 등장 횟수만을 비교할 경우 중요도를 파악하기 어려웠다. 정확한 분석을 위해선 각 장의 전체 단어 개수 대비 핵심 키워드의 비중을 찾아야 한다."
      ],
      "metadata": {
        "id": "Bk6iWyhvkl_J"
      }
    },
    {
      "cell_type": "code",
      "source": [
        "df[(df['Chapter'] == 1)]['nouns'].value_counts()"
      ],
      "metadata": {
        "colab": {
          "base_uri": "https://localhost:8080/"
        },
        "id": "iJUpaI2mkaWY",
        "outputId": "3340a054-9ba9-4751-f906-caf57f1969d3"
      },
      "execution_count": null,
      "outputs": [
        {
          "output_type": "execute_result",
          "data": {
            "text/plain": [
              "소유    59\n",
              "나     51\n",
              "존재    32\n",
              "인간    26\n",
              "꽃     22\n",
              "      ..\n",
              "권      1\n",
              "진환     1\n",
              "비중     1\n",
              "비어     1\n",
              "구체     1\n",
              "Name: nouns, Length: 1111, dtype: int64"
            ]
          },
          "metadata": {},
          "execution_count": 42
        }
      ]
    },
    {
      "cell_type": "markdown",
      "source": [
        "1장에서 가장 많이 등장한 단어는 **소유**였다. 소유는 1장에서 약 5%의 비중을 차지하고 있다. 다음으로 많은 비중을 차지하는 단어는 '나'이다. '나'는 앞에서 선정했던 전체 핵심 키워드 4가지에 포함되지 않는다. 즉 '나'는 1장에서 **특수하게 중요시하고 있는 워딩**이다. '나'가 1장 전체에서 차지하고 있는 비중은 소유와 유사하다."
      ],
      "metadata": {
        "id": "_3MIazvUltCj"
      }
    },
    {
      "cell_type": "code",
      "source": [
        "df[(df['Chapter'] == 2)]['nouns'].value_counts()"
      ],
      "metadata": {
        "colab": {
          "base_uri": "https://localhost:8080/"
        },
        "id": "pjpTnLLWliDH",
        "outputId": "393bff86-abfb-40f7-f101-75957fe965f6"
      },
      "execution_count": null,
      "outputs": [
        {
          "output_type": "execute_result",
          "data": {
            "text/plain": [
              "권위    46\n",
              "소유    43\n",
              "사랑    42\n",
              "사람    38\n",
              "존재    37\n",
              "      ..\n",
              "은폐     1\n",
              "다해     1\n",
              "첫      1\n",
              "제거     1\n",
              "장면     1\n",
              "Name: nouns, Length: 1681, dtype: int64"
            ]
          },
          "metadata": {},
          "execution_count": 43
        }
      ]
    },
    {
      "cell_type": "markdown",
      "source": [
        "2장에서 가장 많이 등장한 단어는 **'권위'**였다. 권위는 앞에서 선정했던 전체 핵심 키워드에 포함되지 않는다. 즉 권위는 2장에서 특수하게 중요시하고 있는 키워드라고 볼 수 있겠다. 권위는 2장에서 약 3%의 비중을 차지하고 있다. 소유 역시 유사한 비중을 차지하고 있다. 3번째로는 사랑, 4번째로는 사람, 5번째로는 존재가 비슷한 비중으로 등장하고 있다. "
      ],
      "metadata": {
        "id": "Kz44cQYImAde"
      }
    },
    {
      "cell_type": "code",
      "source": [
        "df[(df['Chapter'] == 3)]['nouns'].value_counts()"
      ],
      "metadata": {
        "colab": {
          "base_uri": "https://localhost:8080/"
        },
        "id": "TKW6LiQjl8HM",
        "outputId": "8310cc0a-a015-4144-bf35-7366524169f1"
      },
      "execution_count": null,
      "outputs": [
        {
          "output_type": "execute_result",
          "data": {
            "text/plain": [
              "소유       42\n",
              "에크하르트    40\n",
              "인간       38\n",
              "우리       32\n",
              "사람       26\n",
              "         ..\n",
              "점옵        1\n",
              "예행        1\n",
              "아주        1\n",
              "소수민족      1\n",
              "항         1\n",
              "Name: nouns, Length: 1600, dtype: int64"
            ]
          },
          "metadata": {},
          "execution_count": 44
        }
      ]
    },
    {
      "cell_type": "markdown",
      "source": [
        "3장에서는 **소유**가 가장 많이 등장했다. 소유가 3장 전체에서 차지하는 비중은 약 2.6%이다. 인간, 우리 역시 비슷한 비중을 차지하고 있다. 다만 2장의 경우 에크하르트가 많이 언급 됐음을 분석을 통해 알 수 있었다. 즉 3장은 에크하르트를 중심으로 내용을 전개하고 있을 것이다."
      ],
      "metadata": {
        "id": "kp0PgM47m6SP"
      }
    },
    {
      "cell_type": "code",
      "source": [
        "df[(df['Chapter'] == 4)]['nouns'].value_counts()"
      ],
      "metadata": {
        "colab": {
          "base_uri": "https://localhost:8080/"
        },
        "id": "tFqMuPJ8myfH",
        "outputId": "35b80a8f-3922-455c-e0b3-a7a51a8f9db0"
      },
      "execution_count": null,
      "outputs": [
        {
          "output_type": "execute_result",
          "data": {
            "text/plain": [
              "소유      91\n",
              "우리      44\n",
              "나       40\n",
              "사회      34\n",
              "인간      24\n",
              "        ..\n",
              "선사시대     1\n",
              "종속       1\n",
              "증오       1\n",
              "사적       1\n",
              "이욤       1\n",
              "Name: nouns, Length: 1559, dtype: int64"
            ]
          },
          "metadata": {},
          "execution_count": 53
        }
      ]
    },
    {
      "cell_type": "markdown",
      "source": [
        "4장에서는 '**소유'**가 압도적으로 많이 등장했다. 전체에서 차지하는 비중은 약 5.8%로 압도적이다. 그외에도 우리, 나, 사회가 많이 등장했다. 이 시점에서 한가지 알게된 흥미로운 사실은 **'우리' 혹은 '사회'가 많이 등장하면 '존재'가 적게 등장하고 '존재'가 등장할 경우 반대로 전자가 적게 등장한다는 점**이다. 연구자의 가설이 맞다면 흄은 존재, 우리, 사회를 동일시하고 있을 가능성이 있다. 그리고 앞에서 짧게 언급했던 것처럼 우리, 사회는 '공동체'와 연관이 있을 가능성이 있을 가능성이 크다. **만약 존재와 공동체의 유사도가 높다면, 가설의 타당성을 더 올라갈 것**이다."
      ],
      "metadata": {
        "id": "9RfuvYjtnc5X"
      }
    },
    {
      "cell_type": "code",
      "source": [
        "df[(df['Chapter'] == 5)]['nouns'].value_counts()"
      ],
      "metadata": {
        "colab": {
          "base_uri": "https://localhost:8080/"
        },
        "id": "yNspZKZTnatq",
        "outputId": "cb2de684-8ead-4af7-eb17-9872f43f781d"
      },
      "execution_count": null,
      "outputs": [
        {
          "output_type": "execute_result",
          "data": {
            "text/plain": [
              "우리    74\n",
              "인간    64\n",
              "사회    36\n",
              "나     31\n",
              "자신    28\n",
              "      ..\n",
              "시신     1\n",
              "차변     1\n",
              "상생     1\n",
              "허용     1\n",
              "남녀     1\n",
              "Name: nouns, Length: 1727, dtype: int64"
            ]
          },
          "metadata": {},
          "execution_count": 54
        }
      ]
    },
    {
      "cell_type": "markdown",
      "source": [
        "5장에서는 '**우리**'가 압도적으로 많이 등장하고 있다. 5장도 마찬가지로 '존재'가 등장하지 않고 있다. '우리'가 5장에서 차지하는 비중은 약 4.2%이다. 또한, 5장에는 인간 역시 높은 비중으로 등장하고 있다."
      ],
      "metadata": {
        "id": "OUkZBipZo9FZ"
      }
    },
    {
      "cell_type": "code",
      "source": [
        "df[(df['Chapter'] == 6)]['nouns'].value_counts()"
      ],
      "metadata": {
        "colab": {
          "base_uri": "https://localhost:8080/"
        },
        "id": "ne42PUwVo5yj",
        "outputId": "78c9d0ea-1fb2-42d1-b4b1-6391fa76555c"
      },
      "execution_count": null,
      "outputs": [
        {
          "output_type": "execute_result",
          "data": {
            "text/plain": [
              "소유     92\n",
              "우리     67\n",
              "인간     49\n",
              "존재     37\n",
              "두려움    32\n",
              "       ..\n",
              "생리      1\n",
              "신학자     1\n",
              "한편      1\n",
              "확인      1\n",
              "별       1\n",
              "Name: nouns, Length: 1939, dtype: int64"
            ]
          },
          "metadata": {},
          "execution_count": 55
        }
      ]
    },
    {
      "cell_type": "markdown",
      "source": [
        "6장에서 가장 많이 등장한 단어는 '**소유**'이다. 소유는 6장 전체에서 약 4.7% 정도의 비중을 차지하고 있다. 다음으로 '우리' 역시 많이 등장한다. 한가지 예외적인 사실은 우리와 존재가 함께 등장하고 있다는 점이다. 다만 이 경우에 **'사회'는 높은 비중으로 등장하지 않았다**. "
      ],
      "metadata": {
        "id": "r6N357_CpedA"
      }
    },
    {
      "cell_type": "code",
      "source": [
        "df[(df['Chapter'] == 9)]['nouns'].value_counts()"
      ],
      "metadata": {
        "colab": {
          "base_uri": "https://localhost:8080/"
        },
        "id": "zxzd8PKNpaPR",
        "outputId": "bbd54ec6-b20a-4c59-c88e-c2af8153661e"
      },
      "execution_count": null,
      "outputs": [
        {
          "output_type": "execute_result",
          "data": {
            "text/plain": [
              "사회     78\n",
              "인간     49\n",
              "우리     49\n",
              "관료     45\n",
              "사람     40\n",
              "       ..\n",
              "황폐      1\n",
              "예술      1\n",
              "선백      1\n",
              "입후보     1\n",
              "우유      1\n",
              "Name: nouns, Length: 2366, dtype: int64"
            ]
          },
          "metadata": {},
          "execution_count": 56
        }
      ]
    },
    {
      "cell_type": "markdown",
      "source": [
        "9장에서 프롬은 **'사회'**를 가장 많이 언급하고 있다. 사회는 9장 전체에서 약 3%의 비중을 차지하고 있다. 결국 프롬이 소유냐 존재냐에서 **결론적으로 언급하고 싶었던 개념이 '사회'**인 것이다. 심지어 프롬은 7장 다음으로 9장에 가장 많은 워딩을 배치하고 있다. "
      ],
      "metadata": {
        "id": "FpYmYZ-GqKjX"
      }
    },
    {
      "cell_type": "code",
      "source": [
        "chapter_wording = [1111, 1681, 1600, 1559, 1729, 1939, 2826, 471, 2366]\n",
        "df_w = pd.DataFrame(chapter_wording)\n",
        "\n",
        "plt.rcParams['figure.figsize'] = [10, 5]\n",
        "df_w.plot(kind='line')"
      ],
      "metadata": {
        "colab": {
          "base_uri": "https://localhost:8080/",
          "height": 338
        },
        "id": "w9UMV1h3qIUi",
        "outputId": "31794907-86d1-4ef2-e943-bcac8b7a2a6a"
      },
      "execution_count": null,
      "outputs": [
        {
          "output_type": "execute_result",
          "data": {
            "text/plain": [
              "<matplotlib.axes._subplots.AxesSubplot at 0x7f425c136950>"
            ]
          },
          "metadata": {},
          "execution_count": 45
        },
        {
          "output_type": "display_data",
          "data": {
            "image/png": "[encoded data removed]",
            "text/plain": [
              "<Figure size 720x360 with 1 Axes>"
            ]
          },
          "metadata": {
            "needs_background": "light"
          }
        }
      ]
    },
    {
      "cell_type": "markdown",
      "source": [
        "장별 전체 워딩의 개수를 비교해본 결과 차트 모양이 핵심 키워드의 출현 빈도와 얼추 일치함을 알 수 있다. 즉 프롬은 **자신이 중요하다고 생각하는 챕터에 많은 워딩을 넣고** 마찬가지로 **중요한 챕터에 핵심 키워드를 높은 비중으로 구성** 하고 있다. 그리고 차트 모양을 보면 프롬의 글쓰기 구성 방식은 **뒤로 갈수록 고도** 되다가 **결론 직전에 다른 주제를 환기**하는 스타일로 추측된다."
      ],
      "metadata": {
        "id": "2PuGAoCtrl5E"
      }
    },
    {
      "cell_type": "markdown",
      "source": [
        "마지막으로 점검해야할 사안이 세 가지 남았다.\n",
        "\n",
        "\n",
        "1.   '공동체'라는 단어가 '우리', '사회'와 관련이 있을 것인가?\n",
        "2.   '존재'는 '우리', '사회'와 유사한 개념으로 사용되고 있는가?\n",
        "3.    섹션별로 데이터베이스를 나눌 경우 유의미한 패턴 분석이 가능할까?\n",
        "\n"
      ],
      "metadata": {
        "id": "SoxIs166siYP"
      }
    },
    {
      "cell_type": "code",
      "source": [
        "for i in range(1, 10):\n",
        "  print(df[(df['Chapter'] == i) & (df['nouns'] == '공동체')]['nouns'].value_counts())"
      ],
      "metadata": {
        "id": "sKiN1fDOrcNF",
        "colab": {
          "base_uri": "https://localhost:8080/"
        },
        "outputId": "32d3fba4-3435-4d97-9555-f3eabc9ee946"
      },
      "execution_count": null,
      "outputs": [
        {
          "output_type": "stream",
          "name": "stdout",
          "text": [
            "Series([], Name: nouns, dtype: int64)\n",
            "Series([], Name: nouns, dtype: int64)\n",
            "공동체    5\n",
            "Name: nouns, dtype: int64\n",
            "Series([], Name: nouns, dtype: int64)\n",
            "공동체    2\n",
            "Name: nouns, dtype: int64\n",
            "Series([], Name: nouns, dtype: int64)\n",
            "공동체    3\n",
            "Name: nouns, dtype: int64\n",
            "Series([], Name: nouns, dtype: int64)\n",
            "공동체    4\n",
            "Name: nouns, dtype: int64\n"
          ]
        }
      ]
    },
    {
      "cell_type": "markdown",
      "source": [
        "공동체라는 단어가 등장한 장은 **3장, 5장, 7장, 9장**이다. 각 장에서 핵심 단어는 다음과 같았다.  \n",
        "\n",
        "1.   소유, 에크하르트 (3장) - 공동체 5번 등장\n",
        "2.   우리, 인간, 사회 (5장) - 공동체 2번 등장\n",
        "3.   인간, 종교, 사회 (7장) - 공동체 3번 등장\n",
        "4.   사회, 인간, 우리 (9장) - 공동체 4번 등장\n",
        "\n",
        "특이한 점은 3장에서 공동체가 가장 많이 등장하고 있다는 점이다. 즉 프롬은 3장에서 **에크하르트를 언급하며 종교와 공동체를 연결**하고 있다고 추측할 수 있다. 종교에 관한 언급은 7장에서도 많이 등장하고 있다. 5장, 7장, 9장은 모두 '인간', '우리', '사회' 등 공동체와 연관된 핵심 키워드들이 등장하고 있다. 즉 프롬은 **홀수 챕터에서 공동체, 사회와 관련된 주제를 서술**하고 있다.\n",
        "\n"
      ],
      "metadata": {
        "id": "Bs4u5lc-mEpr"
      }
    },
    {
      "cell_type": "markdown",
      "source": [
        "그러나 기존의 가설과 달리 '존재'가 많이 등장했던 1장과 6장에서는 '공동체'라는 키워드를 발견할 수 없었다. "
      ],
      "metadata": {
        "id": "3rXgtDbeoQ8j"
      }
    },
    {
      "cell_type": "code",
      "source": [
        "for i in range(1, 10):\n",
        "  print(df[(df['Chapter'] == i) & (df['nouns'] == '존재')]['nouns'].value_counts())"
      ],
      "metadata": {
        "colab": {
          "base_uri": "https://localhost:8080/"
        },
        "id": "JL15CN-coQY8",
        "outputId": "bca1ffe2-df59-4a65-f30c-a17fc5234e32"
      },
      "execution_count": null,
      "outputs": [
        {
          "output_type": "stream",
          "name": "stdout",
          "text": [
            "존재    32\n",
            "Name: nouns, dtype: int64\n",
            "존재    37\n",
            "Name: nouns, dtype: int64\n",
            "존재    22\n",
            "Name: nouns, dtype: int64\n",
            "존재    13\n",
            "Name: nouns, dtype: int64\n",
            "존재    28\n",
            "Name: nouns, dtype: int64\n",
            "존재    37\n",
            "Name: nouns, dtype: int64\n",
            "존재    11\n",
            "Name: nouns, dtype: int64\n",
            "존재    5\n",
            "Name: nouns, dtype: int64\n",
            "존재    13\n",
            "Name: nouns, dtype: int64\n"
          ]
        }
      ]
    },
    {
      "cell_type": "markdown",
      "source": [
        "존재가 많이 등장한 장의 순위는 다음과 같다. \n",
        "\n",
        "\n",
        "1.   2장 = 6장 (37번)\n",
        "2.   1장 (32번)\n",
        "\n"
      ],
      "metadata": {
        "id": "u-j74Ccho6Ci"
      }
    },
    {
      "cell_type": "code",
      "source": [
        "print(df_s[df_s['keyword'] == '우리']['secondkey'].value_counts())\n",
        "print(df_s[df_s['keyword'] == '인간']['secondkey'].value_counts())"
      ],
      "metadata": {
        "colab": {
          "base_uri": "https://localhost:8080/"
        },
        "id": "TQvyUcE5lML3",
        "outputId": "489003ab-b8ff-47a8-be0f-4b16660370d9"
      },
      "execution_count": null,
      "outputs": [
        {
          "output_type": "stream",
          "name": "stdout",
          "text": [
            "x     223\n",
            "소유     29\n",
            "Name: secondkey, dtype: int64\n",
            "x     276\n",
            "우리     26\n",
            "Name: secondkey, dtype: int64\n"
          ]
        }
      ]
    },
    {
      "cell_type": "markdown",
      "source": [
        "새로운 가설로 '존재', '우리', '사회'의 연관성을 증명하기로 했다.이전에 데이터프레임의 secondkey를 저장 했다. 만약 우리, 사회의 secondkey가 '존재'가 포함된 문장에서도 함께 사용된다면, 개념들의 연관성을 입증할 수 있을 것이다. 당연한 결과지만, 가장 관련있는 키워드는 **'소유', '인간'**이었다. "
      ],
      "metadata": {
        "id": "ULqajLeepeFn"
      }
    },
    {
      "cell_type": "code",
      "source": [
        "df_s['keyword'] = 'x' #키워드 값 다시 x로 초기화\n",
        "contains_be = df_s['sentences'].str.contains('존재') #문장에서 '존재'를 포함하는 경우\n",
        "\n",
        "keyword_is_x = df_s['keyword'] == 'x' #키워드의 값이 'x'일 경우\n",
        "\n",
        "df_s.loc[(keyword_is_x) & (contains_be), 'keyword'] = '존재' #존재를 포함하면 keyword를 존재로 표시"
      ],
      "metadata": {
        "id": "rOjbXl9grJHe"
      },
      "execution_count": null,
      "outputs": []
    },
    {
      "cell_type": "code",
      "source": [
        "df_s['secondkey'] = 'x' #secondkey를 x로 초기화\n",
        "keyword_be = df_s['keyword'].str.contains('존재') #keyword가 '존재'일 경우\n",
        "\n",
        "keyword_x = df_s['keyword'] != 'x'\n",
        "\n",
        "#키워드가 존재인 것들중 소유, 인간도 포함한 문장 필터링\n",
        "df_s.loc[(keyword_x) & (keyword_be) & (contains_we), 'secondkey'] = '우리' #키워드가 '존재'인 것 중 문장에 '우리'를 포함한 문장\n",
        "df_s.loc[(keyword_be) & (contains_have), 'secondkey'] = '소유' #키워드가 '존재'인 것 중 문장에 '소유'를 포함한 문장"
      ],
      "metadata": {
        "id": "l6fnF7tEsMH3"
      },
      "execution_count": null,
      "outputs": []
    },
    {
      "cell_type": "code",
      "source": [
        "df_s[(df_s['secondkey'] == '소유') | (df_s['secondkey'] == '우리')]['secondkey'].value_counts()"
      ],
      "metadata": {
        "colab": {
          "base_uri": "https://localhost:8080/"
        },
        "id": "gCbacHrGsERq",
        "outputId": "0acf2554-9aea-48d8-ba05-adf82b6e8937"
      },
      "execution_count": null,
      "outputs": [
        {
          "output_type": "execute_result",
          "data": {
            "text/plain": [
              "소유    69\n",
              "우리    13\n",
              "Name: secondkey, dtype: int64"
            ]
          },
          "metadata": {},
          "execution_count": 51
        }
      ]
    },
    {
      "cell_type": "markdown",
      "source": [
        "가설대로 '존재'는 **'소유'와 높은 연관성**을 보였고 **'우리'와도 연관성**을 보였다. 즉 **우리, 사회는 '공동체'와 연관이 있고** '존재'는 공동체와 직접적인 ,연관성을 보이진 않았지만, 존재는 **우리, 사회와 분명히 연관있는 단어**라고 볼 수 있다."
      ],
      "metadata": {
        "id": "2zyqcoi8vdY0"
      }
    },
    {
      "cell_type": "markdown",
      "source": [
        "마지막으로 섹션을 나누어서 패턴 분석을 시도하겠다."
      ],
      "metadata": {
        "id": "NbG_bLaJwCOE"
      }
    },
    {
      "cell_type": "code",
      "source": [
        "with open(\"/content/drive/MyDrive/Colab Notebooks/2021-2 디지털기반철학큐레이팅/data/havebe/chap1sections.txt\", \"r\") as f:\n",
        "  chap1_sections = [line.strip() for line in f]"
      ],
      "metadata": {
        "id": "EKeKdNYju5jY"
      },
      "execution_count": null,
      "outputs": []
    },
    {
      "cell_type": "markdown",
      "source": [
        "공유폴더에 저장되어 있던 section 데이터를 활용했다.\n",
        "\n"
      ],
      "metadata": {
        "id": "KKgMohbCwmT1"
      }
    },
    {
      "cell_type": "code",
      "source": [
        "chap1_sections"
      ],
      "metadata": {
        "id": "pN5yPrBsxAj8",
        "colab": {
          "base_uri": "https://localhost:8080/"
        },
        "outputId": "a6a4e7fe-4c5d-4005-dfac-106b3542433f"
      },
      "execution_count": null,
      "outputs": [
        {
          "output_type": "execute_result",
          "data": {
            "text/plain": [
              "['소유와 존재의 차이의 중요성 일반적인 상식으로는 소유나 존재냐의 양자백인이 있음 수 없다. 우리의 눈에는 소유한다는 것이 삶에 포함된 극히 정상적인 행위이다.살기 위해서 우리는 시몽운· 당연히 소유한다. 그뿐이뱌 사-뭉음 줍기기 위해서도 그것을 소유하지 않으면 안 된다, 소유하는 것을, 점 접더 많이 소유하는 것운 지상목표로 하는 사회, 그리고 사람에 대해서도 \"백만 답러의 가치가 있다·고 맙하는 사회 속에서 소유하는 것과존재하는 것 사이에 어찌 양자백인이 있·유 수 있겠는가? 오히 려 존재의 본전이 바로 소유하는 것에 있어서. 아무것도 소유하지 못한 사람은 아무것도 아닌 존재로 여겨지는 실정이다.그러나 일찍이 인생의 위대한 스승듈은 소유와 촌재의 양자택일에서 그들의 철학적 관점의 핵심움 찾아냈다. 석가모니는 인간으로서자기 도야의 최고 단계에 이르려는 사람은 재-뚱웅 답해서는 안 된다고 설법한다. 또한 예수는 ·누구든지 재 목숨옵 구원코자 하면 잃을것이요 누구든지 냐릅 위히여 제 목숨十} 잃으면 구원하리라. 사람이만일 온 천히욥 얻고도 자기를 잃든지 빼앗기든지 하면 무엇이 유익33 하리오’’(＂누가 복음” 9:24-25)라고 밉한다. 수사(修+) 에크하르트는 아무것도 소유하지 않고 자신윤 열어서 “비우눈? 것”, 자아에 의해서 방해받지 않는 것이 영적(策的) 부(富)와 힘윤 얻는 전재라고 가르친다. 또한 마르크스논 사치야말로 빈곤과 마찬가지로 큰 악덕이며, 우리는 많이 소유하는 것이 아니라 풍요몹게 존재하는 것웅 목표로 해야 한다고 가르친다(내가 여기에서 언급하는 마르크스는 철저한 휴머니스트로서의 진짜 마르크스이며. 소련 공산주의에 의해서선천된, 변조된 다른 종류의 마로크스가 아니다).이처럼 소유와 존재룝 구분하는 문제는 몇 년 전부터 나의 머리물떠나지 않았다. 나는 정신분석학적 방법을 빌려서 개인이나 집단을구체적인 고참 대상으로 삼음으로써 두 실존양식의 차이륜 이루는경험적 토대륜 찾아보고자 했다. 냐의 고찰이 이끌어낸 명백한 결론온 이 차이는 생명에의 애착과 죽은 자에 대한 애착의 차이와 함께인간실존의 가장 결정적인 문제뮬 구성한E柱근 것과 또한 인류학과정신분석학의 경험적 자료듬이 제시한 바로는 소유와 존재는 근본적으로 다른 인간체험의 두 가지 형태로서. 그 각 양식의 강도가 개인의성격 및 여러 유형의 사회적 성격의 차이를 걸정한[.柱: 사실이다.',\n",
              " '문학에 나타난 예 소유적 실존양식과 존재적 실존양식의 차이블 쉽게 이해하기 위해서, 고인(故人)이 된 스즈키가 \"선종爆覇던)에 대하여”라는 강론에서인용한 유사한 내용의 두 편의 시불 여기에 재인용하기로 한다. 그중한 편은 일본 시인 마쓰오 바쇼(松尾色f.t)가 지은 하이쿠WI:句)이며.34 다른 한 편은 19세기 영국 시인 테니슨의 시이다. 두 시인 모두 동일한 체험. 즉 산책길에서 본 꽃에 대한 그들의 반응을· 묘사하고 있다.테니슨의 시는 다음과 같다.갑라진 벽 몸새에 핀 꽃이여.나는 너봅 그 옵새에서 뽑아내어.자급 뿌리째로 손 안에 듭고 있다.작은 꽃이여 __ 그러냐 만약 내가뿌리째 너봅. 너의 모든 것음 알 수 있다면,신(神)과 인간이 무엇인지도 안 수 있으련만.그리고 바쇼의 하이쿠는 다음-과 같다.눈여겨 살펴보니·유타리 곁에 냉이꽃이 피어 있는 것이 보이누나!두 핀의 시의 현격한 차이는 일론 눈에 띈다. 꽃을 본 테니슨의반옹은 그것올 소유하려는 욕망이다. 그는 꽃을 “뿌리째로” 뽑아든다.꽃에 대한 그의 관심은 꽃의 생명을 단절시키는 결과로 이이진다.그 꽃이 선과 인간의 본성을 파악하는 데에 도움을 줄 수도 있으리라는 지적 사색으로 끝옵 맺으면서 만이다. 이 시에서의 테니슨은 생명체불 해부하면서 진실을 추구하는 서구 과학자둘에게 비견뭘 수 있올 것이다.그러나 꽃에 대한 바쇼의 반옹은 판이하다. 그는 꽂윤 꺾으려고하지 않는다. 그것움 건드려보려고조차 않는다. 그는 \"알아보기” 위일반석 고찰 35 해서 다반 \"눈여겨 살펴봅’’ 뿐이다.이 시에 대해서 스즈키논 다음과 같이 쓰고 있다산). T. SUZtlki,1960. I쪽). “아마도 바쇼는 시골길윤 따라 걷다가 울타리 곁에서 희미한 무엇인가룝 보았윤 것이다. 그리고 가까이 다가가서 자세히 살펴보고 나세 그것이 무심히 지나치는 사람들 눈에는 띄지도 않는하찮은 야생초에 불과하다는 것옵 임아본 것이다. 이것이 이 시 안에그려진 단순한 사실이다. 그리고 어쩌면 일본어로 ’가나(1J• t:i`)’라고움리는 마지막 두 음절을 제외하고는 두드러진 시적 갑홍이 표현된대목도 찾을 수 없다. 흔히 명사나 형용사, 또는 부사룰 수식하는이 조서센h洞])는 감탄이나 찬양, 고봉이나 기쁨의 감정음 표현하며,서구어로 반역한 때는 감탄부호로 나타내면 상당히 적중함 수 있다.앞에 예시된 하이쿠에서는 시 전재가 이와 같은 감탄부호로 마무리된 셈이다. •테니슨은 사람과 자연을 이해하기 위해서 핀히 꽃을 손에 쥘 필요가 있었고` 꽃은 그의 소유가 두1으로써 파괴된다. 비쇼는 다만 바라보기물 원한다. 또한 찾웅 그냥 관조하는 데에 그치지 않고 꽃과 인체가 되기륜 꽃과 젼합하기물 원한다―- 그러면서 꽃의 생명을 진드리지는 않는다.테니슨과 비쇼의 차이는 괴테의 다음 한 편의 시에 명시되어 있다.발견나홀로숲길& 거닐었지.36 아무것도찾욥 뜻은 없었네.그런데 그뉴 속에 피어 있는작은 꽃 한송이 보았지.번처럼 반짝이고눈방운처럽 예쁜 꽃을그 꽃옵 꺾고 싶었는데.꽃이 애처롭게 말했네.내가 꺾여서시듄어버려야 되겠어요?하여, 꽃옵 고스란히뿌리째로 개어,예쁜 집 뜨락으로옮겨왔지.조용한 자리에다시 심어놓으니.이제 뉴상 가지치고꽃 비어 시뮬 줍 모로네.괴테는 아무런 목적 없이 산책하다가 반짝이는 작은 꽃에 주의선가옹이계 된다. 그도 테니슨과 똑같이 꽃옵 꺾고 싶은 충동을 느꼈음일반적 고찰 37 을 보고한다. 그러나 테니슨과는 달리 그는 그렇게 하면 꽃이 죽을것을 깨닫는다. 괴테에게 그 꽃온 말을 걸어와서 경고를 한 수 있읍만큼 살아 있는 존재이다. 따라서 그는 테니슨과도 바쇼와도 다른식으로 이 문제릅 해결한다. 꽃융 고스란히 캐내어 그 생명이 보존되도록 이식(移植)하는 것이다. 말하자면 괴테는 바쇼와 테니슨의 중용의 입장에 있다고 할 수 있지반. 결정적인 순간에 생명에 대한 그의 사랑이 순전한 지적 호기십옵 눙가한다. 이 아봅다운 시는 자연탐구에 대한 괴테의 근본 입장을 명백히 표현해주고 있다.꽃과의 관계에서 테니슨이 보여주는 목성은 소유양식. 또는 소유욕의 양식에 속한다. 이 경우에서는 물론 문진적 소유가 아닌 지적소유이다. 바쇼와 괴테의 꽃에 대한 관계는 촌재양식으로 목징지어진다. 자금 내가 \"존재”라고 밀히는 것은 무엇옵 소유하거나 소유하려고 탐하지 않고 가빵게 차서 자신의 눙력을 생산적으로 사용하고 세계와 하나가 되는, 그런 실존양식을 의마한다.열정적 삶의 옹호자요. 인간의 기계화와 해체(解體)에 맞서서 싸운 작가인 괴테는 수많은 시작품에서 소유에 반대하면서 촌재의 편올 둘었고, 극작품 『파우스트(Faust)』 에서는 메피스토벨레스읍 소유의 대표로 내세우면서, 존재와 소유 시이의 갈등윤 국화시켰다. 존재의 독질옵 더없이 간결하게 표현한 그의 짧은 시가 한 편 있다.고유의 재산나는 알고 있네. 내게 속한 것은 다른 아무것도 없음을.오로지 나의 영혼으로부터38 거침없이 홉러나오려는 사상과.자애로운 운명이 베산어준,nK- 밑바닥으로부터향유하는 은총의 순간순간뿐입음.그러나 촌재히는 것과 소유하는 것의 차이가 동양적 사고와 서양적 사고의 차이는 아니다. 그것은 오히려 인간음 중심으로 여기는사회와 사문을 중심으로 돌아가는 사회의 차이라고 한 수 있다. 소유지향은 돈, 명예. 권력에의 탐욕이 삶의 지배적인 주제가 되어버린 서구 산업사회 인간둘의 복성이다. 중세사회나 주니 인디 언(ZuniIndians. Zuni-lndiancr) 사회. 또는 복정한 아프리카 부족사회처럼현대적 \"진보“사상에 감염되지 않은 덜 소외된 사회에논 그등 고유의 바쇼가 살아 있다. 그런가 하면 산업화물 몇 세대 거치고 난 뒤의일본인은 어쩌면 그듬 고유의 데니슨옵 가지게 된는지 모른다. 문제는 (융l)의 견해처럼) 선종{ifilli*)과 감은 동양적 사고체계에 대해서서구인의 이해능력이 봇 미치는 데에 있다기보다는. 무룻 모든 현대인이 소유와 탐욕을 바탕으로 하지 않은 사회성신윤 이해함 수 없다는 데에 기인한다. 에크하로트 수사의 가르침도 실은 바쇼나 선(~때)못지않게 난해하기는 하지만. 실제에 있어서 에크하르트와 석가모I) 융1G曺I Gu.swt J1uig, 1875-1961):  스위스 군신의 정신파 의사로서 프로이트의 수제자.정신산식의 유효성음 앞서서 인석하.-l 연상심험을 창시히여 프로이트가 만하는 억압적 요소{t 입증, -~에스嗣라고 이욥 븀였다, 그러나 이후 프로이트에 의해서 성 적잉익에 국한되었던 너비도· 개념은广 안산직 에너 지로 주장함으로씨 포로이브와 칼라졌다. 십리하 인반에시 “내향성·과 떠향성년k 구분한 것은 그의 공적으로 인정된다.일반적 고칠 39 니의 가르침은 다른 언어로 된 동의어인 것이다',\n",
              " '언어관습의 변화 존재와 소유 가운데 어느 편에 더 비중윤 두는가 하는 일반적 추이현상은 지난 몇 새기 동안 서구 언어에 나타난 명사의 사용중가와 동사의 사용감소 현싱에서도 확인할 수 있다.명사란 어떤 시물옵 지칭하는 이룹이다. 우리는 “나는 사물음 소유하고 있다”라고、 이름테면 ·책상이나 집, 책이나 자동치선 가지고 있다”라고 말한 수 있다. 그러나 괴정의 행위롭 적절히 표기하는 형태는 동사이다. 예컨대, “나는 존재한다”, “나는 사랑한다”. “나는 소방한다”, 1나는 중오한다” 등등 그런데 행위가 소유개념으로 표현되는예가. 죽 동사 대신 녕사가 시~ 예가 점점 빈번해지고 있다.그러나 \"소유하다(have, haben)”라는 말욥 명사와묶어서 어떤 행위륜 표현한다는 것은 어법상 옳다고 할 수 없다. 과정과 행위는 소유된 수 있는 것이 아니라 체험되는 성질의 것이기 때문이다.',\n",
              " '뒤 마레와 마르크스의 고찰 이러한 언어관습이 초래한 부정적 결과는 이미 18세기에 인삭되었다. 뒤 마레는 사후에 발표된 저서 『올바론 문법 원리(les V¢ritahlcsptiIIcipe,1d· e /a Grammaire)』(1769)에서 이 문제를 극명하게 표현했다. 그는 이렇게 쓰고 있다. \"．나는 시계를 하나 가지고 있다’라는 예문에서 Lh°=가  지고 있다는 말은 그 본래의 의미로 이해될 수 있다.그러나 ‘나는 어떤 생각을 가지고 있다’는 말에서의 냐는 가지고 있다40 는 단지 모방적으로 사용하는 것에 시나지 않는다, 그것은 빌려온표현이다. 나는 생각율 가지고 있다라는 표현은 나는 생각한다라든가나는 이런저런 식으로 상상한E卜간. 나는 갈앙을 가지고 있다는 표현은나는 갈앙한다뮤, 나는 \\'뜻을 가지고 있다는 표현은 나는 뜻한다융 의미하는 것이다,”(뒤 마레에 관해서 내세 도움말음 준 사람은 촙스키박사이다)뒤 마레가 동사륭 명사로 대치하는 이와 같은 현상윤 수목한 1세기 후에, 마르크스와 엥겔스도 갑은 분재릅 다루었다. 상온 이들의방식은 뒤 U固l의 경우보다 훤씬 더 근본적이었다. 에드가 바우어의『비판적 비평(Kritisc:he Kririk)J에 대한 그둘의 비판에는 간략하되사망에 관한 아주 숭요한 에세이가 포함되어 있는데, 거기서 그듭은바우어의 다움과 감은 망을 인용하고 있다, U사랑은… •••산  인한 여신이다. 모든 신이 그러하듯 이 여신은 인간의 모든 것을 소유하려고한다. 인간이 자신의 영혼뿐 아니라 육체적 지아까지 모두 바친 때까지 만족합 줍유 모본다. 이 여신옵 심기는 인은 고봉이며. 그 점정은자기회생이요, 자산이다.”(E. Bauer. 1844)마르크스와 엥겔스는 이것에 대해서 답한다. ·에드가 선생은 사랑하는 인간. 그리고 인간의 사랑음 사랑에 속한 인간으로 먄듦으로써.사랑을 인간에세서 격리시켜 그 자체로 독립된 선체로 만등으로써‘사망옵 \\'여신’으로 그것도 찬인힌 여신’으로 변보시키고 있다(K.Marx, 1962, 684쩍여기서 마르크스와 엥겔스는 동사 대신 명사봅 사용하는 어법의선정적 요세산 신드린다. 사랑이라는 행위의 추상호回l  선과한 명사일빈적 고찰 41 “사랑“이 인간에게서 분리된다. 사랑하는 인간은 사랑에 속한 인간이된다. 사랑은 여신으로 인간의 사랑을 투영한 우상으로 변한다. 이와 같은 소외과정에서 인간은 사랑옴 체험하기산 중단하고` 다만 사랑의 여신에게 굴종하는 것에 의해서 자신의 사랑하는 능력과 묶여있게 된다. 그는 스스로 감정음 지닌 인간이기를 멈추었고、 소외된우상 숭배자가 되어버린 것이다.',\n",
              " '오늘날의 언어관용 뒤 UklI가 살았던 이후 200년 동안 동사륭 명사로 대치시키는 이 경향은 뒤 마레 ^人쿠 두 상상함 수 없었옵 정도로 엄청나거1 중가했다.조금은 과장일 수도 있지만, 오늘날 관용되는 전형적인 예튠 듄어보기로 하자. 정신과 의사와 상담에 임한 한 부인이 다음과 감이 말문올 열었다고 하자. \"박사님. 나는 문제릅 하나 가지고 있습니다.” 몇십 년 전이라면 이 환자는 “나는 문제를 하나 가지고 있습니다”라고말하는 대신 분명히 “나는 고동에 시달리고 있습니다”라고 말했음것이다. 이런 현대의 언어양식은 오놉날의 소외현상의 한 중거이다.“나는 고봉에 시달리고 있습니다”라는 말 대산에 “나는 문재륜 하나가지고 있습니다”라고 말함으로써 주체적 경험은 배재된다. 경험적자아가 그가 소유한 그것으로 대치되는 것이다. 나는 나의 감정들을내가 소유한 무엇으로 죽 문제로 변형시키고 있다. ＂문세\"란 모든종류의 어려움에 대한 추상적인 표현이다. 나는 문제불 소유할 수는없다. 그것은 소유합 수 있는 성질의 물건이 아니기 때문이다. 물론문제 편에서 나릅 소유합 수는 있다. 좀더 엄밀히 말하자면. 나는42 나 자신윤 하나의 ‘‘문제”로 변화시켰고, 내가 만둘-어낸 그것이 나을사로잡고 있는 것이다. 이와 같은 방식의 어법은 감추어진 무의식적소외산 드러낸다.',\n",
              " '두 개념의 어원 ” 가지디{have, haben)”라는 말은 착각하기 수]운 단순한 말이다. 모든인간은 무엇인가욥 가지고 있다. 그의 육체.｀ 옷, 집을- 그리고 현대인의 경우에는 자동차, 텔레비전. 세탁기에 이르기까지 무엇인가산 소유하지 않고 살아간다는 것은 선제적으로 붕기능히다. 그렇다면 가지는 것이 왜 문제가 될까?렇지만 ”가지다”라는 말의 역사는 그것이 진정한 문재임옵 재시한다. ·가지는 것”이 인간실존의 지국히 당연한 범주라고 생각하는사람둘은 지상의 많은 언어들이 “가지다”에 해당되는 말음 아예 가지고 있지 않다는 사신음 알고서 높라움은} 금하지 못한 것이다. 예컨대헤브부어로 \\'‘나는 가지고 있다”라는 맙음 표현하려면` ’\\'jesh Ii(그것은 내게 속한다)’’라는 간접형태롭 써야 한다. “나는 가지고 있다”라는표현보다는 이렇게 간접적으로 소유옵 표현하는 언어들이 선제로 더.••많다• 여기서 집고 넘어가야 함 집이 있다. 속 육체의 경우에도 존재에 기준한 관계가 업존한다는 사십이다, 이 관계에서는 육체가 삼아 있는 것으로 깅헌된다. 우리는 이것웅• ·나는육체성 가지고 있다-라고 밥히는 대신 ·나는 육체이다·라고 Al.현한 수도 있움 것이다.육체로 지각되는 모든 훈련은 이와 갑은 육체적 촌재깅인유 지향하는 노려이다.”이3!에 대한 고참윤 비못한 다음의 언이아적 고朴·돕은 에민 방브나스트로부터 인용판깃01다.일반적 고찰 43 주목한 점은 수많은 언어들이 그 발단과정에서 “그것은 내게 속한다”는 구문(ti%文)에서 “나는 가지고 있다”의 구문으로 바뀐 반면, 에밀 방브니스트가 시사했듯이. 그 반대방향으로 밥전한 예는 확인한수가 없다는 사실이다. 이 사설은 ”가지다[소유하다l”라는 말이 사유재산의 생성과 연관되어 반전해왔음윤, 반면 기능적으로 소유하는사회 죽 소비를 전제한 소유의 사회에서는 등장하지 않움옹 시사한다고 여겨진다. 사회언어학적 연구가 좀더 진전되면 이 가설이 과연맞는지. 어느 정도 타당한지을 밝혀주리라고 생각한다.”가지다”라는 말은 비교적 단순하게 보일 수도 있는 개념인 반면에 .• ＇존재하다{be, sein)\"라는 말은 훨씬 더 복집하고 어려운 개념이댜 이 개념은 디옵과 같이 여러 방식으로 사용도J다. I. 조동사로 쓰인다. 이뮬테면 H냐는 키가 크디{I am tall, ich bin groB)\". \"나는 백인이대I am white, ich bin wcil3)\", “나는 가난하대] am poor, ich bmann)\"처럼 실체불 확인하는 문법적 규정어로 쓰인다(많은 언어들은이런 의미에서의 ”이머be. sein]”에 해당하는 말을 가지고 있지 않다)． 스페인어에서는 주체의 본질에 속하는 지속적 혹성음 나타내는조동사{ser)와. 본질이 아닌 임시적 독성을 나타내는 조동사(cstar)가구별되어 사용된다. 2. 수동태를 반드는 데에 쓰인다. 이물테면 “나는 두들겨 맞는다{I ain beaten, ich werdc geschlagen)”라는 말은 내가어떤 다른 사람의 행위의 객체이며. “나는 때린다(I beat,  ichschlagc)”의 경우처럼 나 자신이 행위의 주체가 아님을 의미한다. 3.\"존재하다”. 실존하다라는 의미로 쓰인다. 이 경우는 실체롭 확인규정히는 조동사 ”이다”와는 근본적으로 다른 의미이다. 방브니스토는44 이 점을 분명하게 지적했다. \"두 말은 전혀 다른 의미인데도 지금껏공촌해왔고 앞으로도 공촌할 것이다.”방보니스트의 연구는 조동사인 \"O]다”의 의미보다는 독자적 동사로서 \"존재하다”라는 의미에 새로운 초점을 맞추고 있다. 인도 게르만어에서는 \\'존재하다”라는 말이 \\'＇실존하다\\\\ \"실재 안에 나타나다’’읍 뜻히는 어근{語根) es(그것)로 표현된다.2} ”이 실존과 실재는 실체적인 것. 적절한 것. 참된 것으로 정의된다.\"（산스크리트!Sanskrit, 梵 語]에서 sant廣]는 실존하는, 실재히는, 좋은. 참됨을. 그 최상급sattania는 최선을 뜻한다) 따라서 그 어원의 뿌리로 볼 때 `＇존재하다似、, sein)＂랴는 말은 주어(主話)와 부가어(|府)JtItE) 시이의 일치를 환인하는 기능 이상의 말아다. 다시 말하면, 어떤 현상에 대한 서술어이상의 것이다. 그것은 있는 사림\\\\who is, der isl)과 있는 사물{whatis, was ist)의 실존과 실재를 표현하며. 그것(그 또는 그녀)의 실체성과 진실성을 입증해준다. 누가 또는 무엇이 있다고 말한 때, 우리는그 또는 그것의 본질에 대해서 말하는 것이지. 그 또는 고것의 겉모양에 대해서 말하는 것이 아니다.소유와 존재의 의미에 대한 지금까지의 잠정적 개관에서 우리는댜음과 같은 결론을 이끌어낼 수 있다.I.  내가 의미하는 촌재나 소유 개념은 \"나는 자동처룰- 가지고 있다”라든가 1‘나는 백인이다”, 또는 \\'‘나는 행복하다”라는 식의 표현에서 볼 수 있는 한 주체가 지닌 어떤 개별적 톡성이 아니다. 그것은2) 예산 눈면 -lrr인어로 낭R상이 하나 있다’’는 \\'그섯이 책상유 하나 준다(Es gibl cincnTisch)”로 표현한다,일반적 고찰 45 두 가지외 근본적 실존양식이다. 자기 자신과 세계를 대하는 두 갈래디론 방향의 지조이고 서로 다른 두 가지 방식의 성격구조이다. 그중에서 어느 쪽이 우세한가에 의해서 한 인간의 사고. 감정, 행동이겹정된다.§Up1  \\\\,  2. 소유적 실존양식에서 세계에 대한 나의 관계는 나의 것으로 만V.I,\\\\`\\\\\\\\  .\\'`·.,.i_  들고자 하고 나의 것으로 만드는 관계, 자신을 포함하여 모든 사람과\",\\',r  모든 시물급t 나의 것으로 만들려는 관계이다.,\\'3. 존재적 실촌양식에서 우리는 두 가지 형태의 촌재창 구분해야한다. 그 한 형태는 뒤 마레가 해명하고 서술했듯이, 소유의 반대개념이다. 이 형태는 생동적이며 세계와 실체적 관계에 있다. 존재의.\\'.,.’  또다른 형태는 겉보기(appearing, Schein)의 반대개념이다. 있CK比,sein)라는 말의 어원에서 서술되듯이(방브니스트) 미혹저 가섬H假像)과는 반대되는 한 인격에 내재한 참실재이다.',\n",
              " '존재에 대한 철학적 개념들 존재는 과거 수천 권 첩학서의 주제였고 \"존재란 무엇인가”라는 의문은 지금도 서양철학의 근본 문제의 하나이다. 이로 인해서 존재개념에대한 논의는 특히 복잡하다. 이 책에서는 존재개념을 주로 인류학과심리학적 관점에서 다루고 있지만. 이 주제에 관한 철학적 논의도인류학적 문제성과 무관합 수는 없다. 소크라테스 이전의 철인문에서부터 현대철학에 이르기까지 존재개념의 발전상을 아무리 최소한으로 요약한다고 해도 한정된 범위 인에서 그것을 소화하기는 불가능하므로 여기서는 다만 한 가지 요점만 언급하기로 한다. 즉 생성과정파46 활동. 운동이 존재의 구성요소라는 견해이다, 게오르크 지멜3)이 주장한 촌재는 변화물 함축하고 있다는, 다시 말하면 존재는 생성고達(becomi鳴 w~)과 동의어라는 사상은 서양첩학 역사상 가장 단호한 두 철인의 사상의 뒷받침을 받은 것이었다. 서양천학 여명기의헤라큽레이토스4)와 전성기의 헤겔이 지멜 사상의 변호인이다.파르메니데스이융 위시해서 플라톤, 스콜라 학파의 \"십재론자들(reailsts, R대listen)”에 의해서 대표되논 견해 즉 촌재란 시긴을 초월하며 봉변 및 항존하는 실체이며 따라서 생성과정의 반대라는 견해는 하나의 사고(이념[idea, cine Idec]）는 궁극적으로 실재(reality, dasRcalc)라는 관념론적 사상을 토대로 한 때에만 의미완 지닐 수 있다.만약 사랑(잡-라돈적 의미에서의)의 이데아가 십제 사랑의 체험보다더 신재성움 지닌다면, 물론 이데아로서의 사망이 선변 빛 항촌한다고 만한 수도 있을 것이다, 그렇지만 삼아 있는 인간의 현실` 그의사랑과 미움 고뇌로부터 본다면 동시에 생성과정과 변화옵 겪지 않는 촌재란 하나도 없다. 생명이 있는 유기체는 생성읍 겪는 힌에서만촌재합 수 있으며, 변화하는 한에서반 실존한 수 있다. 생장과 변화3) 지맵@답g Sinvi,c l, 1858-1918):  욱일 사회첨박자. “사회화 형대·의 연구와 개체와사회와의 간계 연구로 형식석 사회주의의 기초자가 되었다,4) 헤라간레이토스(HcrJkkiI야, 가원선 S40?－기원전 480?) : 그리스 선인 ·반용은 유전한다• . ·l산상의 진환과정은 항쟁이되 전세적으로는 조화선 찾윤 수 있다·논 :..L의 천학기조는 헤센-.와 비못한 근대 관념선학자에게 븐 잉항운 미쳤다.5) 파르메니데스(P中函ides) : 그리스 천인. 육보례(hc111111ic1cr)오로 왼 교훈시 160행옵납겼논에 어가서 다양하게 변하는 모든 개법자는 유입한 견포서(Sein)”의 헌상에 붕파하며. 촌재란 섬·생산밉 산가룬. 산반부동의 성?I·,0r 가진 것이라는 신학옵 펀치서,_＇대 촌지1몬과 입식옹에 영향옵 미쳤다,일반적 고찰 47 는 삶의 과정에 내재한 목성인 것이다.',\n",
              " '소유와소비 두 십촌양식의 차이윤 명시해주는 몇 가지 간단한 시례욥 접하기 선에. 소유의 또다론 형태인 합체(incorporation, Einverleiben)에 대해서언급하기로 한댜 예컨대 음식음 섭취하는 경우처럼 무엇인가름 몸안에 꿀어들이는 행위는 소유의 원시적 형태의 하나이다. 특정한 발달시기의 유..oH:: 가지고 싶은 것을 무작정 입에 무는 성항을 보인다.이것은 다른 방식으로 자기 것을 화보합 만큼 신체반달이 미처 따라가지 못하기 때문에 유아 나름으로 터득한 소유의 형테이다. 소유와합체 시이의 이와 같은 상관관계를 우리는 여러 형태의 식인풍습(食人)風習)에서도 찾옵 수 있다. 다름 인간음 먹어버림으로써 그 인간이 지녔던 능력을 내 것으로 할 수 있다고 믿는 것이다. 이와 갑은식인풍습은 노예를 소유하는 것과 같은 종류의 □~적 보상형태(후k慣形態)가 된다. 용감한 사람의 심징옵 먹으면 그의 용기율 자기 것으로 소유하게 된다. 토텐 동몽옵 먹으면 그 토템 동문이 상징8\"1는신성(神性)을 공유하계 되며 - 그럼으로써 그 신성과 일체가 된다.물론 육체적으로 합체할 수 없는 대상들이 대부분이기는 하디仁1것이 기능하다고 해도 배설과정예시 그 대상물들은 소멸된다). 그렇기는 해도 상징적, 주술적 합체는 엄존한다. 이불테면 내가 어떤산(神)． 아버지. 동물의 진수(眞間)를 이루는 이미지와 합체했다고여길 경우, 그 이미지는 그 누구도 내게서 빼앗아갈 수도, 나와 갈라놓을 수도 없다. 나는 그 대상을 상징적으로 삼키고 그것이 내 속48 에 상징적으로 현존한윤 믿는다. 예컨대 프로이트는 이런 방식으로초자回Ksupc\\'t\\'Cgo,  Obcr-lch)란 잠재의식에 투엉된, 아버지가 명한금기와 계명의 총화라고 풀이했다. 똑같은 방식으로 권위나 관습.어떤 이념이나 이미지도 잠재의식 속에 무영된 수 있다. 나는 그것뜹운 가지고 있고` 그섯둘은 이윤테면 영원히 나의 내부에 보존되어 있는 것이대·무영lintrojcction,  lntrojcktionl\"이라는 만은 혼히·동입회~identification, ldcntifikationJ’’와 유사하게 사용된다, 두 개념이 과연 똑같은 과정윤 의미하는지는 판가욥하시 어렵다. 어쨌든·동인화라는 만윤 모방이나 종속윤 의미합 수도 있는 박연한 경우에는 쓰지 만아야 합 것이다).이밖에도 생리적 욕구와는 무관한. 따라서 한계산 그윤 수 없는합체의 다욘 형태등이 연마든지 있다. 소비자둘의 태도에는 온 세계산 삼기려는 욕망이 깔려 있다. 소비자는 우유병윤 답라고 보재는엉원한 젖먹이이다. 이번 여는f 알코옵 중독..0|나 마약 중독 갑은 병리직 현상에시 노꼽,I.1으로 나타난다. 우니가 남이 이 두 가시 천상움돕수어서 평사선하하는 이유는 그것이 중독 해당자로 하여남 사회적의무릉 이행한 수 없게 악영향운 끼치기 때문인 듯하다. 끊지 못하는끼연은 위의 성우처럼 모멸의 눈초리욥 받지는 않는다. 그것 역시임종의 중독이기는 하되 “오로지” 끼연자 자신의 수명윤 단수시킬뿐. 그의 사회석 기능능력을 해치지는 않11 때문이디. 인상생한에서의 여러 강박석 소비형태에 대해서는 이미 나의 이전의 저슈듬에서논의했으므보 이/l에 반복한 필요는 없옵 것이다. 다\\'ik 여가센斜(l!i)와 상관된 섯, 즉 사동차, 텐레비전. 여행. 색소가 오눕·남 강’각적 소입빈적 고칠 49 비의 주범이 되고 있다는 사실만은 짚고 넘어가야 할 것 같다. 현대인은 \\'＇농동적 여가환동(leisure-time activity, Freireitaktivitttt)”이라는말을 혼히 쓴다, 그러나 더 적절한 표현은 “수동적 여가활동(leisure\\xad ti,nc passivity, Freizeitpassivitat)“일 것이다,요약하면, 소비는 소유의 한 형 태이다. 아마도 현대 “잉여사회”에서가장 중요한 소유형태일 것이다, 소비는 이중적 특성올 지니고 있다.써버린 것은 빼앗길 염려가 없으므로 일단 불안을 감소시켜준다, 그런 한편. 접접 더 많은 소비찰 조장한다, 왜냐하면 일단 써버린 것은곧 충족갑을 주기를 중단해버리기 때문이다. 현대 소비자는 나= 내가가진 것= 내가 소비하는 것이라는 등식에서 자신의 실체를 환인하는지도 모본다,50']"
            ]
          },
          "metadata": {},
          "execution_count": 53
        }
      ]
    },
    {
      "cell_type": "code",
      "source": [
        "df_chap = pd.DataFrame(chap1_sections, columns=['sections'])"
      ],
      "metadata": {
        "id": "DvCPQbPayzEW"
      },
      "execution_count": null,
      "outputs": []
    },
    {
      "cell_type": "code",
      "source": [
        "df_chap"
      ],
      "metadata": {
        "colab": {
          "base_uri": "https://localhost:8080/",
          "height": 300
        },
        "id": "-WJ70XwfHUTA",
        "outputId": "f5845bd9-6de6-4e31-d453-d17d3e4edd94"
      },
      "execution_count": null,
      "outputs": [
        {
          "output_type": "execute_result",
          "data": {
            "text/html": [
              "\n",
              "  <div id=\"df-d26592fd-bb28-4134-a391-b55a425205dd\">\n",
              "    <div class=\"colab-df-container\">\n",
              "      <div>\n",
              "<style scoped>\n",
              "    .dataframe tbody tr th:only-of-type {\n",
              "        vertical-align: middle;\n",
              "    }\n",
              "\n",
              "    .dataframe tbody tr th {\n",
              "        vertical-align: top;\n",
              "    }\n",
              "\n",
              "    .dataframe thead th {\n",
              "        text-align: right;\n",
              "    }\n",
              "</style>\n",
              "<table border=\"1\" class=\"dataframe\">\n",
              "  <thead>\n",
              "    <tr style=\"text-align: right;\">\n",
              "      <th></th>\n",
              "      <th>sections</th>\n",
              "    </tr>\n",
              "  </thead>\n",
              "  <tbody>\n",
              "    <tr>\n",
              "      <th>0</th>\n",
              "      <td>소유와 존재의 차이의 중요성 일반적인 상식으로는 소유나 존재냐의 양자백인이 있음 수...</td>\n",
              "    </tr>\n",
              "    <tr>\n",
              "      <th>1</th>\n",
              "      <td>문학에 나타난 예 소유적 실존양식과 존재적 실존양식의 차이블 쉽게 이해하기 위해서,...</td>\n",
              "    </tr>\n",
              "    <tr>\n",
              "      <th>2</th>\n",
              "      <td>언어관습의 변화 존재와 소유 가운데 어느 편에 더 비중윤 두는가 하는 일반적 추이현...</td>\n",
              "    </tr>\n",
              "    <tr>\n",
              "      <th>3</th>\n",
              "      <td>뒤 마레와 마르크스의 고찰 이러한 언어관습이 초래한 부정적 결과는 이미 18세기에 ...</td>\n",
              "    </tr>\n",
              "    <tr>\n",
              "      <th>4</th>\n",
              "      <td>오늘날의 언어관용 뒤 UklI가 살았던 이후 200년 동안 동사륭 명사로 대치시키는...</td>\n",
              "    </tr>\n",
              "    <tr>\n",
              "      <th>5</th>\n",
              "      <td>두 개념의 어원 ” 가지디{have, haben)”라는 말은 착각하기 수]운 단순한...</td>\n",
              "    </tr>\n",
              "    <tr>\n",
              "      <th>6</th>\n",
              "      <td>존재에 대한 철학적 개념들 존재는 과거 수천 권 첩학서의 주제였고 \"존재란 무엇인가...</td>\n",
              "    </tr>\n",
              "    <tr>\n",
              "      <th>7</th>\n",
              "      <td>소유와소비 두 십촌양식의 차이윤 명시해주는 몇 가지 간단한 시례욥 접하기 선에. 소...</td>\n",
              "    </tr>\n",
              "  </tbody>\n",
              "</table>\n",
              "</div>\n",
              "      <button class=\"colab-df-convert\" onclick=\"convertToInteractive('df-d26592fd-bb28-4134-a391-b55a425205dd')\"\n",
              "              title=\"Convert this dataframe to an interactive table.\"\n",
              "              style=\"display:none;\">\n",
              "        \n",
              "  <svg xmlns=\"http://www.w3.org/2000/svg\" height=\"24px\"viewBox=\"0 0 24 24\"\n",
              "       width=\"24px\">\n",
              "    <path d=\"M0 0h24v24H0V0z\" fill=\"none\"/>\n",
              "    <path d=\"M18.56 5.44l.94 2.06.94-2.06 2.06-.94-2.06-.94-.94-2.06-.94 2.06-2.06.94zm-11 1L8.5 8.5l.94-2.06 2.06-.94-2.06-.94L8.5 2.5l-.94 2.06-2.06.94zm10 10l.94 2.06.94-2.06 2.06-.94-2.06-.94-.94-2.06-.94 2.06-2.06.94z\"/><path d=\"M17.41 7.96l-1.37-1.37c-.4-.4-.92-.59-1.43-.59-.52 0-1.04.2-1.43.59L10.3 9.45l-7.72 7.72c-.78.78-.78 2.05 0 2.83L4 21.41c.39.39.9.59 1.41.59.51 0 1.02-.2 1.41-.59l7.78-7.78 2.81-2.81c.8-.78.8-2.07 0-2.86zM5.41 20L4 18.59l7.72-7.72 1.47 1.35L5.41 20z\"/>\n",
              "  </svg>\n",
              "      </button>\n",
              "      \n",
              "  <style>\n",
              "    .colab-df-container {\n",
              "      display:flex;\n",
              "      flex-wrap:wrap;\n",
              "      gap: 12px;\n",
              "    }\n",
              "\n",
              "    .colab-df-convert {\n",
              "      background-color: #E8F0FE;\n",
              "      border: none;\n",
              "      border-radius: 50%;\n",
              "      cursor: pointer;\n",
              "      display: none;\n",
              "      fill: #1967D2;\n",
              "      height: 32px;\n",
              "      padding: 0 0 0 0;\n",
              "      width: 32px;\n",
              "    }\n",
              "\n",
              "    .colab-df-convert:hover {\n",
              "      background-color: #E2EBFA;\n",
              "      box-shadow: 0px 1px 2px rgba(60, 64, 67, 0.3), 0px 1px 3px 1px rgba(60, 64, 67, 0.15);\n",
              "      fill: #174EA6;\n",
              "    }\n",
              "\n",
              "    [theme=dark] .colab-df-convert {\n",
              "      background-color: #3B4455;\n",
              "      fill: #D2E3FC;\n",
              "    }\n",
              "\n",
              "    [theme=dark] .colab-df-convert:hover {\n",
              "      background-color: #434B5C;\n",
              "      box-shadow: 0px 1px 3px 1px rgba(0, 0, 0, 0.15);\n",
              "      filter: drop-shadow(0px 1px 2px rgba(0, 0, 0, 0.3));\n",
              "      fill: #FFFFFF;\n",
              "    }\n",
              "  </style>\n",
              "\n",
              "      <script>\n",
              "        const buttonEl =\n",
              "          document.querySelector('#df-d26592fd-bb28-4134-a391-b55a425205dd button.colab-df-convert');\n",
              "        buttonEl.style.display =\n",
              "          google.colab.kernel.accessAllowed ? 'block' : 'none';\n",
              "\n",
              "        async function convertToInteractive(key) {\n",
              "          const element = document.querySelector('#df-d26592fd-bb28-4134-a391-b55a425205dd');\n",
              "          const dataTable =\n",
              "            await google.colab.kernel.invokeFunction('convertToInteractive',\n",
              "                                                     [key], {});\n",
              "          if (!dataTable) return;\n",
              "\n",
              "          const docLinkHtml = 'Like what you see? Visit the ' +\n",
              "            '<a target=\"_blank\" href=https://colab.research.google.com/notebooks/data_table.ipynb>data table notebook</a>'\n",
              "            + ' to learn more about interactive tables.';\n",
              "          element.innerHTML = '';\n",
              "          dataTable['output_type'] = 'display_data';\n",
              "          await google.colab.output.renderOutput(dataTable, element);\n",
              "          const docLink = document.createElement('div');\n",
              "          docLink.innerHTML = docLinkHtml;\n",
              "          element.appendChild(docLink);\n",
              "        }\n",
              "      </script>\n",
              "    </div>\n",
              "  </div>\n",
              "  "
            ],
            "text/plain": [
              "                                            sections\n",
              "0  소유와 존재의 차이의 중요성 일반적인 상식으로는 소유나 존재냐의 양자백인이 있음 수...\n",
              "1  문학에 나타난 예 소유적 실존양식과 존재적 실존양식의 차이블 쉽게 이해하기 위해서,...\n",
              "2  언어관습의 변화 존재와 소유 가운데 어느 편에 더 비중윤 두는가 하는 일반적 추이현...\n",
              "3  뒤 마레와 마르크스의 고찰 이러한 언어관습이 초래한 부정적 결과는 이미 18세기에 ...\n",
              "4  오늘날의 언어관용 뒤 UklI가 살았던 이후 200년 동안 동사륭 명사로 대치시키는...\n",
              "5  두 개념의 어원 ” 가지디{have, haben)”라는 말은 착각하기 수]운 단순한...\n",
              "6  존재에 대한 철학적 개념들 존재는 과거 수천 권 첩학서의 주제였고 \"존재란 무엇인가...\n",
              "7  소유와소비 두 십촌양식의 차이윤 명시해주는 몇 가지 간단한 시례욥 접하기 선에. 소..."
            ]
          },
          "metadata": {},
          "execution_count": 57
        }
      ]
    },
    {
      "cell_type": "code",
      "source": [
        "df_chap['iskeyword'] = 'x' #chap1의 iskeyword 컬럼을 'x'로 초기화\n",
        "\n",
        "for i in range(len(df_chap)): #1장의 핵심인 소유, 나, 존재, 인간을 포함한 경우를 count해서 is keyword에 저장\n",
        "  sum = 0\n",
        "  sum += df_chap['sections'][i].count('소유')\n",
        "  sum += df_chap['sections'][i].count('나')\n",
        "  sum += df_chap['sections'][i].count('존재')\n",
        "  sum += df_chap['sections'][i].count('인간')\n",
        "  df_chap['iskeyword'][i] = sum"
      ],
      "metadata": {
        "id": "1DlpGEB8Hso8"
      },
      "execution_count": null,
      "outputs": []
    },
    {
      "cell_type": "code",
      "source": [
        "df_chap"
      ],
      "metadata": {
        "colab": {
          "base_uri": "https://localhost:8080/",
          "height": 300
        },
        "id": "TZzG0SjBI5nQ",
        "outputId": "77ffadc0-ed2c-4188-c3c1-bad94f31c681"
      },
      "execution_count": null,
      "outputs": [
        {
          "output_type": "execute_result",
          "data": {
            "text/html": [
              "\n",
              "  <div id=\"df-014de3c9-2e81-42a8-845b-0910abb7cddf\">\n",
              "    <div class=\"colab-df-container\">\n",
              "      <div>\n",
              "<style scoped>\n",
              "    .dataframe tbody tr th:only-of-type {\n",
              "        vertical-align: middle;\n",
              "    }\n",
              "\n",
              "    .dataframe tbody tr th {\n",
              "        vertical-align: top;\n",
              "    }\n",
              "\n",
              "    .dataframe thead th {\n",
              "        text-align: right;\n",
              "    }\n",
              "</style>\n",
              "<table border=\"1\" class=\"dataframe\">\n",
              "  <thead>\n",
              "    <tr style=\"text-align: right;\">\n",
              "      <th></th>\n",
              "      <th>sections</th>\n",
              "      <th>iskeyowrd</th>\n",
              "      <th>iskeyword</th>\n",
              "    </tr>\n",
              "  </thead>\n",
              "  <tbody>\n",
              "    <tr>\n",
              "      <th>0</th>\n",
              "      <td>소유와 존재의 차이의 중요성 일반적인 상식으로는 소유나 존재냐의 양자백인이 있음 수...</td>\n",
              "      <td>x</td>\n",
              "      <td>32</td>\n",
              "    </tr>\n",
              "    <tr>\n",
              "      <th>1</th>\n",
              "      <td>문학에 나타난 예 소유적 실존양식과 존재적 실존양식의 차이블 쉽게 이해하기 위해서,...</td>\n",
              "      <td>x</td>\n",
              "      <td>47</td>\n",
              "    </tr>\n",
              "    <tr>\n",
              "      <th>2</th>\n",
              "      <td>언어관습의 변화 존재와 소유 가운데 어느 편에 더 비중윤 두는가 하는 일반적 추이현...</td>\n",
              "      <td>x</td>\n",
              "      <td>17</td>\n",
              "    </tr>\n",
              "    <tr>\n",
              "      <th>3</th>\n",
              "      <td>뒤 마레와 마르크스의 고찰 이러한 언어관습이 초래한 부정적 결과는 이미 18세기에 ...</td>\n",
              "      <td>x</td>\n",
              "      <td>25</td>\n",
              "    </tr>\n",
              "    <tr>\n",
              "      <th>4</th>\n",
              "      <td>오늘날의 언어관용 뒤 UklI가 살았던 이후 200년 동안 동사륭 명사로 대치시키는...</td>\n",
              "      <td>x</td>\n",
              "      <td>22</td>\n",
              "    </tr>\n",
              "    <tr>\n",
              "      <th>5</th>\n",
              "      <td>두 개념의 어원 ” 가지디{have, haben)”라는 말은 착각하기 수]운 단순한...</td>\n",
              "      <td>x</td>\n",
              "      <td>46</td>\n",
              "    </tr>\n",
              "    <tr>\n",
              "      <th>6</th>\n",
              "      <td>존재에 대한 철학적 개념들 존재는 과거 수천 권 첩학서의 주제였고 \"존재란 무엇인가...</td>\n",
              "      <td>x</td>\n",
              "      <td>12</td>\n",
              "    </tr>\n",
              "    <tr>\n",
              "      <th>7</th>\n",
              "      <td>소유와소비 두 십촌양식의 차이윤 명시해주는 몇 가지 간단한 시례욥 접하기 선에. 소...</td>\n",
              "      <td>x</td>\n",
              "      <td>25</td>\n",
              "    </tr>\n",
              "  </tbody>\n",
              "</table>\n",
              "</div>\n",
              "      <button class=\"colab-df-convert\" onclick=\"convertToInteractive('df-014de3c9-2e81-42a8-845b-0910abb7cddf')\"\n",
              "              title=\"Convert this dataframe to an interactive table.\"\n",
              "              style=\"display:none;\">\n",
              "        \n",
              "  <svg xmlns=\"http://www.w3.org/2000/svg\" height=\"24px\"viewBox=\"0 0 24 24\"\n",
              "       width=\"24px\">\n",
              "    <path d=\"M0 0h24v24H0V0z\" fill=\"none\"/>\n",
              "    <path d=\"M18.56 5.44l.94 2.06.94-2.06 2.06-.94-2.06-.94-.94-2.06-.94 2.06-2.06.94zm-11 1L8.5 8.5l.94-2.06 2.06-.94-2.06-.94L8.5 2.5l-.94 2.06-2.06.94zm10 10l.94 2.06.94-2.06 2.06-.94-2.06-.94-.94-2.06-.94 2.06-2.06.94z\"/><path d=\"M17.41 7.96l-1.37-1.37c-.4-.4-.92-.59-1.43-.59-.52 0-1.04.2-1.43.59L10.3 9.45l-7.72 7.72c-.78.78-.78 2.05 0 2.83L4 21.41c.39.39.9.59 1.41.59.51 0 1.02-.2 1.41-.59l7.78-7.78 2.81-2.81c.8-.78.8-2.07 0-2.86zM5.41 20L4 18.59l7.72-7.72 1.47 1.35L5.41 20z\"/>\n",
              "  </svg>\n",
              "      </button>\n",
              "      \n",
              "  <style>\n",
              "    .colab-df-container {\n",
              "      display:flex;\n",
              "      flex-wrap:wrap;\n",
              "      gap: 12px;\n",
              "    }\n",
              "\n",
              "    .colab-df-convert {\n",
              "      background-color: #E8F0FE;\n",
              "      border: none;\n",
              "      border-radius: 50%;\n",
              "      cursor: pointer;\n",
              "      display: none;\n",
              "      fill: #1967D2;\n",
              "      height: 32px;\n",
              "      padding: 0 0 0 0;\n",
              "      width: 32px;\n",
              "    }\n",
              "\n",
              "    .colab-df-convert:hover {\n",
              "      background-color: #E2EBFA;\n",
              "      box-shadow: 0px 1px 2px rgba(60, 64, 67, 0.3), 0px 1px 3px 1px rgba(60, 64, 67, 0.15);\n",
              "      fill: #174EA6;\n",
              "    }\n",
              "\n",
              "    [theme=dark] .colab-df-convert {\n",
              "      background-color: #3B4455;\n",
              "      fill: #D2E3FC;\n",
              "    }\n",
              "\n",
              "    [theme=dark] .colab-df-convert:hover {\n",
              "      background-color: #434B5C;\n",
              "      box-shadow: 0px 1px 3px 1px rgba(0, 0, 0, 0.15);\n",
              "      filter: drop-shadow(0px 1px 2px rgba(0, 0, 0, 0.3));\n",
              "      fill: #FFFFFF;\n",
              "    }\n",
              "  </style>\n",
              "\n",
              "      <script>\n",
              "        const buttonEl =\n",
              "          document.querySelector('#df-014de3c9-2e81-42a8-845b-0910abb7cddf button.colab-df-convert');\n",
              "        buttonEl.style.display =\n",
              "          google.colab.kernel.accessAllowed ? 'block' : 'none';\n",
              "\n",
              "        async function convertToInteractive(key) {\n",
              "          const element = document.querySelector('#df-014de3c9-2e81-42a8-845b-0910abb7cddf');\n",
              "          const dataTable =\n",
              "            await google.colab.kernel.invokeFunction('convertToInteractive',\n",
              "                                                     [key], {});\n",
              "          if (!dataTable) return;\n",
              "\n",
              "          const docLinkHtml = 'Like what you see? Visit the ' +\n",
              "            '<a target=\"_blank\" href=https://colab.research.google.com/notebooks/data_table.ipynb>data table notebook</a>'\n",
              "            + ' to learn more about interactive tables.';\n",
              "          element.innerHTML = '';\n",
              "          dataTable['output_type'] = 'display_data';\n",
              "          await google.colab.output.renderOutput(dataTable, element);\n",
              "          const docLink = document.createElement('div');\n",
              "          docLink.innerHTML = docLinkHtml;\n",
              "          element.appendChild(docLink);\n",
              "        }\n",
              "      </script>\n",
              "    </div>\n",
              "  </div>\n",
              "  "
            ],
            "text/plain": [
              "                                            sections iskeyowrd iskeyword\n",
              "0  소유와 존재의 차이의 중요성 일반적인 상식으로는 소유나 존재냐의 양자백인이 있음 수...         x        32\n",
              "1  문학에 나타난 예 소유적 실존양식과 존재적 실존양식의 차이블 쉽게 이해하기 위해서,...         x        47\n",
              "2  언어관습의 변화 존재와 소유 가운데 어느 편에 더 비중윤 두는가 하는 일반적 추이현...         x        17\n",
              "3  뒤 마레와 마르크스의 고찰 이러한 언어관습이 초래한 부정적 결과는 이미 18세기에 ...         x        25\n",
              "4  오늘날의 언어관용 뒤 UklI가 살았던 이후 200년 동안 동사륭 명사로 대치시키는...         x        22\n",
              "5  두 개념의 어원 ” 가지디{have, haben)”라는 말은 착각하기 수]운 단순한...         x        46\n",
              "6  존재에 대한 철학적 개념들 존재는 과거 수천 권 첩학서의 주제였고 \"존재란 무엇인가...         x        12\n",
              "7  소유와소비 두 십촌양식의 차이윤 명시해주는 몇 가지 간단한 시례욥 접하기 선에. 소...         x        25"
            ]
          },
          "metadata": {},
          "execution_count": 63
        }
      ]
    },
    {
      "cell_type": "code",
      "source": [
        "df_chap.plot(kind = 'line', y = 'iskeyword')"
      ],
      "metadata": {
        "colab": {
          "base_uri": "https://localhost:8080/",
          "height": 338
        },
        "id": "5d4Thc3vJA25",
        "outputId": "0b817679-0a25-4d27-b93c-9c618d5d60be"
      },
      "execution_count": null,
      "outputs": [
        {
          "output_type": "execute_result",
          "data": {
            "text/plain": [
              "<matplotlib.axes._subplots.AxesSubplot at 0x7f425780ba50>"
            ]
          },
          "metadata": {},
          "execution_count": 64
        },
        {
          "output_type": "display_data",
          "data": {
            "image/png": "[encoded data removed]",
            "text/plain": [
              "<Figure size 720x360 with 1 Axes>"
            ]
          },
          "metadata": {
            "needs_background": "light"
          }
        }
      ]
    },
    {
      "cell_type": "markdown",
      "source": [
        "1장에서는 **2번째 섹션과 6번째 섹션**에서 키워드가 많이 등장했다."
      ],
      "metadata": {
        "id": "qTUs0Dm-KKi4"
      }
    },
    {
      "cell_type": "markdown",
      "source": [
        "같은 방식으로 2장부터 9장까지 분석해보기로 했다."
      ],
      "metadata": {
        "id": "H1uia75NJeUQ"
      }
    },
    {
      "cell_type": "code",
      "source": [
        "with open(\"/content/drive/MyDrive/Colab Notebooks/2021-2 디지털기반철학큐레이팅/data/havebe/chap2sections.txt\", \"r\") as f:\n",
        "  chap2_sections = [line.strip() for line in f]\n",
        "\n",
        "df_chap = pd.DataFrame(chap2_sections, columns=['sections'])\n",
        "\n",
        "df_chap['iskeyword'] = 'x'\n",
        "\n",
        "for i in range(len(df_chap)): #2장의 핵심인 권위, 소유, 사랑, 사람을 포함한 경우를 count해서 iskeyword에 저장\n",
        "  sum = 0\n",
        "  sum += df_chap['sections'][i].count('권위')\n",
        "  sum += df_chap['sections'][i].count('소유')\n",
        "  sum += df_chap['sections'][i].count('사랑')\n",
        "  sum += df_chap['sections'][i].count('사람')\n",
        "  df_chap['iskeyword'][i] = sum\n",
        "\n",
        "df_chap.plot(kind = 'line', y = 'iskeyword')"
      ],
      "metadata": {
        "colab": {
          "base_uri": "https://localhost:8080/",
          "height": 338
        },
        "id": "lMTFZ3KTJb06",
        "outputId": "8ad6eb3b-4a85-415d-c0dd-b0aedd9803ed"
      },
      "execution_count": null,
      "outputs": [
        {
          "output_type": "execute_result",
          "data": {
            "text/plain": [
              "<matplotlib.axes._subplots.AxesSubplot at 0x7f425758e190>"
            ]
          },
          "metadata": {},
          "execution_count": 65
        },
        {
          "output_type": "display_data",
          "data": {
            "image/png": "[encoded data removed]",
            "text/plain": [
              "<Figure size 720x360 with 1 Axes>"
            ]
          },
          "metadata": {
            "needs_background": "light"
          }
        }
      ]
    },
    {
      "cell_type": "markdown",
      "source": [
        "2장에서는** 5번째 섹션**과 **8번째 섹션**에서 키워드가 많이 등장했다."
      ],
      "metadata": {
        "id": "1sj-jhw5KP4t"
      }
    },
    {
      "cell_type": "code",
      "source": [
        "with open(\"/content/drive/MyDrive/Colab Notebooks/2021-2 디지털기반철학큐레이팅/data/havebe/chap3sections.txt\", \"r\") as f:\n",
        "  chap3_sections = [line.strip() for line in f]\n",
        "\n",
        "df_chap = pd.DataFrame(chap3_sections, columns=['sections'])\n",
        "\n",
        "df_chap['iskeyword'] = 'x'\n",
        "\n",
        "for i in range(len(df_chap)): #3장의 핵심인 소유, 에크하르트, 인간, 우리를 포함한 경우를 count해서 iskeyword에 저장\n",
        "  sum = 0\n",
        "  sum += df_chap['sections'][i].count('소유')\n",
        "  sum += df_chap['sections'][i].count('에크하르트')\n",
        "  sum += df_chap['sections'][i].count('인간')\n",
        "  sum += df_chap['sections'][i].count('우리')\n",
        "  df_chap['iskeyword'][i] = sum\n",
        "\n",
        "df_chap.plot(kind = 'line', y = 'iskeyword')"
      ],
      "metadata": {
        "colab": {
          "base_uri": "https://localhost:8080/",
          "height": 338
        },
        "id": "1krOj7tNKDpi",
        "outputId": "3dc9cfe3-4c41-4137-853c-3db303cf496d"
      },
      "execution_count": null,
      "outputs": [
        {
          "output_type": "execute_result",
          "data": {
            "text/plain": [
              "<matplotlib.axes._subplots.AxesSubplot at 0x7f4257434110>"
            ]
          },
          "metadata": {},
          "execution_count": 67
        },
        {
          "output_type": "display_data",
          "data": {
            "image/png": "[encoded data removed]",
            "text/plain": [
              "<Figure size 720x360 with 1 Axes>"
            ]
          },
          "metadata": {
            "needs_background": "light"
          }
        }
      ]
    },
    {
      "cell_type": "markdown",
      "source": [
        "3장은 섹션이 5개 뿐이다. 키워드는 장의 키워드는** 4번째 섹션**에서 가장 많이 등장했다."
      ],
      "metadata": {
        "id": "XeG6VgpjK3uO"
      }
    },
    {
      "cell_type": "code",
      "source": [
        "with open(\"/content/drive/MyDrive/Colab Notebooks/2021-2 디지털기반철학큐레이팅/data/havebe/chap4sections.txt\", \"r\") as f:\n",
        "  chap4_sections = [line.strip() for line in f]\n",
        "\n",
        "df_chap = pd.DataFrame(chap4_sections, columns=['sections'])\n",
        "\n",
        "df_chap['iskeyword'] = 'x'\n",
        "\n",
        "for i in range(len(df_chap)): #4장의 핵심인 소유, 우리, 나, 사회를 포함한 경우를 count해서 iskeyword에 저장\n",
        "  sum = 0\n",
        "  sum += df_chap['sections'][i].count('소유')\n",
        "  sum += df_chap['sections'][i].count('우리')\n",
        "  sum += df_chap['sections'][i].count('나')\n",
        "  sum += df_chap['sections'][i].count('사회')\n",
        "  df_chap['iskeyword'][i] = sum\n",
        "\n",
        "df_chap.plot(kind = 'line', y = 'iskeyword')"
      ],
      "metadata": {
        "colab": {
          "base_uri": "https://localhost:8080/",
          "height": 338
        },
        "id": "fiRjfyiIKdjl",
        "outputId": "00c7905c-d7b3-4c06-a265-6ce3090eb116"
      },
      "execution_count": null,
      "outputs": [
        {
          "output_type": "execute_result",
          "data": {
            "text/plain": [
              "<matplotlib.axes._subplots.AxesSubplot at 0x7f42574bef90>"
            ]
          },
          "metadata": {},
          "execution_count": 69
        },
        {
          "output_type": "display_data",
          "data": {
            "image/png": "[encoded data removed]",
            "text/plain": [
              "<Figure size 720x360 with 1 Axes>"
            ]
          },
          "metadata": {
            "needs_background": "light"
          }
        }
      ]
    },
    {
      "cell_type": "markdown",
      "source": [
        "4장은 조금 신기한 결과가 나왔다. 4장은 **첫번째 섹션**에서 압도적으로 키워드가 많이 등장했다.:"
      ],
      "metadata": {
        "id": "7yNOotJ0LYIY"
      }
    },
    {
      "cell_type": "code",
      "source": [
        "with open(\"/content/drive/MyDrive/Colab Notebooks/2021-2 디지털기반철학큐레이팅/data/havebe/chap5sections.txt\", \"r\") as f:\n",
        "  chap5_sections = [line.strip() for line in f]\n",
        "\n",
        "df_chap = pd.DataFrame(chap5_sections, columns=['sections'])\n",
        "\n",
        "df_chap['iskeyword'] = 'x'\n",
        "\n",
        "for i in range(len(df_chap)): #5장의 핵심인 우리, 인간, 사회, 나를 포함한 경우를 count해서 iskeyword에 저장\n",
        "  sum = 0\n",
        "  sum += df_chap['sections'][i].count('우리')\n",
        "  sum += df_chap['sections'][i].count('인간')\n",
        "  sum += df_chap['sections'][i].count('사회')\n",
        "  sum += df_chap['sections'][i].count('나')\n",
        "  df_chap['iskeyword'][i] = sum\n",
        "\n",
        "df_chap.plot(kind = 'line', y = 'iskeyword')"
      ],
      "metadata": {
        "colab": {
          "base_uri": "https://localhost:8080/",
          "height": 338
        },
        "id": "6BDc7pCdKxqs",
        "outputId": "8881c08b-fccd-4ae8-c745-ed298bf77959"
      },
      "execution_count": null,
      "outputs": [
        {
          "output_type": "execute_result",
          "data": {
            "text/plain": [
              "<matplotlib.axes._subplots.AxesSubplot at 0x7f42573c6410>"
            ]
          },
          "metadata": {},
          "execution_count": 71
        },
        {
          "output_type": "display_data",
          "data": {
            "image/png": "[encoded data removed]",
            "text/plain": [
              "<Figure size 720x360 with 1 Axes>"
            ]
          },
          "metadata": {
            "needs_background": "light"
          }
        }
      ]
    },
    {
      "cell_type": "markdown",
      "source": [
        "5장의 섹션은 5개다.** 3번째 섹션과 5번째 섹션**에서 가장 많은 키워드가 등장했다. "
      ],
      "metadata": {
        "id": "m7mLCA6pLyPb"
      }
    },
    {
      "cell_type": "code",
      "source": [
        "with open(\"/content/drive/MyDrive/Colab Notebooks/2021-2 디지털기반철학큐레이팅/data/havebe/chap6sections.txt\", \"r\") as f:\n",
        "  chap6_sections = [line.strip() for line in f]\n",
        "\n",
        "df_chap = pd.DataFrame(chap6_sections, columns=['sections'])\n",
        "\n",
        "df_chap['iskeyword'] = 'x'\n",
        "\n",
        "for i in range(len(df_chap)): #6장의 핵심인 소유, 인간, 우리, 존재를 포함한 경우를 count해서 iskeyword에 저장\n",
        "  sum = 0\n",
        "  sum += df_chap['sections'][i].count('소유')\n",
        "  sum += df_chap['sections'][i].count('인간')\n",
        "  sum += df_chap['sections'][i].count('우리')\n",
        "  sum += df_chap['sections'][i].count('존재')\n",
        "  df_chap['iskeyword'][i] = sum\n",
        "\n",
        "df_chap.plot(kind = 'line', y = 'iskeyword')"
      ],
      "metadata": {
        "colab": {
          "base_uri": "https://localhost:8080/",
          "height": 338
        },
        "id": "rvIezKKmLVhi",
        "outputId": "39f4e874-48f5-4b18-e643-098e37c99816"
      },
      "execution_count": null,
      "outputs": [
        {
          "output_type": "execute_result",
          "data": {
            "text/plain": [
              "<matplotlib.axes._subplots.AxesSubplot at 0x7f425742ba90>"
            ]
          },
          "metadata": {},
          "execution_count": 74
        },
        {
          "output_type": "display_data",
          "data": {
            "image/png": "[encoded data removed]",
            "text/plain": [
              "<Figure size 720x360 with 1 Axes>"
            ]
          },
          "metadata": {
            "needs_background": "light"
          }
        }
      ]
    },
    {
      "cell_type": "markdown",
      "source": [
        "6장의 섹션은 총 6개다. 6장에서는 **2번째 섹션과 4번째 섹션**에서 가장 많은 키워드가 등장했다. 여기까지 분석하고 알아낸 사실은  프롬은 **섹션 구성을 할 때도 마지막 섹션 이전에 키워드를 적게 등장시킨다**. 9장 직전에 8장에서 딴소리를 했던 구성 방식과 유사하다. 일종의 프랙탈이 관찰되고 있다."
      ],
      "metadata": {
        "id": "WbVZLcwXMTr-"
      }
    },
    {
      "cell_type": "code",
      "source": [
        "with open(\"/content/drive/MyDrive/Colab Notebooks/2021-2 디지털기반철학큐레이팅/data/havebe/chap7sections.txt\", \"r\") as f:\n",
        "  chap7_sections = [line.strip() for line in f]\n",
        "\n",
        "df_chap = pd.DataFrame(chap7_sections, columns=['sections'])\n",
        "\n",
        "df_chap['iskeyword'] = 'x'\n",
        "\n",
        "for i in range(len(df_chap)): #7장의 핵심인 인간, 종교, 사회, 우리를 포함한 경우를 count해서 iskeyword에 저장\n",
        "  sum = 0\n",
        "  sum += df_chap['sections'][i].count('인간')\n",
        "  sum += df_chap['sections'][i].count('종교')\n",
        "  sum += df_chap['sections'][i].count('사회')\n",
        "  sum += df_chap['sections'][i].count('우리')\n",
        "  df_chap['iskeyword'][i] = sum\n",
        "\n",
        "df_chap.plot(kind = 'line', y = 'iskeyword')"
      ],
      "metadata": {
        "colab": {
          "base_uri": "https://localhost:8080/",
          "height": 338
        },
        "id": "7IR-SBrRLuTg",
        "outputId": "2556267f-a52e-4e7e-c221-62e67db3d565"
      },
      "execution_count": null,
      "outputs": [
        {
          "output_type": "execute_result",
          "data": {
            "text/plain": [
              "<matplotlib.axes._subplots.AxesSubplot at 0x7f42572c5e90>"
            ]
          },
          "metadata": {},
          "execution_count": 75
        },
        {
          "output_type": "display_data",
          "data": {
            "image/png": "[encoded data removed]",
            "text/plain": [
              "<Figure size 720x360 with 1 Axes>"
            ]
          },
          "metadata": {
            "needs_background": "light"
          }
        }
      ]
    },
    {
      "cell_type": "markdown",
      "source": [
        "7장의 총 섹션 개수는 6개다. 7장은 **2번째 섹션과 마지막 섹션**에서 키워드가 많이 등장했다. "
      ],
      "metadata": {
        "id": "91Hy_8G4M_LE"
      }
    },
    {
      "cell_type": "code",
      "source": [
        "with open(\"/content/drive/MyDrive/Colab Notebooks/2021-2 디지털기반철학큐레이팅/data/havebe/chap8sections.txt\", \"r\") as f:\n",
        "  chap8_sections = [line.strip() for line in f]\n",
        "\n",
        "df_chap = pd.DataFrame(chap8_sections, columns=['sections'])\n",
        "\n",
        "df_chap['iskeyword'] = 'x'\n",
        "\n",
        "for i in range(len(df_chap)): #8장의 핵심인 인간, 변화, 우리, 자신을 포함한 경우를 count해서 iskeyword에 저장\n",
        "  sum = 0\n",
        "  sum += df_chap['sections'][i].count('인간')\n",
        "  sum += df_chap['sections'][i].count('변화')\n",
        "  sum += df_chap['sections'][i].count('우리')\n",
        "  sum += df_chap['sections'][i].count('자신')\n",
        "  df_chap['iskeyword'][i] = sum\n",
        "\n",
        "df_chap.plot(kind = 'line', y = 'iskeyword')"
      ],
      "metadata": {
        "colab": {
          "base_uri": "https://localhost:8080/",
          "height": 339
        },
        "id": "dx4o6xVEM9VW",
        "outputId": "1fa50f6f-e2b8-4f9e-8732-132b9cee2aa3"
      },
      "execution_count": null,
      "outputs": [
        {
          "output_type": "execute_result",
          "data": {
            "text/plain": [
              "<matplotlib.axes._subplots.AxesSubplot at 0x7f42572480d0>"
            ]
          },
          "metadata": {},
          "execution_count": 76
        },
        {
          "output_type": "display_data",
          "data": {
            "image/png": "[encoded data removed]",
            "text/plain": [
              "<Figure size 720x360 with 1 Axes>"
            ]
          },
          "metadata": {
            "needs_background": "light"
          }
        }
      ]
    },
    {
      "cell_type": "markdown",
      "source": [
        "8장은 섹션이 2개 뿐이다. **첫번째 섹션**에서 두번째 섹션보다 키워드가 많이 등장했다."
      ],
      "metadata": {
        "id": "jlY6A_30N38a"
      }
    },
    {
      "cell_type": "code",
      "source": [
        "with open(\"/content/drive/MyDrive/Colab Notebooks/2021-2 디지털기반철학큐레이팅/data/havebe/chap9sections.txt\", \"r\") as f:\n",
        "  chap9_sections = [line.strip() for line in f]\n",
        "\n",
        "df_chap = pd.DataFrame(chap9_sections, columns=['sections'])\n",
        "\n",
        "df_chap['iskeyword'] = 'x'\n",
        "\n",
        "for i in range(len(df_chap)): #9장의 핵심인 사회, 인간, 우리, 관료를 포함한 경우를 count해서 iskeyword에 저장\n",
        "  sum = 0\n",
        "  sum += df_chap['sections'][i].count('사회')\n",
        "  sum += df_chap['sections'][i].count('인간')\n",
        "  sum += df_chap['sections'][i].count('우리')\n",
        "  sum += df_chap['sections'][i].count('관료')\n",
        "  df_chap['iskeyword'][i] = sum\n",
        "\n",
        "df_chap.plot(kind = 'line', y = 'iskeyword')"
      ],
      "metadata": {
        "colab": {
          "base_uri": "https://localhost:8080/",
          "height": 338
        },
        "id": "i1kAJXplNvZv",
        "outputId": "2a98cc3b-daa3-478e-8ed2-cf25b1db7187"
      },
      "execution_count": null,
      "outputs": [
        {
          "output_type": "execute_result",
          "data": {
            "text/plain": [
              "<matplotlib.axes._subplots.AxesSubplot at 0x7f42571ad9d0>"
            ]
          },
          "metadata": {},
          "execution_count": 77
        },
        {
          "output_type": "display_data",
          "data": {
            "image/png": "[encoded data removed]",
            "text/plain": [
              "<Figure size 720x360 with 1 Axes>"
            ]
          },
          "metadata": {
            "needs_background": "light"
          }
        }
      ]
    },
    {
      "cell_type": "markdown",
      "source": [
        "9장도 섹션이 두개뿐이라 유의미한 분석이 불가능했다. 9장은 8장과 반대로 **2번째 섹션**에서 더 많은 키워드가 등장했다."
      ],
      "metadata": {
        "id": "fFDQkNtPOX9U"
      }
    },
    {
      "cell_type": "markdown",
      "source": [
        "섹션 분석을 통해서 알게된 사실은 다음과 같다. \n",
        "\n",
        "\n",
        "\n",
        "1.   프롬은 각 장마다 키워드 분배 방식을 다르게 구성하고 있다.\n",
        "      1. 초반에 많이 분배하는 방식 = 1장, 4장, 6장, 8장\n",
        "      2. 중반에 많이 분배하는 방식 = 3장, 5장, 6장\n",
        "      3. 후반에 많이 분배하는 방식 = 2장, 3장, 5장, 7장, 9장\n",
        "2.   흥미로운점은 **공동체와 연관이 있었던 3장, 5장, 7장, 9**장 모두 후반부 섹션에 키워드 비중이 높다는 점이다.\n",
        "3.   또 다른 점은 분석과정에서 명시했듯이 챕터와 마찬가지로 **섹션에서도 최종 섹션 직전에 키워드 비중이 줄어드는 현상**을 볼 수 있었다.\n",
        "4.   섹션 키워드 분석을 통해 각 장의 핵심적인 섹션을 쉽게 파악할 수 있다. 그 결과 **데이터를 참고하여 각 장의 핵심 위주로 글을 빠르게 속독할 수 있다**."
      ],
      "metadata": {
        "id": "mI_5ZSOdOkpp"
      }
    },
    {
      "cell_type": "markdown",
      "source": [
        "결론\n",
        "\n",
        "\n",
        "\n",
        "1.   (프롬의 저술방식) 프롬은 전체적으로 **중반이나 후반부**에 핵심적인 내용을 서술하고 있다. 또한, 프롬은 글의 **후반부 직전에 분량을 줄이고 전체 맥락과 다른 소리를 하는 내용을 구성**하고 있다.\n",
        "2.   (키워드 간의 연관성) 『소유냐 존재냐』의 핵심 키워드는** '인간', '우리', '소유', '사회'**이다. '우리', '인간', '사회'는 **공동체**와 연관이 있는 키워드다. 흥미로운 점은 '우리', '인간', '사회'가 많이 등장하지 않은 장에서 **'존재'**를 많이 언급하고 있다. 본 연구자는 분석과정에서 **앞에 3 키워드를 '존재'가 다른 장에서 대체하고 있을 가능성**을 가설로서 제시했다. 그러나 앞에 3 키워드와 달리 **'존재'는 '공동체'와 직접적인 연관성이 보이지 않았다**. 다만 존재는 '우리', '사회'와 마찬가지로 **'소유', '인간'과 높은 연관도**를 보였다. 즉 본 텍스트에서 **'존재'는 '소유', '인간'과 비슷한 정도의 중요도와 의미를 공유하고 있을 것**으로 추측된다. \n",
        "3.   (저술의 의도 분석) 본 텍스트에서 가장 높은 분량이 배분된 챕터는 7장이다. 7장에서 프롬은 **'인간', '종교', '사회', '우리'**를 키워드로 제시하고 있다. 프롬은 3장에서도 언급했던 '종교'와 관련된 내용과 '인간'의 문제를 결합해서 소유와 존재를 대조시키고 있다. '존재'와 마찬가지로 프롬은 공동체와 높은 연관도를 보이는 '우리', '인간', '사회'를 강조하고 있다. 따라서 데이터에 기반할 때 프롬은 '소유' 중심의 문제에서 **'존재', '공동체', '인간' 중심의 문제로 전환을 의식의 전환을 촉구**하고 있다고 추측할 수 있다. \n",
        "\n"
      ],
      "metadata": {
        "id": "9X4GXc7DQ5Nd"
      }
    },
    {
      "cell_type": "code",
      "source": [
        ""
      ],
      "metadata": {
        "id": "P3jNwiTpOSnv"
      },
      "execution_count": null,
      "outputs": []
    }
  ]
}